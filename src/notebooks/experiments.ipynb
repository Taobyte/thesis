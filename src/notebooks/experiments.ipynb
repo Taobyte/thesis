{
 "cells": [
  {
   "cell_type": "code",
   "execution_count": 1,
   "id": "7b4f08c7",
   "metadata": {},
   "outputs": [],
   "source": [
    "import torch \n",
    "import lightning as L\n",
    "import torchmetrics \n"
   ]
  },
  {
   "cell_type": "code",
   "execution_count": 6,
   "id": "f7b542b4",
   "metadata": {},
   "outputs": [
    {
     "name": "stdout",
     "output_type": "stream",
     "text": [
      "tensor(1.1009)\n",
      "tensor(1.1009)\n"
     ]
    }
   ],
   "source": [
    "mse_metric = torchmetrics.MeanAbsoluteError()\n",
    "B = 32\n",
    "T = 10 \n",
    "C = 2\n",
    "input = torch.randn((B,T,C))\n",
    "output = torch.randn((B,T,C))\n",
    "print(mse_metric(input, output))\n",
    "print(torch.mean((input-output).abs()))"
   ]
  }
 ],
 "metadata": {
  "kernelspec": {
   "display_name": "probts",
   "language": "python",
   "name": "python3"
  },
  "language_info": {
   "codemirror_mode": {
    "name": "ipython",
    "version": 3
   },
   "file_extension": ".py",
   "mimetype": "text/x-python",
   "name": "python",
   "nbconvert_exporter": "python",
   "pygments_lexer": "ipython3",
   "version": "3.10.16"
  }
 },
 "nbformat": 4,
 "nbformat_minor": 5
}
