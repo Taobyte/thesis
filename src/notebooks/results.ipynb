{
 "cells": [
  {
   "cell_type": "code",
   "execution_count": 24,
   "id": "5f6aad87",
   "metadata": {},
   "outputs": [],
   "source": [
    "import os\n",
    "import json\n",
    "import yaml\n",
    "import pandas as pd\n",
    "import numpy as np\n",
    "import wandb\n",
    "\n",
    "from tqdm import tqdm\n",
    "from collections import defaultdict\n",
    "from typing import Tuple\n",
    "from pathlib import Path\n",
    "from src.constants import MODELS, BASELINES, DL\n",
    "\n",
    "os.environ.setdefault(\n",
    "    \"WANDB_CACHE_DIR\", \"C:/Users/cleme/ETH/Master/Thesis/ns-forecast/artifacts\"\n",
    ")\n",
    "\n",
    "\n",
    "def model_to_lbw(\n",
    "    dataset: str,\n",
    "    model: str,\n",
    "    params_path: str = \"C:/Users/cleme/ETH/Master/Thesis/ns-forecast/config/params\",\n",
    ") -> int:\n",
    "    yaml_file = Path(params_path) / model / dataset / \"lbw.yaml\"\n",
    "    if not yaml_file.is_file():\n",
    "        raise FileNotFoundError(f\"Missing file: {yaml_file}\")\n",
    "    with yaml_file.open(\"r\", encoding=\"utf-8\") as f:\n",
    "        data = yaml.safe_load(f) or {}\n",
    "    return int(data[\"look_back_window\"])\n",
    "\n",
    "\n",
    "def get_metrics(\n",
    "    runs: list,\n",
    "    metrics_to_keep: list[str] = [\n",
    "        \"MSE\",\n",
    "        \"MAE\",\n",
    "        \"DIRACC\",\n",
    "        \"MASE\",\n",
    "        \"ND\",\n",
    "        \"NRMSE\",\n",
    "        \"SMAPE\",\n",
    "        \"TMAE\",\n",
    "        \"TMSE\",\n",
    "    ],\n",
    "    artifacts_path: str = \"C:/Users/cleme/ETH/Master/Thesis/ns-forecast/artifacts\",\n",
    ") -> Tuple[dict, dict, dict]:\n",
    "    \"\"\"\n",
    "    Preprocess the run metrics for the wandb training runs in the runs list.\n",
    "    Returns two dataframes, the first storing the mean and the second the standard deviation for\n",
    "    each metric in the METRICS list defined in src/constants.py\n",
    "\n",
    "    returns: - raw metric dictionary with keys 'model' -> 'look_back_window' -> 'prediction_window' -> 'fold_nr' -> 'seed'\n",
    "             - mean dict, taking mean over folds and seeds  keys = 'model' -> 'look_back_window' -> 'prediction_window'\n",
    "             - std dict, taking std over folds and seeds keys = 'model' -> 'look_back_window' -> 'prediction_window'\n",
    "    \"\"\"\n",
    "\n",
    "    metrics = defaultdict(\n",
    "        lambda: defaultdict(\n",
    "            lambda: defaultdict(lambda: defaultdict(lambda: defaultdict(dict)))\n",
    "        )\n",
    "    )\n",
    "    model_run_counts = defaultdict(int)\n",
    "    for run in tqdm(runs):\n",
    "        config = run.config\n",
    "        model_name = config[\"model\"][\"name\"]\n",
    "        dataset_name = config[\"dataset\"][\"name\"]\n",
    "        is_global = (\n",
    "            dataset_name in [\"dalia\", \"wildppg\", \"ieee\"]\n",
    "        ) or dataset_name == \"lmitbih\"\n",
    "        look_back_window = config[\"look_back_window\"]\n",
    "        prediction_window = config[\"prediction_window\"]\n",
    "        seed = config[\"seed\"]\n",
    "        if is_global:\n",
    "            fold = config[\"folds\"][\"fold_nr\"]\n",
    "            summary = run.summary._json_dict\n",
    "            filtered_summary = {k: summary[k] for k in summary if k in metrics_to_keep}\n",
    "            metrics[model_name][look_back_window][prediction_window][fold][seed] = (\n",
    "                filtered_summary\n",
    "            )\n",
    "        else:\n",
    "            raw_artifact = next(\n",
    "                (a for a in run.logged_artifacts() if \"raw_metrics\" in a.name), None\n",
    "            )\n",
    "            if raw_artifact is None:\n",
    "                print(f\"No raw_metrics table for run {run.name}\")\n",
    "                continue\n",
    "            else:\n",
    "                art_dir = Path(artifacts_path) / str(raw_artifact.name).replace(\n",
    "                    \":\", \"-\"\n",
    "                )\n",
    "\n",
    "                if not os.path.exists(art_dir):\n",
    "                    raw_artifact.download()\n",
    "\n",
    "                json_path = art_dir / \"raw_metrics.table.json\"\n",
    "                with open(json_path, \"r\", encoding=\"utf-8\") as f:\n",
    "                    obj = json.load(f)\n",
    "                data = obj[\"data\"]\n",
    "                cols = obj[\"columns\"]\n",
    "                df = pd.DataFrame(data, columns=cols)\n",
    "                for fold, row in df.iterrows():\n",
    "                    d = row.to_dict()\n",
    "                    metrics[model_name][look_back_window][prediction_window][fold][\n",
    "                        seed\n",
    "                    ] = d\n",
    "\n",
    "        model_run_counts[model_name] += 1\n",
    "\n",
    "    for k, v in model_run_counts.items():\n",
    "        print(f\"Model {k}: {v}\")\n",
    "\n",
    "    processed_metrics_mean = defaultdict(lambda: defaultdict(lambda: defaultdict(dict)))\n",
    "    processed_metrics_std = defaultdict(lambda: defaultdict(lambda: defaultdict(dict)))\n",
    "    for model, v in metrics.items():\n",
    "        for lbw, w in v.items():\n",
    "            for pw, fold_dict in w.items():\n",
    "                metric_list = defaultdict(list)\n",
    "                for fold_nr, seed_dict in fold_dict.items():\n",
    "                    for seed, metric_dict in seed_dict.items():\n",
    "                        for metric_name, metric_value in metric_dict.items():\n",
    "                            if metric_name in metrics_to_keep:\n",
    "                                if isinstance(metric_value, str):\n",
    "                                    print(\n",
    "                                        f\"VALUE IS STRING {metric_value} for model {model} lbw {lbw} pw {pw} seed {seed} fold {fold_nr}\"\n",
    "                                    )\n",
    "                                elif np.isinf(metric_value):\n",
    "                                    print(\n",
    "                                        f\"VALUE IS INF {metric_value} for model {model} lbw {lbw} pw {pw} seed {seed} fold {fold_nr}\"\n",
    "                                    )\n",
    "                                elif np.isnan(metric_value):\n",
    "                                    print(\n",
    "                                        f\"VALUE IS NAN {metric_value} for model {model} lbw {lbw} pw {pw} seed {seed} fold {fold_nr}\"\n",
    "                                    )\n",
    "                                else:\n",
    "                                    metric_list[metric_name].append(metric_value)\n",
    "\n",
    "                mean = {\n",
    "                    metric_name: float(np.mean(v))\n",
    "                    for metric_name, v in metric_list.items()\n",
    "                }\n",
    "                std = {\n",
    "                    metric_name: float(np.std(v))\n",
    "                    for metric_name, v in metric_list.items()\n",
    "                }\n",
    "                processed_metrics_mean[model][lbw][pw] = mean\n",
    "                processed_metrics_std[model][lbw][pw] = std\n",
    "    return metrics, processed_metrics_mean, processed_metrics_std\n",
    "\n",
    "\n",
    "def get_runs(\n",
    "    dataset: str,\n",
    "    look_back_window: list[int],\n",
    "    prediction_window: list[int],\n",
    "    models: list[str],\n",
    "    start_time: str = \"2025-6-12\",\n",
    "    feature: str = \"mean\",\n",
    "    local_norm_endo_only: bool = False,\n",
    "    local_norm: str = \"local_z\",\n",
    "    predictions: bool = False,\n",
    ") -> list:\n",
    "    conditions = [\n",
    "        {\"config.use_prediction_callback\": predictions},\n",
    "        {\"config.local_norm_endo_only\": local_norm_endo_only},\n",
    "        {\"config.feature.name\": {\"$in\": [feature]}},\n",
    "        {\"config.dataset.name\": {\"$in\": [dataset]}},\n",
    "        {\"config.look_back_window\": {\"$in\": look_back_window}},\n",
    "        {\"config.prediction_window\": {\"$in\": prediction_window}},\n",
    "        {\"config.model.name\": {\"$in\": models}},\n",
    "        {\"config.local_norm\": {\"$in\": [local_norm]}},\n",
    "        {\"state\": \"finished\"},\n",
    "        {\"created_at\": {\"$gte\": start_time}},\n",
    "    ]\n",
    "\n",
    "    filters = {\"$and\": conditions}\n",
    "\n",
    "    api = wandb.Api()\n",
    "    runs = api.runs(\"c_keusch/thesis\", filters=filters)\n",
    "    runs = list(runs)\n",
    "    print(f\"Found {len(runs)} runs.\")\n",
    "\n",
    "    # assert len(runs) > 0, \"No runs were found!\"\n",
    "    # assert len(runs) % 3 == 0, \"Attention, length of runs is not divisible by 3!\"\n",
    "    return runs\n",
    "\n"
   ]
  },
  {
   "cell_type": "code",
   "execution_count": 69,
   "id": "60fadc1b",
   "metadata": {},
   "outputs": [
    {
     "name": "stdout",
     "output_type": "stream",
     "text": [
      "Found 42 runs.\n"
     ]
    },
    {
     "name": "stderr",
     "output_type": "stream",
     "text": [
      "100%|██████████| 42/42 [00:00<?, ?it/s]\n"
     ]
    },
    {
     "name": "stdout",
     "output_type": "stream",
     "text": [
      "Model xgboost: 3\n",
      "Model linear: 3\n",
      "Model simpletm: 3\n",
      "Model timesnet: 3\n",
      "Model adamshyper: 3\n",
      "Model patchtst: 3\n",
      "Model nbeatsx: 3\n",
      "Model gpt4ts: 3\n",
      "Model timexer: 3\n",
      "Model mlp: 3\n",
      "Model gp: 3\n",
      "Model kalmanfilter: 3\n",
      "Model mole: 3\n",
      "Model msar: 3\n",
      "Found 42 runs.\n"
     ]
    },
    {
     "name": "stderr",
     "output_type": "stream",
     "text": [
      "100%|██████████| 42/42 [00:00<?, ?it/s]"
     ]
    },
    {
     "name": "stdout",
     "output_type": "stream",
     "text": [
      "Model linear: 3\n",
      "Model xgboost: 3\n",
      "Model simpletm: 3\n",
      "Model timesnet: 3\n",
      "Model adamshyper: 3\n",
      "Model patchtst: 3\n",
      "Model msar: 3\n",
      "Model timexer: 3\n",
      "Model gpt4ts: 3\n",
      "Model nbeatsx: 3\n",
      "Model mole: 3\n",
      "Model kalmanfilter: 3\n",
      "Model gp: 3\n",
      "Model mlp: 3\n"
     ]
    },
    {
     "name": "stderr",
     "output_type": "stream",
     "text": [
      "\n"
     ]
    },
    {
     "name": "stdout",
     "output_type": "stream",
     "text": [
      "Found 42 runs.\n"
     ]
    },
    {
     "name": "stderr",
     "output_type": "stream",
     "text": [
      "100%|██████████| 42/42 [00:00<00:00, 27452.20it/s]"
     ]
    },
    {
     "name": "stdout",
     "output_type": "stream",
     "text": [
      "Model linear: 3\n",
      "Model xgboost: 3\n",
      "Model timesnet: 3\n",
      "Model simpletm: 3\n",
      "Model adamshyper: 3\n",
      "Model patchtst: 3\n",
      "Model msar: 3\n",
      "Model timexer: 3\n",
      "Model gpt4ts: 3\n",
      "Model nbeatsx: 3\n",
      "Model mole: 3\n",
      "Model kalmanfilter: 3\n",
      "Model mlp: 3\n",
      "Model gp: 3\n"
     ]
    },
    {
     "name": "stderr",
     "output_type": "stream",
     "text": [
      "\n"
     ]
    },
    {
     "name": "stdout",
     "output_type": "stream",
     "text": [
      "Found 42 runs.\n"
     ]
    },
    {
     "name": "stderr",
     "output_type": "stream",
     "text": [
      "100%|██████████| 42/42 [00:00<?, ?it/s]"
     ]
    },
    {
     "name": "stdout",
     "output_type": "stream",
     "text": [
      "Model xgboost: 3\n",
      "Model linear: 3\n",
      "Model timesnet: 3\n",
      "Model simpletm: 3\n",
      "Model adamshyper: 3\n",
      "Model patchtst: 3\n",
      "Model msar: 3\n",
      "Model timexer: 3\n",
      "Model mole: 3\n",
      "Model gpt4ts: 3\n",
      "Model nbeatsx: 3\n",
      "Model kalmanfilter: 3\n",
      "Model gp: 3\n",
      "Model mlp: 3\n"
     ]
    },
    {
     "name": "stderr",
     "output_type": "stream",
     "text": [
      "\n"
     ]
    },
    {
     "name": "stdout",
     "output_type": "stream",
     "text": [
      "Found 42 runs.\n"
     ]
    },
    {
     "name": "stderr",
     "output_type": "stream",
     "text": [
      "100%|██████████| 42/42 [00:00<00:00, 2673.68it/s]"
     ]
    },
    {
     "name": "stdout",
     "output_type": "stream",
     "text": [
      "Model linear: 3\n",
      "Model xgboost: 3\n",
      "Model timesnet: 3\n",
      "Model simpletm: 3\n",
      "Model adamshyper: 3\n",
      "Model patchtst: 3\n",
      "Model timexer: 3\n",
      "Model gpt4ts: 3\n",
      "Model nbeatsx: 3\n",
      "Model msar: 3\n",
      "Model mole: 3\n",
      "Model kalmanfilter: 3\n",
      "Model mlp: 3\n",
      "Model gp: 3\n"
     ]
    },
    {
     "name": "stderr",
     "output_type": "stream",
     "text": [
      "\n"
     ]
    },
    {
     "name": "stdout",
     "output_type": "stream",
     "text": [
      "Found 42 runs.\n"
     ]
    },
    {
     "name": "stderr",
     "output_type": "stream",
     "text": [
      "100%|██████████| 42/42 [00:00<?, ?it/s]"
     ]
    },
    {
     "name": "stdout",
     "output_type": "stream",
     "text": [
      "Model xgboost: 3\n",
      "Model linear: 3\n",
      "Model gpt4ts: 3\n",
      "Model simpletm: 3\n",
      "Model nbeatsx: 3\n",
      "Model timesnet: 3\n",
      "Model timexer: 3\n",
      "Model patchtst: 3\n",
      "Model adamshyper: 3\n",
      "Model mlp: 3\n",
      "Model mole: 3\n",
      "Model msar: 3\n",
      "Model kalmanfilter: 3\n",
      "Model gp: 3\n"
     ]
    },
    {
     "name": "stderr",
     "output_type": "stream",
     "text": [
      "\n"
     ]
    },
    {
     "name": "stdout",
     "output_type": "stream",
     "text": [
      "Found 42 runs.\n"
     ]
    },
    {
     "name": "stderr",
     "output_type": "stream",
     "text": [
      "100%|██████████| 42/42 [00:00<00:00, 26526.24it/s]"
     ]
    },
    {
     "name": "stdout",
     "output_type": "stream",
     "text": [
      "Model linear: 3\n",
      "Model xgboost: 3\n",
      "Model timesnet: 3\n",
      "Model simpletm: 3\n",
      "Model adamshyper: 3\n",
      "Model patchtst: 3\n",
      "Model mole: 3\n",
      "Model msar: 3\n",
      "Model timexer: 3\n",
      "Model kalmanfilter: 3\n",
      "Model gpt4ts: 3\n",
      "Model nbeatsx: 3\n",
      "Model gp: 3\n",
      "Model mlp: 3\n"
     ]
    },
    {
     "name": "stderr",
     "output_type": "stream",
     "text": [
      "\n"
     ]
    },
    {
     "name": "stdout",
     "output_type": "stream",
     "text": [
      "Found 42 runs.\n"
     ]
    },
    {
     "name": "stderr",
     "output_type": "stream",
     "text": [
      "100%|██████████| 42/42 [00:00<?, ?it/s]"
     ]
    },
    {
     "name": "stdout",
     "output_type": "stream",
     "text": [
      "Model xgboost: 3\n",
      "Model linear: 3\n",
      "Model timesnet: 3\n",
      "Model simpletm: 3\n",
      "Model adamshyper: 3\n",
      "Model patchtst: 3\n",
      "Model mole: 3\n",
      "Model msar: 3\n",
      "Model timexer: 3\n",
      "Model gpt4ts: 3\n",
      "Model kalmanfilter: 3\n",
      "Model nbeatsx: 3\n",
      "Model mlp: 3\n",
      "Model gp: 3\n"
     ]
    },
    {
     "name": "stderr",
     "output_type": "stream",
     "text": [
      "\n"
     ]
    },
    {
     "name": "stdout",
     "output_type": "stream",
     "text": [
      "Found 42 runs.\n"
     ]
    },
    {
     "name": "stderr",
     "output_type": "stream",
     "text": [
      "100%|██████████| 42/42 [00:00<?, ?it/s]"
     ]
    },
    {
     "name": "stdout",
     "output_type": "stream",
     "text": [
      "Model xgboost: 3\n",
      "Model linear: 3\n",
      "Model timesnet: 3\n",
      "Model simpletm: 3\n",
      "Model adamshyper: 3\n",
      "Model patchtst: 3\n",
      "Model timexer: 3\n",
      "Model msar: 3\n",
      "Model mole: 3\n",
      "Model gpt4ts: 3\n",
      "Model kalmanfilter: 3\n",
      "Model nbeatsx: 3\n",
      "Model gp: 3\n",
      "Model mlp: 3\n"
     ]
    },
    {
     "name": "stderr",
     "output_type": "stream",
     "text": [
      "\n"
     ]
    },
    {
     "name": "stdout",
     "output_type": "stream",
     "text": [
      "Found 42 runs.\n"
     ]
    },
    {
     "name": "stderr",
     "output_type": "stream",
     "text": [
      "100%|██████████| 42/42 [00:00<?, ?it/s]"
     ]
    },
    {
     "name": "stdout",
     "output_type": "stream",
     "text": [
      "Model xgboost: 3\n",
      "Model linear: 3\n",
      "Model timesnet: 3\n",
      "Model simpletm: 3\n",
      "Model adamshyper: 3\n",
      "Model patchtst: 3\n",
      "Model timexer: 3\n",
      "Model msar: 3\n",
      "Model mole: 3\n",
      "Model kalmanfilter: 3\n",
      "Model gpt4ts: 3\n",
      "Model nbeatsx: 3\n",
      "Model gp: 3\n",
      "Model mlp: 3\n"
     ]
    },
    {
     "name": "stderr",
     "output_type": "stream",
     "text": [
      "\n"
     ]
    },
    {
     "name": "stdout",
     "output_type": "stream",
     "text": [
      "Found 42 runs.\n"
     ]
    },
    {
     "name": "stderr",
     "output_type": "stream",
     "text": [
      "100%|██████████| 42/42 [00:00<?, ?it/s]"
     ]
    },
    {
     "name": "stdout",
     "output_type": "stream",
     "text": [
      "Model linear: 3\n",
      "Model xgboost: 3\n",
      "Model mole: 3\n",
      "Model msar: 3\n",
      "Model timesnet: 3\n",
      "Model simpletm: 3\n",
      "Model adamshyper: 3\n",
      "Model patchtst: 3\n",
      "Model timexer: 3\n",
      "Model gpt4ts: 3\n",
      "Model nbeatsx: 3\n",
      "Model mlp: 3\n",
      "Model kalmanfilter: 3\n",
      "Model gp: 3\n"
     ]
    },
    {
     "name": "stderr",
     "output_type": "stream",
     "text": [
      "\n"
     ]
    },
    {
     "name": "stdout",
     "output_type": "stream",
     "text": [
      "Found 42 runs.\n"
     ]
    },
    {
     "name": "stderr",
     "output_type": "stream",
     "text": [
      "100%|██████████| 42/42 [00:00<00:00, 7372.59it/s]"
     ]
    },
    {
     "name": "stdout",
     "output_type": "stream",
     "text": [
      "Model linear: 3\n",
      "Model xgboost: 3\n",
      "Model mole: 3\n",
      "Model msar: 3\n",
      "Model kalmanfilter: 3\n",
      "Model gp: 3\n",
      "Model mlp: 3\n",
      "Model timesnet: 3\n",
      "Model simpletm: 3\n",
      "Model adamshyper: 3\n",
      "Model patchtst: 3\n",
      "Model timexer: 3\n",
      "Model gpt4ts: 3\n",
      "Model nbeatsx: 3\n"
     ]
    },
    {
     "name": "stderr",
     "output_type": "stream",
     "text": [
      "\n"
     ]
    },
    {
     "name": "stdout",
     "output_type": "stream",
     "text": [
      "Found 42 runs.\n"
     ]
    },
    {
     "name": "stderr",
     "output_type": "stream",
     "text": [
      "100%|██████████| 42/42 [00:00<?, ?it/s]"
     ]
    },
    {
     "name": "stdout",
     "output_type": "stream",
     "text": [
      "Model linear: 3\n",
      "Model xgboost: 3\n",
      "Model mole: 3\n",
      "Model msar: 3\n",
      "Model kalmanfilter: 3\n",
      "Model gp: 3\n",
      "Model mlp: 3\n",
      "Model timesnet: 3\n",
      "Model simpletm: 3\n",
      "Model adamshyper: 3\n",
      "Model patchtst: 3\n",
      "Model timexer: 3\n",
      "Model gpt4ts: 3\n",
      "Model nbeatsx: 3\n"
     ]
    },
    {
     "name": "stderr",
     "output_type": "stream",
     "text": [
      "\n"
     ]
    },
    {
     "name": "stdout",
     "output_type": "stream",
     "text": [
      "Found 42 runs.\n"
     ]
    },
    {
     "name": "stderr",
     "output_type": "stream",
     "text": [
      "100%|██████████| 42/42 [00:00<00:00, 7879.09it/s]"
     ]
    },
    {
     "name": "stdout",
     "output_type": "stream",
     "text": [
      "Model linear: 3\n",
      "Model xgboost: 3\n",
      "Model mole: 3\n",
      "Model msar: 3\n",
      "Model kalmanfilter: 3\n",
      "Model gp: 3\n",
      "Model mlp: 3\n",
      "Model timesnet: 3\n",
      "Model simpletm: 3\n",
      "Model adamshyper: 3\n",
      "Model patchtst: 3\n",
      "Model timexer: 3\n",
      "Model gpt4ts: 3\n",
      "Model nbeatsx: 3\n"
     ]
    },
    {
     "name": "stderr",
     "output_type": "stream",
     "text": [
      "\n"
     ]
    },
    {
     "name": "stdout",
     "output_type": "stream",
     "text": [
      "Found 42 runs.\n"
     ]
    },
    {
     "name": "stderr",
     "output_type": "stream",
     "text": [
      "100%|██████████| 42/42 [00:00<00:00, 17786.83it/s]"
     ]
    },
    {
     "name": "stdout",
     "output_type": "stream",
     "text": [
      "Model linear: 3\n",
      "Model xgboost: 3\n",
      "Model mole: 3\n",
      "Model msar: 3\n",
      "Model kalmanfilter: 3\n",
      "Model gp: 3\n",
      "Model mlp: 3\n",
      "Model timesnet: 3\n",
      "Model simpletm: 3\n",
      "Model adamshyper: 3\n",
      "Model patchtst: 3\n",
      "Model timexer: 3\n",
      "Model gpt4ts: 3\n",
      "Model nbeatsx: 3\n"
     ]
    },
    {
     "name": "stderr",
     "output_type": "stream",
     "text": [
      "\n"
     ]
    }
   ],
   "source": [
    "datasets = [\"dalia\", \"wildppg\", \"ieee\"]\n",
    "look_back_window = [30]\n",
    "prediction_window = [3]\n",
    "models = MODELS\n",
    "start_time = \"2025-10-28\"\n",
    "feature = \"mean\"\n",
    "local_norms = [\"local_z\", \"difference\"]\n",
    "dataset_metrics = {} \n",
    "\n",
    "for dataset in datasets:\n",
    "    metrics = {}\n",
    "    _, global_only_metrics, _ = get_metrics(get_runs(dataset=dataset, look_back_window=look_back_window, prediction_window=prediction_window, models=models, feature=feature, local_norm_endo_only=False, local_norm=\"lnone\",start_time=start_time))\n",
    "    metrics[\"global_only\"] = global_only_metrics\n",
    "    for local_norm in local_norms:\n",
    "        for local_norm_endo_only in [True, False]:\n",
    "            _, metr, _ = get_metrics(get_runs(dataset=dataset, look_back_window=look_back_window, prediction_window=prediction_window, models=models, feature=feature, local_norm_endo_only=local_norm_endo_only, local_norm=local_norm, start_time=start_time))\n",
    "            metrics[f\"{local_norm}_{local_norm_endo_only}\"] = metr\n",
    "    dataset_metrics[dataset] = metrics"
   ]
  },
  {
   "cell_type": "code",
   "execution_count": 74,
   "id": "79aca377",
   "metadata": {},
   "outputs": [
    {
     "data": {
      "text/plain": [
       "(7, 5)"
      ]
     },
     "execution_count": 74,
     "metadata": {},
     "output_type": "execute_result"
    }
   ],
   "source": [
    "experiments = [\"global_only\", \"local_z_True\", \"local_z_False\", \"difference_True\", \"difference_False\"]\n",
    "\n",
    "def compute_matrix(models: list[str], metrics: dict):\n",
    "    all_model_values: list[list[float]] = []\n",
    "    for model in models:\n",
    "        values: list[float] = []\n",
    "        for experiment in experiments:\n",
    "            values.append(metrics[experiment][model][30][3][\"MASE\"])\n",
    "        all_model_values.append(values)\n",
    "    \n",
    "    return np.array(all_model_values)\n",
    "\n",
    "compute_matrix(BASELINES, metrics).shape"
   ]
  },
  {
   "cell_type": "code",
   "execution_count": 91,
   "id": "4372060c",
   "metadata": {},
   "outputs": [
    {
     "name": "stdout",
     "output_type": "stream",
     "text": [
      "0.7567278544108073 0.9697676440080008\n"
     ]
    },
    {
     "data": {
      "application/vnd.plotly.v1+json": {
       "config": {
        "plotlyServerURL": "https://plot.ly"
       },
       "data": [
        {
         "hovertemplate": "Model: %{y}<br>Norm: %{x}<br>MAE: %{z}<extra></extra>",
         "showscale": true,
         "type": "heatmap",
         "x": [
          "GZ",
          "GZ + Inst(Endo)",
          "GZ + Inst",
          "GZ + Diff(Endo)",
          "GZ + Diff"
         ],
         "xaxis": "x",
         "y": [
          "LR",
          "MSAR",
          "MoLE",
          "KF",
          "XGB",
          "GP",
          "MLP"
         ],
         "yaxis": "y",
         "z": {
          "bdata": "q6qq6ses8D+rqqpKCOzoP1VVVfWejug/AAAAAG5A6z8AAABgmSDqP1VVVVVPsBBAAAAAQApZ/D8AAABAgPn8PwAAAFCGGwNAq6qqigGL6D9VVVWV7PDuPwAAAOAVx+4/VVVVVRec7j9VVVWVnsfrP6uqqoojlOs/VVVV1fo36z9VVVWVpzbrPwAAAECexeo/VVVVdRiy6j9VVVVV/Y7qP6uqqoqutu4/VVVVlRh76T+rqqoqcnzpPwAAAGDX7ug/q6qqSlrw6D9VVVX19DPrPwAAACCU9Os/q6qqyt/q6z8AAABggz7qPwAAAGDHCuo/q6qqCpNe7D+rqqqqPhvqPwAAAOB5ouo/VVVVtQvd6D8AAACA/sfoPw==",
          "dtype": "f8",
          "shape": "7, 5"
         },
         "zmax": 0.9697676440080008,
         "zmin": 0.7567278544108073
        },
        {
         "hovertemplate": "Model: %{y}<br>Norm: %{x}<br>MAE: %{z}<extra></extra>",
         "showscale": true,
         "type": "heatmap",
         "x": [
          "GZ",
          "GZ + Inst(Endo)",
          "GZ + Inst",
          "GZ + Diff(Endo)",
          "GZ + Diff"
         ],
         "xaxis": "x2",
         "y": [
          "TNET",
          "STM",
          "AMSH",
          "PTST",
          "TXER",
          "GPT",
          "NBX"
         ],
         "yaxis": "y2",
         "z": {
          "bdata": "AAAAIO9B7T+rqqrK1e/pPwAAAABUBuo/q6qqSjny7j+rqqqqjf3vP6uqqor0Ouk/AAAA4Gn56T8AAACAPp3pP1VVVdXwk+g/AAAAYE+e6D8AAABAouLqPwAAAEAuDOs/q6qqCkMX6z+rqqpKvorqP1VVVZUBtuo/AAAAYNJa7T9VVVUVlnLqP6uqqgqLe+o/AAAAgPRM6j8AAADgVdXqP1VVVRWzoO4/AAAAQPZU6j+rqqrKvGPqP6uqqmrApek/q6qqSkkn6j9VVVUV9Z/sP6uqqqryfOk/AAAAwBqg6T+rqqrqWc/vP6uqqup8qO4/AAAAAPoM6T8AAAAA9JroP6uqqso/sug/VVVVleNV6D9VVVVVHTfoPw==",
          "dtype": "f8",
          "shape": "7, 5"
         },
         "zmax": 0.9697676440080008,
         "zmin": 0.7567278544108073
        }
       ],
       "layout": {
        "annotations": [
         {
          "font": {
           "size": 16
          },
          "showarrow": false,
          "text": "WildPPG",
          "x": 0.5,
          "xanchor": "center",
          "xref": "paper",
          "y": 1,
          "yanchor": "bottom",
          "yref": "paper"
         }
        ],
        "height": 800,
        "margin": {
         "b": 40,
         "l": 60,
         "r": 40,
         "t": 80
        },
        "template": {
         "data": {
          "bar": [
           {
            "error_x": {
             "color": "#2a3f5f"
            },
            "error_y": {
             "color": "#2a3f5f"
            },
            "marker": {
             "line": {
              "color": "white",
              "width": 0.5
             },
             "pattern": {
              "fillmode": "overlay",
              "size": 10,
              "solidity": 0.2
             }
            },
            "type": "bar"
           }
          ],
          "barpolar": [
           {
            "marker": {
             "line": {
              "color": "white",
              "width": 0.5
             },
             "pattern": {
              "fillmode": "overlay",
              "size": 10,
              "solidity": 0.2
             }
            },
            "type": "barpolar"
           }
          ],
          "carpet": [
           {
            "aaxis": {
             "endlinecolor": "#2a3f5f",
             "gridcolor": "#C8D4E3",
             "linecolor": "#C8D4E3",
             "minorgridcolor": "#C8D4E3",
             "startlinecolor": "#2a3f5f"
            },
            "baxis": {
             "endlinecolor": "#2a3f5f",
             "gridcolor": "#C8D4E3",
             "linecolor": "#C8D4E3",
             "minorgridcolor": "#C8D4E3",
             "startlinecolor": "#2a3f5f"
            },
            "type": "carpet"
           }
          ],
          "choropleth": [
           {
            "colorbar": {
             "outlinewidth": 0,
             "ticks": ""
            },
            "type": "choropleth"
           }
          ],
          "contour": [
           {
            "colorbar": {
             "outlinewidth": 0,
             "ticks": ""
            },
            "colorscale": [
             [
              0,
              "#0d0887"
             ],
             [
              0.1111111111111111,
              "#46039f"
             ],
             [
              0.2222222222222222,
              "#7201a8"
             ],
             [
              0.3333333333333333,
              "#9c179e"
             ],
             [
              0.4444444444444444,
              "#bd3786"
             ],
             [
              0.5555555555555556,
              "#d8576b"
             ],
             [
              0.6666666666666666,
              "#ed7953"
             ],
             [
              0.7777777777777778,
              "#fb9f3a"
             ],
             [
              0.8888888888888888,
              "#fdca26"
             ],
             [
              1,
              "#f0f921"
             ]
            ],
            "type": "contour"
           }
          ],
          "contourcarpet": [
           {
            "colorbar": {
             "outlinewidth": 0,
             "ticks": ""
            },
            "type": "contourcarpet"
           }
          ],
          "heatmap": [
           {
            "colorbar": {
             "outlinewidth": 0,
             "ticks": ""
            },
            "colorscale": [
             [
              0,
              "#0d0887"
             ],
             [
              0.1111111111111111,
              "#46039f"
             ],
             [
              0.2222222222222222,
              "#7201a8"
             ],
             [
              0.3333333333333333,
              "#9c179e"
             ],
             [
              0.4444444444444444,
              "#bd3786"
             ],
             [
              0.5555555555555556,
              "#d8576b"
             ],
             [
              0.6666666666666666,
              "#ed7953"
             ],
             [
              0.7777777777777778,
              "#fb9f3a"
             ],
             [
              0.8888888888888888,
              "#fdca26"
             ],
             [
              1,
              "#f0f921"
             ]
            ],
            "type": "heatmap"
           }
          ],
          "histogram": [
           {
            "marker": {
             "pattern": {
              "fillmode": "overlay",
              "size": 10,
              "solidity": 0.2
             }
            },
            "type": "histogram"
           }
          ],
          "histogram2d": [
           {
            "colorbar": {
             "outlinewidth": 0,
             "ticks": ""
            },
            "colorscale": [
             [
              0,
              "#0d0887"
             ],
             [
              0.1111111111111111,
              "#46039f"
             ],
             [
              0.2222222222222222,
              "#7201a8"
             ],
             [
              0.3333333333333333,
              "#9c179e"
             ],
             [
              0.4444444444444444,
              "#bd3786"
             ],
             [
              0.5555555555555556,
              "#d8576b"
             ],
             [
              0.6666666666666666,
              "#ed7953"
             ],
             [
              0.7777777777777778,
              "#fb9f3a"
             ],
             [
              0.8888888888888888,
              "#fdca26"
             ],
             [
              1,
              "#f0f921"
             ]
            ],
            "type": "histogram2d"
           }
          ],
          "histogram2dcontour": [
           {
            "colorbar": {
             "outlinewidth": 0,
             "ticks": ""
            },
            "colorscale": [
             [
              0,
              "#0d0887"
             ],
             [
              0.1111111111111111,
              "#46039f"
             ],
             [
              0.2222222222222222,
              "#7201a8"
             ],
             [
              0.3333333333333333,
              "#9c179e"
             ],
             [
              0.4444444444444444,
              "#bd3786"
             ],
             [
              0.5555555555555556,
              "#d8576b"
             ],
             [
              0.6666666666666666,
              "#ed7953"
             ],
             [
              0.7777777777777778,
              "#fb9f3a"
             ],
             [
              0.8888888888888888,
              "#fdca26"
             ],
             [
              1,
              "#f0f921"
             ]
            ],
            "type": "histogram2dcontour"
           }
          ],
          "mesh3d": [
           {
            "colorbar": {
             "outlinewidth": 0,
             "ticks": ""
            },
            "type": "mesh3d"
           }
          ],
          "parcoords": [
           {
            "line": {
             "colorbar": {
              "outlinewidth": 0,
              "ticks": ""
             }
            },
            "type": "parcoords"
           }
          ],
          "pie": [
           {
            "automargin": true,
            "type": "pie"
           }
          ],
          "scatter": [
           {
            "fillpattern": {
             "fillmode": "overlay",
             "size": 10,
             "solidity": 0.2
            },
            "type": "scatter"
           }
          ],
          "scatter3d": [
           {
            "line": {
             "colorbar": {
              "outlinewidth": 0,
              "ticks": ""
             }
            },
            "marker": {
             "colorbar": {
              "outlinewidth": 0,
              "ticks": ""
             }
            },
            "type": "scatter3d"
           }
          ],
          "scattercarpet": [
           {
            "marker": {
             "colorbar": {
              "outlinewidth": 0,
              "ticks": ""
             }
            },
            "type": "scattercarpet"
           }
          ],
          "scattergeo": [
           {
            "marker": {
             "colorbar": {
              "outlinewidth": 0,
              "ticks": ""
             }
            },
            "type": "scattergeo"
           }
          ],
          "scattergl": [
           {
            "marker": {
             "colorbar": {
              "outlinewidth": 0,
              "ticks": ""
             }
            },
            "type": "scattergl"
           }
          ],
          "scattermap": [
           {
            "marker": {
             "colorbar": {
              "outlinewidth": 0,
              "ticks": ""
             }
            },
            "type": "scattermap"
           }
          ],
          "scattermapbox": [
           {
            "marker": {
             "colorbar": {
              "outlinewidth": 0,
              "ticks": ""
             }
            },
            "type": "scattermapbox"
           }
          ],
          "scatterpolar": [
           {
            "marker": {
             "colorbar": {
              "outlinewidth": 0,
              "ticks": ""
             }
            },
            "type": "scatterpolar"
           }
          ],
          "scatterpolargl": [
           {
            "marker": {
             "colorbar": {
              "outlinewidth": 0,
              "ticks": ""
             }
            },
            "type": "scatterpolargl"
           }
          ],
          "scatterternary": [
           {
            "marker": {
             "colorbar": {
              "outlinewidth": 0,
              "ticks": ""
             }
            },
            "type": "scatterternary"
           }
          ],
          "surface": [
           {
            "colorbar": {
             "outlinewidth": 0,
             "ticks": ""
            },
            "colorscale": [
             [
              0,
              "#0d0887"
             ],
             [
              0.1111111111111111,
              "#46039f"
             ],
             [
              0.2222222222222222,
              "#7201a8"
             ],
             [
              0.3333333333333333,
              "#9c179e"
             ],
             [
              0.4444444444444444,
              "#bd3786"
             ],
             [
              0.5555555555555556,
              "#d8576b"
             ],
             [
              0.6666666666666666,
              "#ed7953"
             ],
             [
              0.7777777777777778,
              "#fb9f3a"
             ],
             [
              0.8888888888888888,
              "#fdca26"
             ],
             [
              1,
              "#f0f921"
             ]
            ],
            "type": "surface"
           }
          ],
          "table": [
           {
            "cells": {
             "fill": {
              "color": "#EBF0F8"
             },
             "line": {
              "color": "white"
             }
            },
            "header": {
             "fill": {
              "color": "#C8D4E3"
             },
             "line": {
              "color": "white"
             }
            },
            "type": "table"
           }
          ]
         },
         "layout": {
          "annotationdefaults": {
           "arrowcolor": "#2a3f5f",
           "arrowhead": 0,
           "arrowwidth": 1
          },
          "autotypenumbers": "strict",
          "coloraxis": {
           "colorbar": {
            "outlinewidth": 0,
            "ticks": ""
           }
          },
          "colorscale": {
           "diverging": [
            [
             0,
             "#8e0152"
            ],
            [
             0.1,
             "#c51b7d"
            ],
            [
             0.2,
             "#de77ae"
            ],
            [
             0.3,
             "#f1b6da"
            ],
            [
             0.4,
             "#fde0ef"
            ],
            [
             0.5,
             "#f7f7f7"
            ],
            [
             0.6,
             "#e6f5d0"
            ],
            [
             0.7,
             "#b8e186"
            ],
            [
             0.8,
             "#7fbc41"
            ],
            [
             0.9,
             "#4d9221"
            ],
            [
             1,
             "#276419"
            ]
           ],
           "sequential": [
            [
             0,
             "#0d0887"
            ],
            [
             0.1111111111111111,
             "#46039f"
            ],
            [
             0.2222222222222222,
             "#7201a8"
            ],
            [
             0.3333333333333333,
             "#9c179e"
            ],
            [
             0.4444444444444444,
             "#bd3786"
            ],
            [
             0.5555555555555556,
             "#d8576b"
            ],
            [
             0.6666666666666666,
             "#ed7953"
            ],
            [
             0.7777777777777778,
             "#fb9f3a"
            ],
            [
             0.8888888888888888,
             "#fdca26"
            ],
            [
             1,
             "#f0f921"
            ]
           ],
           "sequentialminus": [
            [
             0,
             "#0d0887"
            ],
            [
             0.1111111111111111,
             "#46039f"
            ],
            [
             0.2222222222222222,
             "#7201a8"
            ],
            [
             0.3333333333333333,
             "#9c179e"
            ],
            [
             0.4444444444444444,
             "#bd3786"
            ],
            [
             0.5555555555555556,
             "#d8576b"
            ],
            [
             0.6666666666666666,
             "#ed7953"
            ],
            [
             0.7777777777777778,
             "#fb9f3a"
            ],
            [
             0.8888888888888888,
             "#fdca26"
            ],
            [
             1,
             "#f0f921"
            ]
           ]
          },
          "colorway": [
           "#636efa",
           "#EF553B",
           "#00cc96",
           "#ab63fa",
           "#FFA15A",
           "#19d3f3",
           "#FF6692",
           "#B6E880",
           "#FF97FF",
           "#FECB52"
          ],
          "font": {
           "color": "#2a3f5f"
          },
          "geo": {
           "bgcolor": "white",
           "lakecolor": "white",
           "landcolor": "white",
           "showlakes": true,
           "showland": true,
           "subunitcolor": "#C8D4E3"
          },
          "hoverlabel": {
           "align": "left"
          },
          "hovermode": "closest",
          "mapbox": {
           "style": "light"
          },
          "paper_bgcolor": "white",
          "plot_bgcolor": "white",
          "polar": {
           "angularaxis": {
            "gridcolor": "#EBF0F8",
            "linecolor": "#EBF0F8",
            "ticks": ""
           },
           "bgcolor": "white",
           "radialaxis": {
            "gridcolor": "#EBF0F8",
            "linecolor": "#EBF0F8",
            "ticks": ""
           }
          },
          "scene": {
           "xaxis": {
            "backgroundcolor": "white",
            "gridcolor": "#DFE8F3",
            "gridwidth": 2,
            "linecolor": "#EBF0F8",
            "showbackground": true,
            "ticks": "",
            "zerolinecolor": "#EBF0F8"
           },
           "yaxis": {
            "backgroundcolor": "white",
            "gridcolor": "#DFE8F3",
            "gridwidth": 2,
            "linecolor": "#EBF0F8",
            "showbackground": true,
            "ticks": "",
            "zerolinecolor": "#EBF0F8"
           },
           "zaxis": {
            "backgroundcolor": "white",
            "gridcolor": "#DFE8F3",
            "gridwidth": 2,
            "linecolor": "#EBF0F8",
            "showbackground": true,
            "ticks": "",
            "zerolinecolor": "#EBF0F8"
           }
          },
          "shapedefaults": {
           "line": {
            "color": "#2a3f5f"
           }
          },
          "ternary": {
           "aaxis": {
            "gridcolor": "#DFE8F3",
            "linecolor": "#A2B1C6",
            "ticks": ""
           },
           "baxis": {
            "gridcolor": "#DFE8F3",
            "linecolor": "#A2B1C6",
            "ticks": ""
           },
           "bgcolor": "white",
           "caxis": {
            "gridcolor": "#DFE8F3",
            "linecolor": "#A2B1C6",
            "ticks": ""
           }
          },
          "title": {
           "x": 0.05
          },
          "xaxis": {
           "automargin": true,
           "gridcolor": "#EBF0F8",
           "linecolor": "#EBF0F8",
           "ticks": "",
           "title": {
            "standoff": 15
           },
           "zerolinecolor": "#EBF0F8",
           "zerolinewidth": 2
          },
          "yaxis": {
           "automargin": true,
           "gridcolor": "#EBF0F8",
           "linecolor": "#EBF0F8",
           "ticks": "",
           "title": {
            "standoff": 15
           },
           "zerolinecolor": "#EBF0F8",
           "zerolinewidth": 2
          }
         }
        },
        "width": 1200,
        "xaxis": {
         "anchor": "y",
         "domain": [
          0,
          1
         ]
        },
        "xaxis2": {
         "anchor": "y2",
         "domain": [
          0,
          1
         ],
         "title": {
          "text": "Normalization"
         }
        },
        "yaxis": {
         "anchor": "x",
         "domain": [
          0.575,
          1
         ],
         "title": {
          "text": "Model"
         }
        },
        "yaxis2": {
         "anchor": "x2",
         "domain": [
          0,
          0.425
         ],
         "title": {
          "text": "Model"
         }
        }
       }
      }
     },
     "metadata": {},
     "output_type": "display_data"
    }
   ],
   "source": [
    "import numpy as np\n",
    "import plotly.graph_objects as go\n",
    "from plotly.subplots import make_subplots\n",
    "\n",
    "from src.constants import model_to_abbr, dataset_to_name\n",
    "\n",
    "datasets = [\"wildppg\"]\n",
    "norms = [\n",
    "    \"GZ\",\n",
    "    \"GZ + Inst(Endo)\",\n",
    "    \"GZ + Inst\",\n",
    "    \"GZ + Diff(Endo)\",\n",
    "    \"GZ + Diff\",\n",
    "]\n",
    "\n",
    "data = {}\n",
    "for d in datasets:\n",
    "    metrics = dataset_metrics[d]\n",
    "    data[d] = (\n",
    "        compute_matrix(BASELINES, metrics),\n",
    "        compute_matrix(DL, metrics),\n",
    "    )\n",
    "\n",
    "all_vals = np.concatenate([np.concatenate([v[0], v[1]], axis=0) for v in data.values()], axis=0)\n",
    "zmin, zmax = np.percentile(all_vals, [0, 90])\n",
    "print(zmin, zmax)\n",
    "\n",
    "fig = make_subplots(\n",
    "    rows=2, cols=len(datasets),\n",
    "    subplot_titles=[dataset_to_name[d] for d in datasets],\n",
    "    horizontal_spacing=0.06, vertical_spacing=0.15\n",
    ")\n",
    "\n",
    "\n",
    "for col, d in enumerate(datasets, start=1):\n",
    "    base_z, dl_z = data[d]\n",
    "\n",
    "    # Baselines heatmap (row 1)\n",
    "    fig.add_trace(\n",
    "        go.Heatmap(\n",
    "            z=base_z,\n",
    "            x=norms,\n",
    "            y=[model_to_abbr[m] for m in BASELINES],\n",
    "            zmin=zmin, zmax=zmax,\n",
    "            hovertemplate=\"Model: %{y}<br>Norm: %{x}<br>MAE: %{z}<extra></extra>\",\n",
    "            showscale=True\n",
    "        ),\n",
    "        row=1, col=col\n",
    "    )\n",
    "\n",
    "    # DL heatmap (row 2)\n",
    "    fig.add_trace(\n",
    "        go.Heatmap(\n",
    "            z=dl_z,\n",
    "            x=norms,\n",
    "            y=[model_to_abbr[m] for m in DL],\n",
    "            zmin=zmin, zmax=zmax,\n",
    "            hovertemplate=\"Model: %{y}<br>Norm: %{x}<br>MAE: %{z}<extra></extra>\",\n",
    "            showscale=True\n",
    "        ),\n",
    "        row=2, col=col\n",
    "    )\n",
    "\n",
    "\n",
    "for c in range(1,4):\n",
    "    fig.update_xaxes(title=\"Normalization\", row=2, col=c)  # bottom row x-axis titles\n",
    "fig.update_yaxes(title=\"Model\", row=1, col=1)\n",
    "fig.update_yaxes(title=\"Model\", row=2, col=1)\n",
    "\n",
    "fig.update_layout(\n",
    "    height=800,\n",
    "    width=1200,\n",
    "    template=\"plotly_white\",\n",
    "    margin=dict(t=80, l=60, r=40, b=40)\n",
    ")\n",
    "\n",
    "fig.show()\n"
   ]
  },
  {
   "cell_type": "code",
   "execution_count": null,
   "id": "808498d3",
   "metadata": {},
   "outputs": [
    {
     "data": {
      "application/vnd.plotly.v1+json": {
       "config": {
        "plotlyServerURL": "https://plot.ly"
       },
       "data": [
        {
         "customdata": [
          "LR",
          "LR",
          "LR",
          "LR",
          "LR"
         ],
         "hovertemplate": "Model: %{customdata}<br>Norm: %{x}<br>MAE: %{y:.3f}<extra></extra>",
         "legendgroup": "baselines",
         "name": "LR (BL)",
         "showlegend": true,
         "type": "bar",
         "x": [
          "GZ",
          "GZ + Inst(Endo)",
          "GZ + Inst",
          "GZ + Diff(Endo)",
          "GZ + Diff"
         ],
         "xaxis": "x",
         "y": {
          "bdata": "q6qq6ses8D+rqqpKCOzoP1VVVfWejug/AAAAAG5A6z8AAABgmSDqPw==",
          "dtype": "f8"
         },
         "yaxis": "y"
        },
        {
         "customdata": [
          "MSAR",
          "MSAR",
          "MSAR",
          "MSAR",
          "MSAR"
         ],
         "hovertemplate": "Model: %{customdata}<br>Norm: %{x}<br>MAE: %{y:.3f}<extra></extra>",
         "legendgroup": "baselines",
         "name": "MSAR (BL)",
         "showlegend": true,
         "type": "bar",
         "x": [
          "GZ",
          "GZ + Inst(Endo)",
          "GZ + Inst",
          "GZ + Diff(Endo)",
          "GZ + Diff"
         ],
         "xaxis": "x",
         "y": {
          "bdata": "VVVVVU+wEEAAAABACln8PwAAAECA+fw/AAAAUIYbA0CrqqqKAYvoPw==",
          "dtype": "f8"
         },
         "yaxis": "y"
        },
        {
         "customdata": [
          "MoLE",
          "MoLE",
          "MoLE",
          "MoLE",
          "MoLE"
         ],
         "hovertemplate": "Model: %{customdata}<br>Norm: %{x}<br>MAE: %{y:.3f}<extra></extra>",
         "legendgroup": "baselines",
         "name": "MoLE (BL)",
         "showlegend": true,
         "type": "bar",
         "x": [
          "GZ",
          "GZ + Inst(Endo)",
          "GZ + Inst",
          "GZ + Diff(Endo)",
          "GZ + Diff"
         ],
         "xaxis": "x",
         "y": {
          "bdata": "VVVVlezw7j8AAADgFcfuP1VVVVUXnO4/VVVVlZ7H6z+rqqqKI5TrPw==",
          "dtype": "f8"
         },
         "yaxis": "y"
        },
        {
         "customdata": [
          "KF",
          "KF",
          "KF",
          "KF",
          "KF"
         ],
         "hovertemplate": "Model: %{customdata}<br>Norm: %{x}<br>MAE: %{y:.3f}<extra></extra>",
         "legendgroup": "baselines",
         "name": "KF (BL)",
         "showlegend": true,
         "type": "bar",
         "x": [
          "GZ",
          "GZ + Inst(Endo)",
          "GZ + Inst",
          "GZ + Diff(Endo)",
          "GZ + Diff"
         ],
         "xaxis": "x",
         "y": {
          "bdata": "VVVV1fo36z9VVVWVpzbrPwAAAECexeo/VVVVdRiy6j9VVVVV/Y7qPw==",
          "dtype": "f8"
         },
         "yaxis": "y"
        },
        {
         "customdata": [
          "XGB",
          "XGB",
          "XGB",
          "XGB",
          "XGB"
         ],
         "hovertemplate": "Model: %{customdata}<br>Norm: %{x}<br>MAE: %{y:.3f}<extra></extra>",
         "legendgroup": "baselines",
         "name": "XGB (BL)",
         "showlegend": true,
         "type": "bar",
         "x": [
          "GZ",
          "GZ + Inst(Endo)",
          "GZ + Inst",
          "GZ + Diff(Endo)",
          "GZ + Diff"
         ],
         "xaxis": "x",
         "y": {
          "bdata": "q6qqiq627j9VVVWVGHvpP6uqqipyfOk/AAAAYNfu6D+rqqpKWvDoPw==",
          "dtype": "f8"
         },
         "yaxis": "y"
        },
        {
         "customdata": [
          "GP",
          "GP",
          "GP",
          "GP",
          "GP"
         ],
         "hovertemplate": "Model: %{customdata}<br>Norm: %{x}<br>MAE: %{y:.3f}<extra></extra>",
         "legendgroup": "baselines",
         "name": "GP (BL)",
         "showlegend": true,
         "type": "bar",
         "x": [
          "GZ",
          "GZ + Inst(Endo)",
          "GZ + Inst",
          "GZ + Diff(Endo)",
          "GZ + Diff"
         ],
         "xaxis": "x",
         "y": {
          "bdata": "VVVV9fQz6z8AAAAglPTrP6uqqsrf6us/AAAAYIM+6j8AAABgxwrqPw==",
          "dtype": "f8"
         },
         "yaxis": "y"
        },
        {
         "customdata": [
          "MLP",
          "MLP",
          "MLP",
          "MLP",
          "MLP"
         ],
         "hovertemplate": "Model: %{customdata}<br>Norm: %{x}<br>MAE: %{y:.3f}<extra></extra>",
         "legendgroup": "baselines",
         "name": "MLP (BL)",
         "showlegend": true,
         "type": "bar",
         "x": [
          "GZ",
          "GZ + Inst(Endo)",
          "GZ + Inst",
          "GZ + Diff(Endo)",
          "GZ + Diff"
         ],
         "xaxis": "x",
         "y": {
          "bdata": "q6qqCpNe7D+rqqqqPhvqPwAAAOB5ouo/VVVVtQvd6D8AAACA/sfoPw==",
          "dtype": "f8"
         },
         "yaxis": "y"
        },
        {
         "customdata": [
          "TNET",
          "TNET",
          "TNET",
          "TNET",
          "TNET"
         ],
         "hovertemplate": "Model: %{customdata}<br>Norm: %{x}<br>MAE: %{y:.3f}<extra></extra>",
         "legendgroup": "dl",
         "name": "TNET (DL)",
         "showlegend": true,
         "type": "bar",
         "x": [
          "GZ",
          "GZ + Inst(Endo)",
          "GZ + Inst",
          "GZ + Diff(Endo)",
          "GZ + Diff"
         ],
         "xaxis": "x2",
         "y": {
          "bdata": "AAAAIO9B7T+rqqrK1e/pPwAAAABUBuo/q6qqSjny7j+rqqqqjf3vPw==",
          "dtype": "f8"
         },
         "yaxis": "y2"
        },
        {
         "customdata": [
          "STM",
          "STM",
          "STM",
          "STM",
          "STM"
         ],
         "hovertemplate": "Model: %{customdata}<br>Norm: %{x}<br>MAE: %{y:.3f}<extra></extra>",
         "legendgroup": "dl",
         "name": "STM (DL)",
         "showlegend": true,
         "type": "bar",
         "x": [
          "GZ",
          "GZ + Inst(Endo)",
          "GZ + Inst",
          "GZ + Diff(Endo)",
          "GZ + Diff"
         ],
         "xaxis": "x2",
         "y": {
          "bdata": "q6qqivQ66T8AAADgafnpPwAAAIA+nek/VVVV1fCT6D8AAABgT57oPw==",
          "dtype": "f8"
         },
         "yaxis": "y2"
        },
        {
         "customdata": [
          "AMSH",
          "AMSH",
          "AMSH",
          "AMSH",
          "AMSH"
         ],
         "hovertemplate": "Model: %{customdata}<br>Norm: %{x}<br>MAE: %{y:.3f}<extra></extra>",
         "legendgroup": "dl",
         "name": "AMSH (DL)",
         "showlegend": true,
         "type": "bar",
         "x": [
          "GZ",
          "GZ + Inst(Endo)",
          "GZ + Inst",
          "GZ + Diff(Endo)",
          "GZ + Diff"
         ],
         "xaxis": "x2",
         "y": {
          "bdata": "AAAAQKLi6j8AAABALgzrP6uqqgpDF+s/q6qqSr6K6j9VVVWVAbbqPw==",
          "dtype": "f8"
         },
         "yaxis": "y2"
        },
        {
         "customdata": [
          "PTST",
          "PTST",
          "PTST",
          "PTST",
          "PTST"
         ],
         "hovertemplate": "Model: %{customdata}<br>Norm: %{x}<br>MAE: %{y:.3f}<extra></extra>",
         "legendgroup": "dl",
         "name": "PTST (DL)",
         "showlegend": true,
         "type": "bar",
         "x": [
          "GZ",
          "GZ + Inst(Endo)",
          "GZ + Inst",
          "GZ + Diff(Endo)",
          "GZ + Diff"
         ],
         "xaxis": "x2",
         "y": {
          "bdata": "AAAAYNJa7T9VVVUVlnLqP6uqqgqLe+o/AAAAgPRM6j8AAADgVdXqPw==",
          "dtype": "f8"
         },
         "yaxis": "y2"
        },
        {
         "customdata": [
          "TXER",
          "TXER",
          "TXER",
          "TXER",
          "TXER"
         ],
         "hovertemplate": "Model: %{customdata}<br>Norm: %{x}<br>MAE: %{y:.3f}<extra></extra>",
         "legendgroup": "dl",
         "name": "TXER (DL)",
         "showlegend": true,
         "type": "bar",
         "x": [
          "GZ",
          "GZ + Inst(Endo)",
          "GZ + Inst",
          "GZ + Diff(Endo)",
          "GZ + Diff"
         ],
         "xaxis": "x2",
         "y": {
          "bdata": "VVVVFbOg7j8AAABA9lTqP6uqqsq8Y+o/q6qqasCl6T+rqqpKSSfqPw==",
          "dtype": "f8"
         },
         "yaxis": "y2"
        },
        {
         "customdata": [
          "GPT",
          "GPT",
          "GPT",
          "GPT",
          "GPT"
         ],
         "hovertemplate": "Model: %{customdata}<br>Norm: %{x}<br>MAE: %{y:.3f}<extra></extra>",
         "legendgroup": "dl",
         "name": "GPT (DL)",
         "showlegend": true,
         "type": "bar",
         "x": [
          "GZ",
          "GZ + Inst(Endo)",
          "GZ + Inst",
          "GZ + Diff(Endo)",
          "GZ + Diff"
         ],
         "xaxis": "x2",
         "y": {
          "bdata": "VVVVFfWf7D+rqqqq8nzpPwAAAMAaoOk/q6qq6lnP7z+rqqrqfKjuPw==",
          "dtype": "f8"
         },
         "yaxis": "y2"
        },
        {
         "customdata": [
          "NBX",
          "NBX",
          "NBX",
          "NBX",
          "NBX"
         ],
         "hovertemplate": "Model: %{customdata}<br>Norm: %{x}<br>MAE: %{y:.3f}<extra></extra>",
         "legendgroup": "dl",
         "name": "NBX (DL)",
         "showlegend": true,
         "type": "bar",
         "x": [
          "GZ",
          "GZ + Inst(Endo)",
          "GZ + Inst",
          "GZ + Diff(Endo)",
          "GZ + Diff"
         ],
         "xaxis": "x2",
         "y": {
          "bdata": "AAAAAPoM6T8AAAAA9JroP6uqqso/sug/VVVVleNV6D9VVVVVHTfoPw==",
          "dtype": "f8"
         },
         "yaxis": "y2"
        }
       ],
       "layout": {
        "annotations": [
         {
          "font": {
           "size": 16
          },
          "showarrow": false,
          "text": "WildPPG",
          "x": 0.5,
          "xanchor": "center",
          "xref": "paper",
          "y": 1,
          "yanchor": "bottom",
          "yref": "paper"
         }
        ],
        "barmode": "group",
        "height": 800,
        "legend": {
         "orientation": "h",
         "tracegroupgap": 8,
         "x": 0,
         "xanchor": "left",
         "y": 1.02,
         "yanchor": "bottom"
        },
        "margin": {
         "b": 40,
         "l": 60,
         "r": 40,
         "t": 80
        },
        "template": {
         "data": {
          "bar": [
           {
            "error_x": {
             "color": "#2a3f5f"
            },
            "error_y": {
             "color": "#2a3f5f"
            },
            "marker": {
             "line": {
              "color": "white",
              "width": 0.5
             },
             "pattern": {
              "fillmode": "overlay",
              "size": 10,
              "solidity": 0.2
             }
            },
            "type": "bar"
           }
          ],
          "barpolar": [
           {
            "marker": {
             "line": {
              "color": "white",
              "width": 0.5
             },
             "pattern": {
              "fillmode": "overlay",
              "size": 10,
              "solidity": 0.2
             }
            },
            "type": "barpolar"
           }
          ],
          "carpet": [
           {
            "aaxis": {
             "endlinecolor": "#2a3f5f",
             "gridcolor": "#C8D4E3",
             "linecolor": "#C8D4E3",
             "minorgridcolor": "#C8D4E3",
             "startlinecolor": "#2a3f5f"
            },
            "baxis": {
             "endlinecolor": "#2a3f5f",
             "gridcolor": "#C8D4E3",
             "linecolor": "#C8D4E3",
             "minorgridcolor": "#C8D4E3",
             "startlinecolor": "#2a3f5f"
            },
            "type": "carpet"
           }
          ],
          "choropleth": [
           {
            "colorbar": {
             "outlinewidth": 0,
             "ticks": ""
            },
            "type": "choropleth"
           }
          ],
          "contour": [
           {
            "colorbar": {
             "outlinewidth": 0,
             "ticks": ""
            },
            "colorscale": [
             [
              0,
              "#0d0887"
             ],
             [
              0.1111111111111111,
              "#46039f"
             ],
             [
              0.2222222222222222,
              "#7201a8"
             ],
             [
              0.3333333333333333,
              "#9c179e"
             ],
             [
              0.4444444444444444,
              "#bd3786"
             ],
             [
              0.5555555555555556,
              "#d8576b"
             ],
             [
              0.6666666666666666,
              "#ed7953"
             ],
             [
              0.7777777777777778,
              "#fb9f3a"
             ],
             [
              0.8888888888888888,
              "#fdca26"
             ],
             [
              1,
              "#f0f921"
             ]
            ],
            "type": "contour"
           }
          ],
          "contourcarpet": [
           {
            "colorbar": {
             "outlinewidth": 0,
             "ticks": ""
            },
            "type": "contourcarpet"
           }
          ],
          "heatmap": [
           {
            "colorbar": {
             "outlinewidth": 0,
             "ticks": ""
            },
            "colorscale": [
             [
              0,
              "#0d0887"
             ],
             [
              0.1111111111111111,
              "#46039f"
             ],
             [
              0.2222222222222222,
              "#7201a8"
             ],
             [
              0.3333333333333333,
              "#9c179e"
             ],
             [
              0.4444444444444444,
              "#bd3786"
             ],
             [
              0.5555555555555556,
              "#d8576b"
             ],
             [
              0.6666666666666666,
              "#ed7953"
             ],
             [
              0.7777777777777778,
              "#fb9f3a"
             ],
             [
              0.8888888888888888,
              "#fdca26"
             ],
             [
              1,
              "#f0f921"
             ]
            ],
            "type": "heatmap"
           }
          ],
          "histogram": [
           {
            "marker": {
             "pattern": {
              "fillmode": "overlay",
              "size": 10,
              "solidity": 0.2
             }
            },
            "type": "histogram"
           }
          ],
          "histogram2d": [
           {
            "colorbar": {
             "outlinewidth": 0,
             "ticks": ""
            },
            "colorscale": [
             [
              0,
              "#0d0887"
             ],
             [
              0.1111111111111111,
              "#46039f"
             ],
             [
              0.2222222222222222,
              "#7201a8"
             ],
             [
              0.3333333333333333,
              "#9c179e"
             ],
             [
              0.4444444444444444,
              "#bd3786"
             ],
             [
              0.5555555555555556,
              "#d8576b"
             ],
             [
              0.6666666666666666,
              "#ed7953"
             ],
             [
              0.7777777777777778,
              "#fb9f3a"
             ],
             [
              0.8888888888888888,
              "#fdca26"
             ],
             [
              1,
              "#f0f921"
             ]
            ],
            "type": "histogram2d"
           }
          ],
          "histogram2dcontour": [
           {
            "colorbar": {
             "outlinewidth": 0,
             "ticks": ""
            },
            "colorscale": [
             [
              0,
              "#0d0887"
             ],
             [
              0.1111111111111111,
              "#46039f"
             ],
             [
              0.2222222222222222,
              "#7201a8"
             ],
             [
              0.3333333333333333,
              "#9c179e"
             ],
             [
              0.4444444444444444,
              "#bd3786"
             ],
             [
              0.5555555555555556,
              "#d8576b"
             ],
             [
              0.6666666666666666,
              "#ed7953"
             ],
             [
              0.7777777777777778,
              "#fb9f3a"
             ],
             [
              0.8888888888888888,
              "#fdca26"
             ],
             [
              1,
              "#f0f921"
             ]
            ],
            "type": "histogram2dcontour"
           }
          ],
          "mesh3d": [
           {
            "colorbar": {
             "outlinewidth": 0,
             "ticks": ""
            },
            "type": "mesh3d"
           }
          ],
          "parcoords": [
           {
            "line": {
             "colorbar": {
              "outlinewidth": 0,
              "ticks": ""
             }
            },
            "type": "parcoords"
           }
          ],
          "pie": [
           {
            "automargin": true,
            "type": "pie"
           }
          ],
          "scatter": [
           {
            "fillpattern": {
             "fillmode": "overlay",
             "size": 10,
             "solidity": 0.2
            },
            "type": "scatter"
           }
          ],
          "scatter3d": [
           {
            "line": {
             "colorbar": {
              "outlinewidth": 0,
              "ticks": ""
             }
            },
            "marker": {
             "colorbar": {
              "outlinewidth": 0,
              "ticks": ""
             }
            },
            "type": "scatter3d"
           }
          ],
          "scattercarpet": [
           {
            "marker": {
             "colorbar": {
              "outlinewidth": 0,
              "ticks": ""
             }
            },
            "type": "scattercarpet"
           }
          ],
          "scattergeo": [
           {
            "marker": {
             "colorbar": {
              "outlinewidth": 0,
              "ticks": ""
             }
            },
            "type": "scattergeo"
           }
          ],
          "scattergl": [
           {
            "marker": {
             "colorbar": {
              "outlinewidth": 0,
              "ticks": ""
             }
            },
            "type": "scattergl"
           }
          ],
          "scattermap": [
           {
            "marker": {
             "colorbar": {
              "outlinewidth": 0,
              "ticks": ""
             }
            },
            "type": "scattermap"
           }
          ],
          "scattermapbox": [
           {
            "marker": {
             "colorbar": {
              "outlinewidth": 0,
              "ticks": ""
             }
            },
            "type": "scattermapbox"
           }
          ],
          "scatterpolar": [
           {
            "marker": {
             "colorbar": {
              "outlinewidth": 0,
              "ticks": ""
             }
            },
            "type": "scatterpolar"
           }
          ],
          "scatterpolargl": [
           {
            "marker": {
             "colorbar": {
              "outlinewidth": 0,
              "ticks": ""
             }
            },
            "type": "scatterpolargl"
           }
          ],
          "scatterternary": [
           {
            "marker": {
             "colorbar": {
              "outlinewidth": 0,
              "ticks": ""
             }
            },
            "type": "scatterternary"
           }
          ],
          "surface": [
           {
            "colorbar": {
             "outlinewidth": 0,
             "ticks": ""
            },
            "colorscale": [
             [
              0,
              "#0d0887"
             ],
             [
              0.1111111111111111,
              "#46039f"
             ],
             [
              0.2222222222222222,
              "#7201a8"
             ],
             [
              0.3333333333333333,
              "#9c179e"
             ],
             [
              0.4444444444444444,
              "#bd3786"
             ],
             [
              0.5555555555555556,
              "#d8576b"
             ],
             [
              0.6666666666666666,
              "#ed7953"
             ],
             [
              0.7777777777777778,
              "#fb9f3a"
             ],
             [
              0.8888888888888888,
              "#fdca26"
             ],
             [
              1,
              "#f0f921"
             ]
            ],
            "type": "surface"
           }
          ],
          "table": [
           {
            "cells": {
             "fill": {
              "color": "#EBF0F8"
             },
             "line": {
              "color": "white"
             }
            },
            "header": {
             "fill": {
              "color": "#C8D4E3"
             },
             "line": {
              "color": "white"
             }
            },
            "type": "table"
           }
          ]
         },
         "layout": {
          "annotationdefaults": {
           "arrowcolor": "#2a3f5f",
           "arrowhead": 0,
           "arrowwidth": 1
          },
          "autotypenumbers": "strict",
          "coloraxis": {
           "colorbar": {
            "outlinewidth": 0,
            "ticks": ""
           }
          },
          "colorscale": {
           "diverging": [
            [
             0,
             "#8e0152"
            ],
            [
             0.1,
             "#c51b7d"
            ],
            [
             0.2,
             "#de77ae"
            ],
            [
             0.3,
             "#f1b6da"
            ],
            [
             0.4,
             "#fde0ef"
            ],
            [
             0.5,
             "#f7f7f7"
            ],
            [
             0.6,
             "#e6f5d0"
            ],
            [
             0.7,
             "#b8e186"
            ],
            [
             0.8,
             "#7fbc41"
            ],
            [
             0.9,
             "#4d9221"
            ],
            [
             1,
             "#276419"
            ]
           ],
           "sequential": [
            [
             0,
             "#0d0887"
            ],
            [
             0.1111111111111111,
             "#46039f"
            ],
            [
             0.2222222222222222,
             "#7201a8"
            ],
            [
             0.3333333333333333,
             "#9c179e"
            ],
            [
             0.4444444444444444,
             "#bd3786"
            ],
            [
             0.5555555555555556,
             "#d8576b"
            ],
            [
             0.6666666666666666,
             "#ed7953"
            ],
            [
             0.7777777777777778,
             "#fb9f3a"
            ],
            [
             0.8888888888888888,
             "#fdca26"
            ],
            [
             1,
             "#f0f921"
            ]
           ],
           "sequentialminus": [
            [
             0,
             "#0d0887"
            ],
            [
             0.1111111111111111,
             "#46039f"
            ],
            [
             0.2222222222222222,
             "#7201a8"
            ],
            [
             0.3333333333333333,
             "#9c179e"
            ],
            [
             0.4444444444444444,
             "#bd3786"
            ],
            [
             0.5555555555555556,
             "#d8576b"
            ],
            [
             0.6666666666666666,
             "#ed7953"
            ],
            [
             0.7777777777777778,
             "#fb9f3a"
            ],
            [
             0.8888888888888888,
             "#fdca26"
            ],
            [
             1,
             "#f0f921"
            ]
           ]
          },
          "colorway": [
           "#636efa",
           "#EF553B",
           "#00cc96",
           "#ab63fa",
           "#FFA15A",
           "#19d3f3",
           "#FF6692",
           "#B6E880",
           "#FF97FF",
           "#FECB52"
          ],
          "font": {
           "color": "#2a3f5f"
          },
          "geo": {
           "bgcolor": "white",
           "lakecolor": "white",
           "landcolor": "white",
           "showlakes": true,
           "showland": true,
           "subunitcolor": "#C8D4E3"
          },
          "hoverlabel": {
           "align": "left"
          },
          "hovermode": "closest",
          "mapbox": {
           "style": "light"
          },
          "paper_bgcolor": "white",
          "plot_bgcolor": "white",
          "polar": {
           "angularaxis": {
            "gridcolor": "#EBF0F8",
            "linecolor": "#EBF0F8",
            "ticks": ""
           },
           "bgcolor": "white",
           "radialaxis": {
            "gridcolor": "#EBF0F8",
            "linecolor": "#EBF0F8",
            "ticks": ""
           }
          },
          "scene": {
           "xaxis": {
            "backgroundcolor": "white",
            "gridcolor": "#DFE8F3",
            "gridwidth": 2,
            "linecolor": "#EBF0F8",
            "showbackground": true,
            "ticks": "",
            "zerolinecolor": "#EBF0F8"
           },
           "yaxis": {
            "backgroundcolor": "white",
            "gridcolor": "#DFE8F3",
            "gridwidth": 2,
            "linecolor": "#EBF0F8",
            "showbackground": true,
            "ticks": "",
            "zerolinecolor": "#EBF0F8"
           },
           "zaxis": {
            "backgroundcolor": "white",
            "gridcolor": "#DFE8F3",
            "gridwidth": 2,
            "linecolor": "#EBF0F8",
            "showbackground": true,
            "ticks": "",
            "zerolinecolor": "#EBF0F8"
           }
          },
          "shapedefaults": {
           "line": {
            "color": "#2a3f5f"
           }
          },
          "ternary": {
           "aaxis": {
            "gridcolor": "#DFE8F3",
            "linecolor": "#A2B1C6",
            "ticks": ""
           },
           "baxis": {
            "gridcolor": "#DFE8F3",
            "linecolor": "#A2B1C6",
            "ticks": ""
           },
           "bgcolor": "white",
           "caxis": {
            "gridcolor": "#DFE8F3",
            "linecolor": "#A2B1C6",
            "ticks": ""
           }
          },
          "title": {
           "x": 0.05
          },
          "xaxis": {
           "automargin": true,
           "gridcolor": "#EBF0F8",
           "linecolor": "#EBF0F8",
           "ticks": "",
           "title": {
            "standoff": 15
           },
           "zerolinecolor": "#EBF0F8",
           "zerolinewidth": 2
          },
          "yaxis": {
           "automargin": true,
           "gridcolor": "#EBF0F8",
           "linecolor": "#EBF0F8",
           "ticks": "",
           "title": {
            "standoff": 15
           },
           "zerolinecolor": "#EBF0F8",
           "zerolinewidth": 2
          }
         }
        },
        "width": 1200,
        "xaxis": {
         "anchor": "y",
         "domain": [
          0,
          1
         ]
        },
        "xaxis2": {
         "anchor": "y2",
         "categoryarray": [
          "GZ",
          "GZ + Inst(Endo)",
          "GZ + Inst",
          "GZ + Diff(Endo)",
          "GZ + Diff"
         ],
         "categoryorder": "array",
         "domain": [
          0,
          1
         ],
         "title": {
          "text": "Normalization"
         }
        },
        "yaxis": {
         "anchor": "x",
         "domain": [
          0.575,
          1
         ],
         "range": [
          0.5859553654988606,
          4.342950121561686
         ],
         "title": {
          "text": "MAE ↓"
         }
        },
        "yaxis2": {
         "anchor": "x2",
         "domain": [
          0,
          0.425
         ],
         "range": [
          0.5859553654988606,
          4.342950121561686
         ],
         "title": {
          "text": "MAE ↓"
         }
        }
       }
      }
     },
     "metadata": {},
     "output_type": "display_data"
    }
   ],
   "source": [
    "import numpy as np\n",
    "import plotly.graph_objects as go\n",
    "from plotly.subplots import make_subplots\n",
    "\n",
    "from src.constants import model_to_abbr, dataset_to_name\n",
    "\n",
    "# --------------------\n",
    "# Inputs\n",
    "# --------------------\n",
    "datasets = [\"wildppg\"]\n",
    "norms = [\n",
    "    \"GZ\",\n",
    "    \"GZ + Inst(Endo)\",\n",
    "    \"GZ + Inst\",\n",
    "    \"GZ + Diff(Endo)\",\n",
    "    \"GZ + Diff\",\n",
    "]\n",
    "\n",
    "# Build matrices: shape = (n_models, n_norms)\n",
    "data = {}\n",
    "for d in datasets:\n",
    "    metrics = dataset_metrics[d]\n",
    "    data[d] = (\n",
    "        compute_matrix(BASELINES.remove(\"msar\"), metrics),  # baselines: (len(BASELINES), len(norms))\n",
    "        compute_matrix(DL, metrics),         # DL:        (len(DL),        len(norms))\n",
    "    )\n",
    "\n",
    "# Global y-range for MAE across everything (for consistent scaling)\n",
    "all_vals = np.concatenate([np.concatenate([v[0], v[1]], axis=0) for v in data.values()], axis=0)\n",
    "ymin, ymax = float(np.nanmin(all_vals)), float(np.nanmax(all_vals))\n",
    "pad = 0.05 * (ymax - ymin if ymax > ymin else 1.0)\n",
    "yrange = [ymin - pad, ymax + pad]\n",
    "\n",
    "# --------------------\n",
    "# Subplots (2 rows: Baselines / DL)\n",
    "# --------------------\n",
    "fig = make_subplots(\n",
    "    rows=2,\n",
    "    cols=len(datasets),\n",
    "    subplot_titles=[dataset_to_name[d] for d in datasets],\n",
    "    horizontal_spacing=0.06,\n",
    "    vertical_spacing=0.15\n",
    ")\n",
    "\n",
    "# Grouped bars per normalization; one trace per model\n",
    "for col, d in enumerate(datasets, start=1):\n",
    "    base_z, dl_z = data[d]  # shapes: (n_models, n_norms)\n",
    "\n",
    "    # --- Row 1: Baselines ---\n",
    "    for i, m in enumerate(BASELINES):\n",
    "        fig.add_trace(\n",
    "            go.Bar(\n",
    "                x=norms,\n",
    "                y=base_z[i, :],\n",
    "                name=f\"{model_to_abbr[m]} (BL)\",\n",
    "                legendgroup=\"baselines\",\n",
    "                showlegend=(col == 1),  # show legend only in first column (row 1)\n",
    "                hovertemplate=(\n",
    "                    \"Model: %{customdata}<br>\"\n",
    "                    \"Norm: %{x}<br>\"\n",
    "                    \"MAE: %{y:.3f}<extra></extra>\"\n",
    "                ),\n",
    "                customdata=[model_to_abbr[m]] * len(norms)\n",
    "            ),\n",
    "            row=1, col=col\n",
    "        )\n",
    "\n",
    "    # --- Row 2: Deep Learning ---\n",
    "    for i, m in enumerate(DL):\n",
    "        fig.add_trace(\n",
    "            go.Bar(\n",
    "                x=norms,\n",
    "                y=dl_z[i, :],\n",
    "                name=f\"{model_to_abbr[m]} (DL)\",\n",
    "                legendgroup=\"dl\",\n",
    "                showlegend=(col == 1),  # show legend only in first column (row 2)\n",
    "                hovertemplate=(\n",
    "                    \"Model: %{customdata}<br>\"\n",
    "                    \"Norm: %{x}<br>\"\n",
    "                    \"MAE: %{y:.3f}<extra></extra>\"\n",
    "                ),\n",
    "                customdata=[model_to_abbr[m]] * len(norms)\n",
    "            ),\n",
    "            row=2, col=col\n",
    "        )\n",
    "\n",
    "    # Axes for this column\n",
    "    fig.update_yaxes(title=\"MAE ↓\", range=yrange, row=1, col=col)\n",
    "    fig.update_yaxes(title=\"MAE ↓\", range=yrange, row=2, col=col)\n",
    "    fig.update_xaxes(title=\"Normalization\", row=2, col=col, categoryorder=\"array\", categoryarray=norms)\n",
    "\n",
    "# Layout\n",
    "fig.update_layout(\n",
    "    barmode=\"group\",\n",
    "    height=800,\n",
    "    width=1200,\n",
    "    template=\"plotly_white\",\n",
    "    margin=dict(t=80, l=60, r=40, b=40),\n",
    "    legend=dict(tracegroupgap=8, orientation=\"h\", yanchor=\"bottom\", y=1.02, xanchor=\"left\", x=0)\n",
    ")\n",
    "\n",
    "fig.show()\n"
   ]
  }
 ],
 "metadata": {
  "kernelspec": {
   "display_name": "thesis",
   "language": "python",
   "name": "python3"
  },
  "language_info": {
   "codemirror_mode": {
    "name": "ipython",
    "version": 3
   },
   "file_extension": ".py",
   "mimetype": "text/x-python",
   "name": "python",
   "nbconvert_exporter": "python",
   "pygments_lexer": "ipython3",
   "version": "3.10.16"
  }
 },
 "nbformat": 4,
 "nbformat_minor": 5
}
