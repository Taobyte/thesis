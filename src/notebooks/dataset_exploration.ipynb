{
 "cells": [
  {
   "cell_type": "code",
   "execution_count": null,
   "metadata": {},
   "outputs": [],
   "source": [
    "import os \n",
    "import glob\n",
    "import numpy as np\n",
    "import pandas as pd \n",
    "import matplotlib.pyplot as plt \n",
    "from scipy.io import loadmat\n",
    "from scipy.signal import resample\n",
    "from pathlib import Path\n",
    "\n"
   ]
  },
  {
   "cell_type": "code",
   "execution_count": null,
   "metadata": {},
   "outputs": [],
   "source": [
    "arr = np.array([1,2,3])\n",
    "arr[:-1]"
   ]
  },
  {
   "cell_type": "markdown",
   "metadata": {},
   "source": [
    "# DaLiA Dataset"
   ]
  },
  {
   "cell_type": "code",
   "execution_count": null,
   "metadata": {},
   "outputs": [],
   "source": [
    "data_path = \"C:/Users/cleme/ETH/Master/Thesis/data/DaLiA/data/PPG_FieldStudy\"\n",
    "participant_paths = glob.glob(os.path.join(data_path, '**', '*_quest.csv'), recursive=True)\n",
    "series = []\n",
    "for participant in participant_paths:\n",
    "   row = pd.read_csv(participant, header=None).T\n",
    "   row.columns = [el.split(\" \")[1] for el in row.iloc[0]]\n",
    "   row = row.drop(row.index[0])\n",
    "   series.append(row) \n",
    "\n",
    "df = pd.concat(series, ignore_index=True)\n",
    "df"
   ]
  },
  {
   "cell_type": "code",
   "execution_count": null,
   "metadata": {},
   "outputs": [],
   "source": [
    "import pickle\n",
    "\n",
    "with open(data_path + \"/S1/S1.pkl\", \"rb\") as f:\n",
    "    data = pickle.load(f, encoding=\"latin1\")\n",
    "data"
   ]
  },
  {
   "cell_type": "code",
   "execution_count": null,
   "metadata": {},
   "outputs": [],
   "source": [
    "acc = data['signal']['wrist']['ACC']\n",
    "time = 8 + 2 * (data['label'].shape[0] - 1)\n",
    "print(time)\n",
    "print(acc.shape[0] / 32)"
   ]
  },
  {
   "cell_type": "code",
   "execution_count": null,
   "metadata": {},
   "outputs": [],
   "source": [
    "import numpy as np\n",
    "from numpy.lib.stride_tricks import sliding_window_view\n",
    "\n",
    "# Input data (replace with your actual data)\n",
    "vec = acc[:,0]\n",
    "\n",
    "# Parameters\n",
    "window_size = 256  # 8 seconds at 32Hz\n",
    "stride = 64        # 2 seconds at 32Hz\n",
    "\n",
    "# Compute sliding window mean\n",
    "windows = sliding_window_view(vec, window_shape=window_size)[::stride]\n",
    "window_means = np.mean(windows, axis=1)\n",
    "\n",
    "# Output shape\n",
    "print(\"Window means shape:\", window_means.shape)"
   ]
  },
  {
   "cell_type": "code",
   "execution_count": null,
   "metadata": {},
   "outputs": [],
   "source": [
    "data['label'].shape"
   ]
  },
  {
   "cell_type": "code",
   "execution_count": null,
   "metadata": {},
   "outputs": [],
   "source": [
    "import numpy as np\n",
    "\n",
    "# Example vector\n",
    "x = acc[:,0]  # or whatever your 1D array is\n",
    "\n",
    "# Parameters\n",
    "window_size = 256\n",
    "stride = 64\n",
    "\n",
    "print((x.size - window_size)// stride + 1)\n",
    "\n",
    "# Create the sliding windows\n",
    "shape = ((x.size - window_size) // stride + 1, window_size)\n",
    "strides = (x.strides[0] * stride, x.strides[0])\n",
    "windows = np.lib.stride_tricks.as_strided(x, shape=shape, strides=strides)\n",
    "\n",
    "# Compute the mean for each window\n",
    "means = windows.mean(axis=1)\n",
    "means.shape\n"
   ]
  },
  {
   "cell_type": "code",
   "execution_count": null,
   "metadata": {},
   "outputs": [],
   "source": [
    "acc[:,0].shape[0] / 32"
   ]
  },
  {
   "cell_type": "code",
   "execution_count": null,
   "metadata": {},
   "outputs": [],
   "source": [
    "rpeaks = data['rpeaks']\n",
    "print(rpeaks.shape)\n",
    "rpeaks = rpeaks / 700.0\n",
    "rr_intervals = np.diff(rpeaks)\n",
    "hr = 60 / rr_intervals \n",
    "pd.Series(hr[:100]).plot()"
   ]
  },
  {
   "cell_type": "code",
   "execution_count": null,
   "metadata": {},
   "outputs": [],
   "source": [
    "pd.Series(data['label'][:100]).plot()"
   ]
  },
  {
   "cell_type": "code",
   "execution_count": null,
   "metadata": {},
   "outputs": [],
   "source": [
    "data['signal']['wrist']['ACC'].shape"
   ]
  },
  {
   "cell_type": "code",
   "execution_count": null,
   "metadata": {},
   "outputs": [],
   "source": [
    "294784 / 11431"
   ]
  },
  {
   "cell_type": "code",
   "execution_count": null,
   "metadata": {},
   "outputs": [],
   "source": [
    "len(np.where(data['activity']==1.0)[0]) "
   ]
  },
  {
   "cell_type": "code",
   "execution_count": null,
   "metadata": {},
   "outputs": [],
   "source": [
    "data_path = \"C:/Users/cleme/ETH/Master/Thesis/data/euler\"\n",
    "np_data = np.load(data_path + \"/dalia_preprocessed/S1.npz\")\n",
    "\n",
    "def scale(data):\n",
    "    return (data - np.mean(data)) / (np.std(data) + 1e-8)\n",
    "\n",
    "series = np_data['bvp'][:, 0]\n",
    "series = scale(series)\n",
    "\n",
    "activity = resample(np_data['wrist_acc'], len(np_data['bvp']))\n",
    "activity = activity[:,0]**2 + activity[:, 1]**2 + activity[:,2]**2\n",
    "activity = scale(activity)\n",
    "\n",
    "highest_activity = np.argmax(activity)\n",
    "lower = max(highest_activity-1000,0)\n",
    "upper = min(highest_activity+1000,len(np_data['bvp']))\n",
    "serie = pd.Series(series[lower: upper])\n",
    "serie.plot(alpha=0.5)\n",
    "activity = pd.Series(activity[lower:upper])\n",
    "activity.plot(alpha=0.5)\n",
    "plt.legend()"
   ]
  },
  {
   "cell_type": "code",
   "execution_count": null,
   "metadata": {},
   "outputs": [],
   "source": [
    "pd.Series(data['signal']['chest']['ECG'][:1400][:,0]).plot()"
   ]
  },
  {
   "cell_type": "code",
   "execution_count": null,
   "metadata": {},
   "outputs": [],
   "source": [
    "data['signal']['wrist']['BVP']"
   ]
  },
  {
   "cell_type": "markdown",
   "metadata": {},
   "source": [
    "# UCIHAR Dataset"
   ]
  },
  {
   "cell_type": "code",
   "execution_count": null,
   "metadata": {},
   "outputs": [],
   "source": [
    "datadir = \"C:/Users/cleme/ETH/Master/Thesis/data/UCIHAR/UCI HAR Dataset/UCI HAR Dataset/\"\n",
    "data = np.load(datadir + \"ucihar_preprocessed.npz\")\n",
    "data"
   ]
  },
  {
   "cell_type": "code",
   "execution_count": null,
   "metadata": {},
   "outputs": [],
   "source": [
    "data['train_val_subjects'].shape[0] == data['X_train'].shape[0]"
   ]
  },
  {
   "cell_type": "code",
   "execution_count": null,
   "metadata": {},
   "outputs": [],
   "source": [
    "data['X_test'].shape[0] == data['y_test'].shape[0]"
   ]
  },
  {
   "cell_type": "code",
   "execution_count": null,
   "metadata": {},
   "outputs": [],
   "source": [
    "pd.Series(data['y_train']).unique()"
   ]
  },
  {
   "cell_type": "code",
   "execution_count": null,
   "metadata": {},
   "outputs": [],
   "source": [
    "inertial = \"C:/Users/cleme/ETH/Master/Thesis/data/euler/UCIHAR/train/Inertial Signals/\"\n",
    "data_x = np.loadtxt(inertial + \"total_acc_x_train.txt\")\n",
    "data_x.shape"
   ]
  },
  {
   "cell_type": "code",
   "execution_count": null,
   "metadata": {},
   "outputs": [],
   "source": [
    "y_train = np.loadtxt(datadir + \"train/y_train.txt\")\n",
    "y_test = np.loadtxt(datadir + \"test/y_test.txt\")\n",
    "print(pd.Series(y_train).unique())\n",
    "print(pd.Series(y_test).unique())"
   ]
  },
  {
   "cell_type": "code",
   "execution_count": null,
   "metadata": {},
   "outputs": [],
   "source": []
  },
  {
   "cell_type": "code",
   "execution_count": null,
   "metadata": {},
   "outputs": [],
   "source": [
    "body_acc_x = np.loadtxt(datadir + \"Inertial Signals/body_acc_x_train.txt\")"
   ]
  },
  {
   "cell_type": "code",
   "execution_count": null,
   "metadata": {},
   "outputs": [],
   "source": [
    "print(x_train.shape)"
   ]
  },
  {
   "cell_type": "code",
   "execution_count": null,
   "metadata": {},
   "outputs": [],
   "source": [
    "pd.Series(subjects).unique()"
   ]
  },
  {
   "cell_type": "markdown",
   "metadata": {},
   "source": [
    "# USC Dataset"
   ]
  },
  {
   "cell_type": "code",
   "execution_count": null,
   "metadata": {},
   "outputs": [],
   "source": [
    "\n",
    "datadir = \"C:/Users/cleme/ETH/Master/Thesis/data/USC/USC-HAD/\"\n",
    "file_dir = datadir + \"Subject1/a1t1.mat\"\n",
    "data = loadmat(file_dir)\n",
    "data"
   ]
  },
  {
   "cell_type": "code",
   "execution_count": null,
   "metadata": {},
   "outputs": [],
   "source": [
    "\n",
    "from sklearn.preprocessing import OneHotEncoder\n",
    "encoder = OneHotEncoder(categories=[list(range(1, 13))], sparse_output=False)\n",
    "encoder.fit_transform(np.array(['11']).astype(int)[np.newaxis,:])"
   ]
  },
  {
   "cell_type": "code",
   "execution_count": null,
   "metadata": {},
   "outputs": [],
   "source": [
    "subjects = {\"age\" : [], \"height\": [], \"weight\": []}\n",
    "for i in range(1,15):\n",
    "    file_dir = datadir + f\"Subject{i}/a1t1.mat\"\n",
    "    data = loadmat(file_dir)\n",
    "    subjects['age'].append(int(data['age'][0]))\n",
    "    subjects['height'].append(int(data['height'][0][:3]))\n",
    "    subjects['weight'].append(int(data['weight'][0][:2]))"
   ]
  },
  {
   "cell_type": "code",
   "execution_count": null,
   "metadata": {},
   "outputs": [],
   "source": [
    "from sklearn.cluster import KMeans\n",
    "from sklearn.model_selection import train_test_split\n",
    "\n",
    "data = pd.DataFrame(subjects)\n",
    "\n",
    "# Use KMeans to create clusters (diversity groups)\n",
    "kmeans = KMeans(n_clusters=3, random_state=42)\n",
    "data['cluster'] = kmeans.fit_predict(data[['age', 'height', 'weight']])\n",
    "\n",
    "# Stratify by cluster to maintain diversity\n",
    "train_val, test = train_test_split(data, test_size=3, stratify=data['cluster'], random_state=42)\n",
    "train, val = train_test_split(train_val, test_size=3, stratify=train_val['cluster'], random_state=42)\n",
    "\n",
    "# Drop cluster column before using\n",
    "train = train.drop(columns='cluster')\n",
    "val = val.drop(columns='cluster')\n",
    "test = test.drop(columns='cluster')\n",
    "\n",
    "print(\"Train subjects:\\n\", sorted(train.index + 1))\n",
    "print(\"\\nValidation subjects:\\n\", sorted(val.index + 1))\n",
    "print(\"\\nTest subjects:\\n\", sorted(test.index + 1))"
   ]
  },
  {
   "cell_type": "markdown",
   "metadata": {},
   "source": [
    "# Capture 24"
   ]
  },
  {
   "cell_type": "code",
   "execution_count": 1,
   "metadata": {},
   "outputs": [
    {
     "ename": "NameError",
     "evalue": "name 'pd' is not defined",
     "output_type": "error",
     "traceback": [
      "\u001b[1;31m---------------------------------------------------------------------------\u001b[0m",
      "\u001b[1;31mNameError\u001b[0m                                 Traceback (most recent call last)",
      "Cell \u001b[1;32mIn[1], line 2\u001b[0m\n\u001b[0;32m      1\u001b[0m datadir \u001b[38;5;241m=\u001b[39m \u001b[38;5;124m\"\u001b[39m\u001b[38;5;124mC:/Users/cleme/ETH/Master/Thesis/data/Capture24/capture24\u001b[39m\u001b[38;5;124m\"\u001b[39m\n\u001b[1;32m----> 2\u001b[0m df \u001b[38;5;241m=\u001b[39m pd\u001b[38;5;241m.\u001b[39mread_csv(datadir \u001b[38;5;241m+\u001b[39m \u001b[38;5;124m\"\u001b[39m\u001b[38;5;124m/P001.csv\u001b[39m\u001b[38;5;124m\"\u001b[39m)\n\u001b[0;32m      3\u001b[0m df\n",
      "\u001b[1;31mNameError\u001b[0m: name 'pd' is not defined"
     ]
    }
   ],
   "source": [
    "datadir = \"C:/Users/cleme/ETH/Master/Thesis/data/Capture24/capture24\"\n",
    "df = pd.read_csv(datadir + \"/P001.csv\")\n",
    "df"
   ]
  },
  {
   "cell_type": "code",
   "execution_count": 10,
   "metadata": {},
   "outputs": [
    {
     "name": "stderr",
     "output_type": "stream",
     "text": [
      "C:\\Users\\cleme\\AppData\\Local\\Temp\\ipykernel_13892\\361741359.py:3: SettingWithCopyWarning: \n",
      "A value is trying to be set on a copy of a slice from a DataFrame.\n",
      "Try using .loc[row_indexer,col_indexer] = value instead\n",
      "\n",
      "See the caveats in the documentation: https://pandas.pydata.org/pandas-docs/stable/user_guide/indexing.html#returning-a-view-versus-a-copy\n",
      "  downsampled[\"annotation\"] = downsampled[\"annotation\"].str.split().str[-1].astype(float)\n",
      "C:\\Users\\cleme\\AppData\\Local\\Temp\\ipykernel_13892\\361741359.py:4: SettingWithCopyWarning: \n",
      "A value is trying to be set on a copy of a slice from a DataFrame.\n",
      "Try using .loc[row_indexer,col_indexer] = value instead\n",
      "\n",
      "See the caveats in the documentation: https://pandas.pydata.org/pandas-docs/stable/user_guide/indexing.html#returning-a-view-versus-a-copy\n",
      "  downsampled[\"annotation\"] = downsampled[\"annotation\"].interpolate()\n"
     ]
    },
    {
     "data": {
      "text/html": [
       "<div>\n",
       "<style scoped>\n",
       "    .dataframe tbody tr th:only-of-type {\n",
       "        vertical-align: middle;\n",
       "    }\n",
       "\n",
       "    .dataframe tbody tr th {\n",
       "        vertical-align: top;\n",
       "    }\n",
       "\n",
       "    .dataframe thead th {\n",
       "        text-align: right;\n",
       "    }\n",
       "</style>\n",
       "<table border=\"1\" class=\"dataframe\">\n",
       "  <thead>\n",
       "    <tr style=\"text-align: right;\">\n",
       "      <th></th>\n",
       "      <th>x</th>\n",
       "      <th>y</th>\n",
       "      <th>z</th>\n",
       "      <th>annotation</th>\n",
       "    </tr>\n",
       "  </thead>\n",
       "  <tbody>\n",
       "    <tr>\n",
       "      <th>0</th>\n",
       "      <td>-0.466690</td>\n",
       "      <td>-0.533341</td>\n",
       "      <td>0.658472</td>\n",
       "      <td>0.95</td>\n",
       "    </tr>\n",
       "    <tr>\n",
       "      <th>1</th>\n",
       "      <td>-0.466690</td>\n",
       "      <td>-0.533341</td>\n",
       "      <td>0.658472</td>\n",
       "      <td>0.95</td>\n",
       "    </tr>\n",
       "    <tr>\n",
       "      <th>2</th>\n",
       "      <td>-0.466690</td>\n",
       "      <td>-0.533341</td>\n",
       "      <td>0.658472</td>\n",
       "      <td>0.95</td>\n",
       "    </tr>\n",
       "    <tr>\n",
       "      <th>3</th>\n",
       "      <td>-0.482334</td>\n",
       "      <td>-0.533341</td>\n",
       "      <td>0.658472</td>\n",
       "      <td>0.95</td>\n",
       "    </tr>\n",
       "    <tr>\n",
       "      <th>4</th>\n",
       "      <td>-0.466690</td>\n",
       "      <td>-0.533341</td>\n",
       "      <td>0.673867</td>\n",
       "      <td>0.95</td>\n",
       "    </tr>\n",
       "    <tr>\n",
       "      <th>...</th>\n",
       "      <td>...</td>\n",
       "      <td>...</td>\n",
       "      <td>...</td>\n",
       "      <td>...</td>\n",
       "    </tr>\n",
       "    <tr>\n",
       "      <th>2504996</th>\n",
       "      <td>0.049416</td>\n",
       "      <td>-0.782285</td>\n",
       "      <td>0.565700</td>\n",
       "      <td>0.95</td>\n",
       "    </tr>\n",
       "    <tr>\n",
       "      <th>2504997</th>\n",
       "      <td>0.049416</td>\n",
       "      <td>-0.782285</td>\n",
       "      <td>0.565700</td>\n",
       "      <td>0.95</td>\n",
       "    </tr>\n",
       "    <tr>\n",
       "      <th>2504998</th>\n",
       "      <td>0.049416</td>\n",
       "      <td>-0.782285</td>\n",
       "      <td>0.565700</td>\n",
       "      <td>0.95</td>\n",
       "    </tr>\n",
       "    <tr>\n",
       "      <th>2504999</th>\n",
       "      <td>0.049416</td>\n",
       "      <td>-0.797846</td>\n",
       "      <td>0.565700</td>\n",
       "      <td>0.95</td>\n",
       "    </tr>\n",
       "    <tr>\n",
       "      <th>2505000</th>\n",
       "      <td>0.049416</td>\n",
       "      <td>-0.782285</td>\n",
       "      <td>0.565700</td>\n",
       "      <td>0.95</td>\n",
       "    </tr>\n",
       "  </tbody>\n",
       "</table>\n",
       "<p>2505001 rows × 4 columns</p>\n",
       "</div>"
      ],
      "text/plain": [
       "                x         y         z  annotation\n",
       "0       -0.466690 -0.533341  0.658472        0.95\n",
       "1       -0.466690 -0.533341  0.658472        0.95\n",
       "2       -0.466690 -0.533341  0.658472        0.95\n",
       "3       -0.482334 -0.533341  0.658472        0.95\n",
       "4       -0.466690 -0.533341  0.673867        0.95\n",
       "...           ...       ...       ...         ...\n",
       "2504996  0.049416 -0.782285  0.565700        0.95\n",
       "2504997  0.049416 -0.782285  0.565700        0.95\n",
       "2504998  0.049416 -0.782285  0.565700        0.95\n",
       "2504999  0.049416 -0.797846  0.565700        0.95\n",
       "2505000  0.049416 -0.782285  0.565700        0.95\n",
       "\n",
       "[2505001 rows x 4 columns]"
      ]
     },
     "execution_count": 10,
     "metadata": {},
     "output_type": "execute_result"
    }
   ],
   "source": [
    "no_time = df.drop([\"time\"], axis=1)\n",
    "downsampled = no_time.iloc[::4]  # downsample by factor of 4 | 100Hz => 25Hz\n",
    "downsampled[\"annotation\"] = downsampled[\"annotation\"].str.split().str[-1].astype(float)\n",
    "downsampled[\"annotation\"] = downsampled[\"annotation\"].interpolate()\n",
    "no_index = downsampled.reset_index(drop=True)\n",
    "no_index\n",
    "\n"
   ]
  },
  {
   "cell_type": "code",
   "execution_count": 13,
   "metadata": {},
   "outputs": [
    {
     "data": {
      "text/plain": [
       "<Axes: >"
      ]
     },
     "execution_count": 13,
     "metadata": {},
     "output_type": "execute_result"
    },
    {
     "data": {
      "image/png": "[encoded data removed]",
      "text/plain": [
       "<Figure size 640x480 with 1 Axes>"
      ]
     },
     "metadata": {},
     "output_type": "display_data"
    }
   ],
   "source": [
    "no_index['annotation'].plot()"
   ]
  },
  {
   "cell_type": "code",
   "execution_count": null,
   "metadata": {},
   "outputs": [
    {
     "data": {
      "text/html": [
       "<div>\n",
       "<style scoped>\n",
       "    .dataframe tbody tr th:only-of-type {\n",
       "        vertical-align: middle;\n",
       "    }\n",
       "\n",
       "    .dataframe tbody tr th {\n",
       "        vertical-align: top;\n",
       "    }\n",
       "\n",
       "    .dataframe thead th {\n",
       "        text-align: right;\n",
       "    }\n",
       "</style>\n",
       "<table border=\"1\" class=\"dataframe\">\n",
       "  <thead>\n",
       "    <tr style=\"text-align: right;\">\n",
       "      <th></th>\n",
       "      <th>x</th>\n",
       "      <th>y</th>\n",
       "      <th>z</th>\n",
       "      <th>annotation</th>\n",
       "    </tr>\n",
       "  </thead>\n",
       "  <tbody>\n",
       "  </tbody>\n",
       "</table>\n",
       "</div>"
      ],
      "text/plain": [
       "Empty DataFrame\n",
       "Columns: [x, y, z, annotation]\n",
       "Index: []"
      ]
     },
     "execution_count": 12,
     "metadata": {},
     "output_type": "execute_result"
    }
   ],
   "source": []
  },
  {
   "cell_type": "markdown",
   "metadata": {},
   "source": [
    "# WildPPG"
   ]
  },
  {
   "cell_type": "code",
   "execution_count": null,
   "metadata": {},
   "outputs": [],
   "source": [
    "datadir=\"C:/Users/cleme/ETH/Master/Thesis/data/euler/wildppg_preprocessed/\"\n",
    "file_path = datadir + \"WildPPG_Part_an0.npz\"\n",
    "data = np.load(file_path)"
   ]
  },
  {
   "cell_type": "code",
   "execution_count": null,
   "metadata": {},
   "outputs": [],
   "source": [
    "datadir=\"C:/Users/cleme/ETH/Master/Thesis/data/euler/wildppg_preprocessed/WildPPG.mat\"\n",
    "data = loadmat(datadir)\n"
   ]
  },
  {
   "cell_type": "code",
   "execution_count": null,
   "metadata": {},
   "outputs": [],
   "source": [
    "data['data_imu_wrist'][0,0].shape"
   ]
  },
  {
   "cell_type": "code",
   "execution_count": null,
   "metadata": {},
   "outputs": [],
   "source": [
    "arr = np.array([[1,2,3,4]]).T\n",
    "print(arr.shape)\n",
    "np.repeat(arr, 4,axis=1).shape"
   ]
  },
  {
   "cell_type": "code",
   "execution_count": null,
   "metadata": {},
   "outputs": [],
   "source": [
    "activity = data['data_imu_wrist'][0,0]\n",
    "pd.Series(activity.squeeze()).plot()"
   ]
  },
  {
   "cell_type": "code",
   "execution_count": null,
   "metadata": {},
   "outputs": [],
   "source": [
    "hr = data['data_bpm_values'][i,0]\n",
    "print(hr.shape)\n",
    "pd.Series(hr.squeeze()).plot()"
   ]
  },
  {
   "cell_type": "code",
   "execution_count": null,
   "metadata": {},
   "outputs": [],
   "source": [
    "for i in range(16):\n",
    "    hr = data['data_bpm_values'][i,0]\n",
    "    activity = data['data_imu_wrist'][i,0]\n",
    "    ppg = data['data_ppg_wrist'][i, 0]\n",
    "    print(hr.shape)\n",
    "    print(activity.shape)\n",
    "    print(ppg.shape)"
   ]
  },
  {
   "cell_type": "code",
   "execution_count": null,
   "metadata": {},
   "outputs": [],
   "source": [
    "any(pd.Series(data['data_bpm_values'][0,0].astype(int).squeeze()).isna())"
   ]
  },
  {
   "cell_type": "code",
   "execution_count": null,
   "metadata": {},
   "outputs": [],
   "source": [
    "data['data_ppg_wrist'][0][0].shape"
   ]
  },
  {
   "cell_type": "code",
   "execution_count": null,
   "metadata": {},
   "outputs": [],
   "source": [
    "datadir = \"C:/Users/cleme/ETH/Master/Thesis/data/WildPPG/data\"\n",
    "file_pat = datadir + \"/WildPPG_Part_an0.mat\"\n",
    "data = loadmat(file_pat)"
   ]
  },
  {
   "cell_type": "code",
   "execution_count": null,
   "metadata": {},
   "outputs": [],
   "source": [
    "data['sternum']"
   ]
  },
  {
   "cell_type": "code",
   "execution_count": null,
   "metadata": {},
   "outputs": [],
   "source": [
    "ecg = data['sternum']['ecg'][0][0][0][0][2].squeeze()"
   ]
  },
  {
   "cell_type": "code",
   "execution_count": null,
   "metadata": {},
   "outputs": [],
   "source": [
    "import neurokit2 as nk \n",
    "signals, info = nk.ecg_process(ecg, sampling_rate=128)"
   ]
  },
  {
   "cell_type": "code",
   "execution_count": null,
   "metadata": {},
   "outputs": [],
   "source": [
    "ecg_time = ecg.shape[0] / 128\n",
    "time_rpeaks = info['ECG_R_Peaks'] / 128\n",
    "diffed = np.diff(time_rpeaks)\n",
    "hr = 60 / diffed \n",
    "window_size = 128 * 8 \n",
    "stride = 128 * 2 \n",
    "ecg_time"
   ]
  },
  {
   "cell_type": "code",
   "execution_count": null,
   "metadata": {},
   "outputs": [],
   "source": [
    "pd.Series(data['sternum']['ecg'][0][0][0][0][2].squeeze(0)[:1000]).plot()"
   ]
  },
  {
   "cell_type": "code",
   "execution_count": null,
   "metadata": {},
   "outputs": [],
   "source": [
    "print(data['wrist']['ppg_g'][0][0][0]['v'][0].shape)\n",
    "print(data['wrist']['ppg_r'][0][0][0]['v'][0].shape)\n",
    "print(data['wrist']['ppg_ir'][0][0][0]['v'][0].shape)"
   ]
  },
  {
   "cell_type": "code",
   "execution_count": null,
   "metadata": {},
   "outputs": [],
   "source": [
    "from pathlib import Path \n",
    "datadir = Path(datadir)\n",
    "lengths = []\n",
    "for path in datadir.glob('*.mat'):\n",
    "    data = loadmat(path)\n",
    "    lengths.append(data['wrist']['acc_x'][0][0][0][0][2].shape[1])\n",
    "    del data"
   ]
  },
  {
   "cell_type": "code",
   "execution_count": null,
   "metadata": {},
   "outputs": [],
   "source": [
    "lengths"
   ]
  },
  {
   "cell_type": "code",
   "execution_count": null,
   "metadata": {},
   "outputs": [],
   "source": [
    "names = []\n",
    "for path in datadir.glob(\"*.mat\"):\n",
    "    names.append(str(path).split(\"_\")[-1][:3])\n",
    "names"
   ]
  },
  {
   "cell_type": "markdown",
   "metadata": {},
   "source": [
    "# IEEE Dataset"
   ]
  },
  {
   "cell_type": "markdown",
   "metadata": {},
   "source": [
    "The IEEE Dataset does not contain any activity labels or acceleration data. "
   ]
  },
  {
   "cell_type": "code",
   "execution_count": null,
   "metadata": {},
   "outputs": [],
   "source": [
    "datadir = \"C:/Users/cleme/ETH/Master/Thesis/data/euler/IEEEPPG/Training_data/Training_data\"\n",
    "data = loadmat(datadir + \"/DATA_01_TYPE01.mat\")\n",
    "hr = loadmat(datadir + \"/DATA_01_TYPE01_BPMtrace.mat\")\n"
   ]
  },
  {
   "cell_type": "code",
   "execution_count": null,
   "metadata": {},
   "outputs": [],
   "source": [
    "signal_files = Path(datadir).glob(\"*[12].mat\")\n",
    "bpm_files = Path(datadir).glob(\"*_BPMtrace.mat\")\n",
    "\n",
    "fs = 125  # sampling rate\n",
    "window_duration = 8\n",
    "overlap_duration = 6 \n",
    "\n",
    "from numpy.lib.stride_tricks import sliding_window_view\n",
    "from scipy.signal import butter, filtfilt\n",
    "from sklearn.preprocessing import MinMaxScaler\n",
    "\n",
    "def filter_butter(x, fs):\n",
    "    f1 = 0.5\n",
    "    f2 = 4\n",
    "    Wn = [f1, f2]\n",
    "    N = 4\n",
    "    b, a = butter(N, Wn, btype=\"bandpass\", fs=fs)\n",
    "    filtered = filtfilt(b, a, x)\n",
    "    # Normalize to range [0, 1]\n",
    "    scaler = MinMaxScaler()\n",
    "    filtered = scaler.fit_transform(filtered.reshape(-1, 1)).flatten()\n",
    "    return filtered\n",
    "\n",
    "def preprocess_signal(signal: np.ndarray):\n",
    "    # create windows\n",
    "    windows = sliding_window_view(signal, window_shape=window_duration * fs)[\n",
    "        :: (window_duration - overlap_duration) * fs\n",
    "    ]\n",
    "    # downsample from 125Hz => 25Hz\n",
    "    downsampled_windows = windows[:, ::5]\n",
    "\n",
    "    return downsampled_windows\n",
    "\n",
    "participant_signals = []\n",
    "participant_bpms = []\n",
    "for i,(signal_file, bpm_file) in enumerate(zip(signal_files, bpm_files)):\n",
    "\n",
    "    signals = loadmat(signal_file)[\"sig\"]\n",
    "    bpm = loadmat(bpm_file)['BPM0']\n",
    "\n",
    "    ppg1 = filter_butter(signals[1], fs)\n",
    "    ppg2 = filter_butter(signals[2], fs)\n",
    "    acc_x = filter_butter(signals[3], fs)\n",
    "    acc_y = filter_butter(signals[4], fs)\n",
    "    acc_z = filter_butter(signals[5], fs)\n",
    "\n",
    "    avg_ppg = (ppg1 + ppg2) / 2\n",
    "    acc = np.sqrt(acc_x**2 + acc_y**2 + acc_z**2)\n",
    "    ppg = preprocess_signal(avg_ppg)[:, :, np.newaxis]  # add concatenation axis\n",
    "    acc = preprocess_signal(acc)[:, :, np.newaxis]\n",
    "    combined_signal = np.concatenate((ppg, acc), axis=-1)  # Shape (W, T, 2)\n",
    "\n",
    "    signal_data = combined_signal[:-1]\n",
    "    if len(signal_data) != len(bpm):\n",
    "        print(\n",
    "                f\"bpm {len(bpm)}and signal_data {len(signal_data)} are not the same shape \"\n",
    "        )\n",
    "        signal_data = combined_signal[:]         \n",
    "      \n",
    "\n",
    "    print(len(signal_data))\n",
    "    print(len(bpm))\n",
    "    assert len(signal_data) == len(bpm)\n",
    "\n",
    "    participant_signals.append(signal_data)\n",
    "    participant_bpms.append(bpm)\n",
    "\n",
    "\n",
    "stacked_signals = np.stack(participant_signals, axis=0)\n",
    "stacked_bpms = np.stack(participant_bpms, axis=0)"
   ]
  },
  {
   "cell_type": "code",
   "execution_count": null,
   "metadata": {},
   "outputs": [],
   "source": [
    "data['sig'][0]"
   ]
  },
  {
   "cell_type": "code",
   "execution_count": null,
   "metadata": {},
   "outputs": [],
   "source": [
    "hr['BPM0'].shape"
   ]
  },
  {
   "cell_type": "markdown",
   "metadata": {},
   "source": []
  },
  {
   "cell_type": "code",
   "execution_count": null,
   "metadata": {},
   "outputs": [],
   "source": [
    "data['whole_dataset'][0][0]"
   ]
  },
  {
   "cell_type": "markdown",
   "metadata": {},
   "source": []
  },
  {
   "cell_type": "markdown",
   "metadata": {},
   "source": [
    "# Chapman "
   ]
  },
  {
   "cell_type": "code",
   "execution_count": null,
   "metadata": {},
   "outputs": [],
   "source": [
    "datadir = \"C:/Users/cleme/ETH/Master/Thesis/data/Chapman/\"\n",
    "data = loadmat(datadir + \"chapman.mat\")\n"
   ]
  },
  {
   "cell_type": "code",
   "execution_count": null,
   "metadata": {},
   "outputs": [],
   "source": [
    "data['whole_data'][0][0].shape"
   ]
  },
  {
   "cell_type": "code",
   "execution_count": null,
   "metadata": {},
   "outputs": [],
   "source": [
    "df = pd.DataFrame(data['whole_data'])\n",
    "df[0].values[1].shape"
   ]
  },
  {
   "cell_type": "code",
   "execution_count": null,
   "metadata": {},
   "outputs": [],
   "source": [
    "df = pd.DataFrame(data['whole_data'])[1].apply(lambda x: x[0][0])\n",
    "plt.hist(df.values)\n",
    "print(df.unique())"
   ]
  }
 ],
 "metadata": {
  "kernelspec": {
   "display_name": "dsl",
   "language": "python",
   "name": "python3"
  },
  "language_info": {
   "codemirror_mode": {
    "name": "ipython",
    "version": 3
   },
   "file_extension": ".py",
   "mimetype": "text/x-python",
   "name": "python",
   "nbconvert_exporter": "python",
   "pygments_lexer": "ipython3",
   "version": "3.12.3"
  }
 },
 "nbformat": 4,
 "nbformat_minor": 2
}
