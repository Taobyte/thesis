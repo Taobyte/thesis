{
 "cells": [
  {
   "cell_type": "code",
   "execution_count": 17,
   "metadata": {},
   "outputs": [],
   "source": [
    "import os \n",
    "import glob\n",
    "import numpy as np\n",
    "import pandas as pd \n",
    "import matplotlib.pyplot as plt \n",
    "from scipy.io import loadmat\n",
    "from scipy.signal import resample\n",
    "from pathlib import Path\n",
    "\n"
   ]
  },
  {
   "cell_type": "code",
   "execution_count": 19,
   "metadata": {},
   "outputs": [
    {
     "data": {
      "text/plain": [
       "array([1, 2])"
      ]
     },
     "execution_count": 19,
     "metadata": {},
     "output_type": "execute_result"
    }
   ],
   "source": [
    "arr = np.array([1,2,3])\n",
    "arr[:-1]"
   ]
  },
  {
   "cell_type": "markdown",
   "metadata": {},
   "source": [
    "# DaLiA Dataset"
   ]
  },
  {
   "cell_type": "code",
   "execution_count": 3,
   "metadata": {},
   "outputs": [
    {
     "data": {
      "text/html": [
       "<div>\n",
       "<style scoped>\n",
       "    .dataframe tbody tr th:only-of-type {\n",
       "        vertical-align: middle;\n",
       "    }\n",
       "\n",
       "    .dataframe tbody tr th {\n",
       "        vertical-align: top;\n",
       "    }\n",
       "\n",
       "    .dataframe thead th {\n",
       "        text-align: right;\n",
       "    }\n",
       "</style>\n",
       "<table border=\"1\" class=\"dataframe\">\n",
       "  <thead>\n",
       "    <tr style=\"text-align: right;\">\n",
       "      <th></th>\n",
       "      <th>SUBJECT_ID</th>\n",
       "      <th>AGE</th>\n",
       "      <th>GENDER</th>\n",
       "      <th>HEIGHT</th>\n",
       "      <th>WEIGHT</th>\n",
       "      <th>SKIN</th>\n",
       "      <th>SPORT</th>\n",
       "    </tr>\n",
       "  </thead>\n",
       "  <tbody>\n",
       "    <tr>\n",
       "      <th>0</th>\n",
       "      <td>S1</td>\n",
       "      <td>34</td>\n",
       "      <td>m</td>\n",
       "      <td>182</td>\n",
       "      <td>78</td>\n",
       "      <td>3</td>\n",
       "      <td>6</td>\n",
       "    </tr>\n",
       "    <tr>\n",
       "      <th>1</th>\n",
       "      <td>S10</td>\n",
       "      <td>55</td>\n",
       "      <td>f</td>\n",
       "      <td>164</td>\n",
       "      <td>56</td>\n",
       "      <td>4</td>\n",
       "      <td>5</td>\n",
       "    </tr>\n",
       "    <tr>\n",
       "      <th>2</th>\n",
       "      <td>S11</td>\n",
       "      <td>24</td>\n",
       "      <td>f</td>\n",
       "      <td>168</td>\n",
       "      <td>62</td>\n",
       "      <td>3</td>\n",
       "      <td>5</td>\n",
       "    </tr>\n",
       "    <tr>\n",
       "      <th>3</th>\n",
       "      <td>S12</td>\n",
       "      <td>43</td>\n",
       "      <td>m</td>\n",
       "      <td>195</td>\n",
       "      <td>105</td>\n",
       "      <td>3</td>\n",
       "      <td>5</td>\n",
       "    </tr>\n",
       "    <tr>\n",
       "      <th>4</th>\n",
       "      <td>S13</td>\n",
       "      <td>21</td>\n",
       "      <td>f</td>\n",
       "      <td>170</td>\n",
       "      <td>63</td>\n",
       "      <td>3</td>\n",
       "      <td>6</td>\n",
       "    </tr>\n",
       "    <tr>\n",
       "      <th>5</th>\n",
       "      <td>S14</td>\n",
       "      <td>26</td>\n",
       "      <td>f</td>\n",
       "      <td>170</td>\n",
       "      <td>67</td>\n",
       "      <td>3</td>\n",
       "      <td>4</td>\n",
       "    </tr>\n",
       "    <tr>\n",
       "      <th>6</th>\n",
       "      <td>S15</td>\n",
       "      <td>28</td>\n",
       "      <td>m</td>\n",
       "      <td>183</td>\n",
       "      <td>79</td>\n",
       "      <td>2</td>\n",
       "      <td>5</td>\n",
       "    </tr>\n",
       "    <tr>\n",
       "      <th>7</th>\n",
       "      <td>S2</td>\n",
       "      <td>28</td>\n",
       "      <td>m</td>\n",
       "      <td>189</td>\n",
       "      <td>80</td>\n",
       "      <td>3</td>\n",
       "      <td>5</td>\n",
       "    </tr>\n",
       "    <tr>\n",
       "      <th>8</th>\n",
       "      <td>S3</td>\n",
       "      <td>25</td>\n",
       "      <td>m</td>\n",
       "      <td>170</td>\n",
       "      <td>60</td>\n",
       "      <td>3</td>\n",
       "      <td>5</td>\n",
       "    </tr>\n",
       "    <tr>\n",
       "      <th>9</th>\n",
       "      <td>S4</td>\n",
       "      <td>25</td>\n",
       "      <td>m</td>\n",
       "      <td>168</td>\n",
       "      <td>57</td>\n",
       "      <td>4</td>\n",
       "      <td>5</td>\n",
       "    </tr>\n",
       "    <tr>\n",
       "      <th>10</th>\n",
       "      <td>S5</td>\n",
       "      <td>21</td>\n",
       "      <td>f</td>\n",
       "      <td>180</td>\n",
       "      <td>70</td>\n",
       "      <td>3</td>\n",
       "      <td>4</td>\n",
       "    </tr>\n",
       "    <tr>\n",
       "      <th>11</th>\n",
       "      <td>S6</td>\n",
       "      <td>37</td>\n",
       "      <td>f</td>\n",
       "      <td>176</td>\n",
       "      <td>70</td>\n",
       "      <td>3</td>\n",
       "      <td>1</td>\n",
       "    </tr>\n",
       "    <tr>\n",
       "      <th>12</th>\n",
       "      <td>S7</td>\n",
       "      <td>21</td>\n",
       "      <td>f</td>\n",
       "      <td>168</td>\n",
       "      <td>58</td>\n",
       "      <td>3</td>\n",
       "      <td>2</td>\n",
       "    </tr>\n",
       "    <tr>\n",
       "      <th>13</th>\n",
       "      <td>S8</td>\n",
       "      <td>43</td>\n",
       "      <td>m</td>\n",
       "      <td>179</td>\n",
       "      <td>70</td>\n",
       "      <td>3</td>\n",
       "      <td>5</td>\n",
       "    </tr>\n",
       "    <tr>\n",
       "      <th>14</th>\n",
       "      <td>S9</td>\n",
       "      <td>28</td>\n",
       "      <td>f</td>\n",
       "      <td>167</td>\n",
       "      <td>60</td>\n",
       "      <td>4</td>\n",
       "      <td>5</td>\n",
       "    </tr>\n",
       "  </tbody>\n",
       "</table>\n",
       "</div>"
      ],
      "text/plain": [
       "   SUBJECT_ID  AGE GENDER HEIGHT WEIGHT SKIN SPORT\n",
       "0          S1   34      m    182     78    3     6\n",
       "1         S10   55      f    164     56    4     5\n",
       "2         S11   24      f    168     62    3     5\n",
       "3         S12   43      m    195    105    3     5\n",
       "4         S13   21      f    170     63    3     6\n",
       "5         S14   26      f    170     67    3     4\n",
       "6         S15   28      m    183     79    2     5\n",
       "7          S2   28      m    189     80    3     5\n",
       "8          S3   25      m    170     60    3     5\n",
       "9          S4   25      m    168     57    4     5\n",
       "10         S5   21      f    180     70    3     4\n",
       "11         S6   37      f    176     70    3     1\n",
       "12         S7   21      f    168     58    3     2\n",
       "13         S8   43      m    179     70    3     5\n",
       "14         S9   28      f    167     60    4     5"
      ]
     },
     "execution_count": 3,
     "metadata": {},
     "output_type": "execute_result"
    }
   ],
   "source": [
    "data_path = \"C:/Users/cleme/ETH/Master/Thesis/data/DaLiA/data/PPG_FieldStudy\"\n",
    "participant_paths = glob.glob(os.path.join(data_path, '**', '*_quest.csv'), recursive=True)\n",
    "series = []\n",
    "for participant in participant_paths:\n",
    "   row = pd.read_csv(participant, header=None).T\n",
    "   row.columns = [el.split(\" \")[1] for el in row.iloc[0]]\n",
    "   row = row.drop(row.index[0])\n",
    "   series.append(row) \n",
    "\n",
    "df = pd.concat(series, ignore_index=True)\n",
    "df"
   ]
  },
  {
   "cell_type": "code",
   "execution_count": 64,
   "metadata": {},
   "outputs": [
    {
     "data": {
      "text/plain": [
       "{'rpeaks': array([    240,    1174,    2128, ..., 6447292, 6447748, 6448224]),\n",
       " 'signal': {'chest': {'ACC': array([[ 0.85640001, -0.06779999, -0.36559999],\n",
       "          [ 0.8556    , -0.06900001, -0.3646    ],\n",
       "          [ 0.852     , -0.07020003, -0.3642    ],\n",
       "          ...,\n",
       "          [ 0.88759995, -0.1038    , -0.27920002],\n",
       "          [ 0.88619995, -0.10159999, -0.27819997],\n",
       "          [ 0.88680005, -0.10140002, -0.27380002]]),\n",
       "   'ECG': array([[0.01560974],\n",
       "          [0.01812744],\n",
       "          [0.01753235],\n",
       "          ...,\n",
       "          [0.21368408],\n",
       "          [0.21556091],\n",
       "          [0.21702576]]),\n",
       "   'EMG': array([[-1.5],\n",
       "          [-1.5],\n",
       "          [-1.5],\n",
       "          ...,\n",
       "          [-1.5],\n",
       "          [-1.5],\n",
       "          [-1.5]]),\n",
       "   'EDA': array([[0.],\n",
       "          [0.],\n",
       "          [0.],\n",
       "          ...,\n",
       "          [0.],\n",
       "          [0.],\n",
       "          [0.]]),\n",
       "   'Temp': array([[-273.15],\n",
       "          [-273.15],\n",
       "          [-273.15],\n",
       "          ...,\n",
       "          [-273.15],\n",
       "          [-273.15],\n",
       "          [-273.15]], dtype=float32),\n",
       "   'Resp': array([[ 4.4418335 ],\n",
       "          [ 4.45098877],\n",
       "          [ 4.47387695],\n",
       "          ...,\n",
       "          [-3.05023193],\n",
       "          [-3.05328369],\n",
       "          [-3.05633545]])},\n",
       "  'wrist': {'ACC': array([[-0.765625, -0.078125,  0.671875],\n",
       "          [-0.765625, -0.078125,  0.65625 ],\n",
       "          [-0.765625, -0.078125,  0.671875],\n",
       "          ...,\n",
       "          [-0.375   , -0.015625,  0.9375  ],\n",
       "          [-0.390625,  0.      ,  0.9375  ],\n",
       "          [-0.375   ,  0.      ,  0.9375  ]]),\n",
       "   'BVP': array([[  7.28],\n",
       "          [  6.33],\n",
       "          [  5.46],\n",
       "          ...,\n",
       "          [105.02],\n",
       "          [109.44],\n",
       "          [111.06]]),\n",
       "   'EDA': array([[4.722437],\n",
       "          [4.728843],\n",
       "          [4.718594],\n",
       "          ...,\n",
       "          [3.170867],\n",
       "          [3.159336],\n",
       "          [3.151649]]),\n",
       "   'TEMP': array([[32.13],\n",
       "          [32.16],\n",
       "          [32.16],\n",
       "          ...,\n",
       "          [34.37],\n",
       "          [34.37],\n",
       "          [34.37]])}},\n",
       " 'label': array([49.61136908, 50.32399248, 52.70833578, ..., 84.004991  ,\n",
       "        85.79625673, 87.4113988 ]),\n",
       " 'activity': array([[0.],\n",
       "        [0.],\n",
       "        [0.],\n",
       "        ...,\n",
       "        [0.],\n",
       "        [0.],\n",
       "        [0.]]),\n",
       " 'questionnaire': {'WEIGHT': 78.0,\n",
       "  'Gender': ' m',\n",
       "  'AGE': 34,\n",
       "  'HEIGHT': 182.0,\n",
       "  'SKIN': 3,\n",
       "  'SPORT': 6},\n",
       " 'subject': 'S1'}"
      ]
     },
     "execution_count": 64,
     "metadata": {},
     "output_type": "execute_result"
    }
   ],
   "source": [
    "import pickle\n",
    "\n",
    "with open(data_path + \"/S1/S1.pkl\", \"rb\") as f:\n",
    "    data = pickle.load(f, encoding=\"latin1\")\n",
    "data"
   ]
  },
  {
   "cell_type": "code",
   "execution_count": 67,
   "metadata": {},
   "outputs": [
    {
     "name": "stdout",
     "output_type": "stream",
     "text": [
      "9212\n",
      "9212.0\n"
     ]
    }
   ],
   "source": [
    "acc = data['signal']['wrist']['ACC']\n",
    "time = 8 + 2 * (data['label'].shape[0] - 1)\n",
    "print(time)\n",
    "print(acc.shape[0] / 32)"
   ]
  },
  {
   "cell_type": "code",
   "execution_count": 61,
   "metadata": {},
   "outputs": [
    {
     "name": "stdout",
     "output_type": "stream",
     "text": [
      "Window means shape: (4603,)\n"
     ]
    }
   ],
   "source": [
    "import numpy as np\n",
    "from numpy.lib.stride_tricks import sliding_window_view\n",
    "\n",
    "# Input data (replace with your actual data)\n",
    "vec = acc[:,0]\n",
    "\n",
    "# Parameters\n",
    "window_size = 256  # 8 seconds at 32Hz\n",
    "stride = 64        # 2 seconds at 32Hz\n",
    "\n",
    "# Compute sliding window mean\n",
    "windows = sliding_window_view(vec, window_shape=window_size)[::stride]\n",
    "window_means = np.mean(windows, axis=1)\n",
    "\n",
    "# Output shape\n",
    "print(\"Window means shape:\", window_means.shape)"
   ]
  },
  {
   "cell_type": "code",
   "execution_count": 82,
   "metadata": {},
   "outputs": [
    {
     "data": {
      "text/plain": [
       "(4603,)"
      ]
     },
     "execution_count": 82,
     "metadata": {},
     "output_type": "execute_result"
    }
   ],
   "source": [
    "data['label'].shape"
   ]
  },
  {
   "cell_type": "code",
   "execution_count": 80,
   "metadata": {},
   "outputs": [
    {
     "name": "stdout",
     "output_type": "stream",
     "text": [
      "4603\n"
     ]
    },
    {
     "data": {
      "text/plain": [
       "(4603,)"
      ]
     },
     "execution_count": 80,
     "metadata": {},
     "output_type": "execute_result"
    }
   ],
   "source": [
    "import numpy as np\n",
    "\n",
    "# Example vector\n",
    "x = acc[:,0]  # or whatever your 1D array is\n",
    "\n",
    "# Parameters\n",
    "window_size = 256\n",
    "stride = 64\n",
    "\n",
    "print((x.size - window_size)// stride + 1)\n",
    "\n",
    "# Create the sliding windows\n",
    "shape = ((x.size - window_size) // stride + 1, window_size)\n",
    "strides = (x.strides[0] * stride, x.strides[0])\n",
    "windows = np.lib.stride_tricks.as_strided(x, shape=shape, strides=strides)\n",
    "\n",
    "# Compute the mean for each window\n",
    "means = windows.mean(axis=1)\n",
    "means.shape\n"
   ]
  },
  {
   "cell_type": "code",
   "execution_count": 79,
   "metadata": {},
   "outputs": [
    {
     "data": {
      "text/plain": [
       "9212.0"
      ]
     },
     "execution_count": 79,
     "metadata": {},
     "output_type": "execute_result"
    }
   ],
   "source": [
    "acc[:,0].shape[0] / 32"
   ]
  },
  {
   "cell_type": "code",
   "execution_count": 19,
   "metadata": {},
   "outputs": [
    {
     "name": "stdout",
     "output_type": "stream",
     "text": [
      "(11431,)\n"
     ]
    },
    {
     "data": {
      "text/plain": [
       "<Axes: >"
      ]
     },
     "execution_count": 19,
     "metadata": {},
     "output_type": "execute_result"
    },
    {
     "data": {
      "image/png": "[encoded data removed]",
      "text/plain": [
       "<Figure size 640x480 with 1 Axes>"
      ]
     },
     "metadata": {},
     "output_type": "display_data"
    }
   ],
   "source": [
    "rpeaks = data['rpeaks']\n",
    "print(rpeaks.shape)\n",
    "rpeaks = rpeaks / 700.0\n",
    "rr_intervals = np.diff(rpeaks)\n",
    "hr = 60 / rr_intervals \n",
    "pd.Series(hr[:100]).plot()"
   ]
  },
  {
   "cell_type": "code",
   "execution_count": 18,
   "metadata": {},
   "outputs": [
    {
     "data": {
      "text/plain": [
       "<Axes: >"
      ]
     },
     "execution_count": 18,
     "metadata": {},
     "output_type": "execute_result"
    },
    {
     "data": {
      "image/png": "[encoded data removed]",
      "text/plain": [
       "<Figure size 640x480 with 1 Axes>"
      ]
     },
     "metadata": {},
     "output_type": "display_data"
    }
   ],
   "source": [
    "pd.Series(data['label'][:100]).plot()"
   ]
  },
  {
   "cell_type": "code",
   "execution_count": 10,
   "metadata": {},
   "outputs": [
    {
     "data": {
      "text/plain": [
       "(294784, 3)"
      ]
     },
     "execution_count": 10,
     "metadata": {},
     "output_type": "execute_result"
    }
   ],
   "source": [
    "data['signal']['wrist']['ACC'].shape"
   ]
  },
  {
   "cell_type": "code",
   "execution_count": 15,
   "metadata": {},
   "outputs": [
    {
     "data": {
      "text/plain": [
       "25.788120024494795"
      ]
     },
     "execution_count": 15,
     "metadata": {},
     "output_type": "execute_result"
    }
   ],
   "source": [
    "294784 / 11431"
   ]
  },
  {
   "cell_type": "code",
   "execution_count": 22,
   "metadata": {},
   "outputs": [
    {
     "data": {
      "text/plain": [
       "2800"
      ]
     },
     "execution_count": 22,
     "metadata": {},
     "output_type": "execute_result"
    }
   ],
   "source": [
    "len(np.where(data['activity']==1.0)[0]) "
   ]
  },
  {
   "cell_type": "code",
   "execution_count": 25,
   "metadata": {},
   "outputs": [
    {
     "name": "stderr",
     "output_type": "stream",
     "text": [
      "C:\\Users\\cleme\\AppData\\Local\\Temp\\ipykernel_15288\\3397908756.py:21: UserWarning: No artists with labels found to put in legend.  Note that artists whose label start with an underscore are ignored when legend() is called with no argument.\n",
      "  plt.legend()\n"
     ]
    },
    {
     "data": {
      "text/plain": [
       "<matplotlib.legend.Legend at 0x1ff55018aa0>"
      ]
     },
     "execution_count": 25,
     "metadata": {},
     "output_type": "execute_result"
    },
    {
     "data": {
      "image/png": "[encoded data removed]",
      "text/plain": [
       "<Figure size 640x480 with 1 Axes>"
      ]
     },
     "metadata": {},
     "output_type": "display_data"
    }
   ],
   "source": [
    "data_path = \"C:/Users/cleme/ETH/Master/Thesis/data/euler\"\n",
    "np_data = np.load(data_path + \"/dalia_preprocessed/S1.npz\")\n",
    "\n",
    "def scale(data):\n",
    "    return (data - np.mean(data)) / (np.std(data) + 1e-8)\n",
    "\n",
    "series = np_data['bvp'][:, 0]\n",
    "series = scale(series)\n",
    "\n",
    "activity = resample(np_data['wrist_acc'], len(np_data['bvp']))\n",
    "activity = activity[:,0]**2 + activity[:, 1]**2 + activity[:,2]**2\n",
    "activity = scale(activity)\n",
    "\n",
    "highest_activity = np.argmax(activity)\n",
    "lower = max(highest_activity-1000,0)\n",
    "upper = min(highest_activity+1000,len(np_data['bvp']))\n",
    "serie = pd.Series(series[lower: upper])\n",
    "serie.plot(alpha=0.5)\n",
    "activity = pd.Series(activity[lower:upper])\n",
    "activity.plot(alpha=0.5)\n",
    "plt.legend()"
   ]
  },
  {
   "cell_type": "code",
   "execution_count": 63,
   "metadata": {},
   "outputs": [
    {
     "data": {
      "text/plain": [
       "<Axes: >"
      ]
     },
     "execution_count": 63,
     "metadata": {},
     "output_type": "execute_result"
    },
    {
     "data": {
      "image/png": "[encoded data removed]",
      "text/plain": [
       "<Figure size 640x480 with 1 Axes>"
      ]
     },
     "metadata": {},
     "output_type": "display_data"
    }
   ],
   "source": [
    "pd.Series(data['signal']['chest']['ECG'][:1400][:,0]).plot()"
   ]
  },
  {
   "cell_type": "code",
   "execution_count": null,
   "metadata": {},
   "outputs": [
    {
     "data": {
      "text/plain": [
       "(589568, 1)"
      ]
     },
     "execution_count": 66,
     "metadata": {},
     "output_type": "execute_result"
    }
   ],
   "source": [
    "data['signal']['wrist']['BVP']"
   ]
  },
  {
   "cell_type": "markdown",
   "metadata": {},
   "source": [
    "# UCIHAR Dataset"
   ]
  },
  {
   "cell_type": "code",
   "execution_count": 27,
   "metadata": {},
   "outputs": [
    {
     "data": {
      "text/plain": [
       "NpzFile 'C:/Users/cleme/ETH/Master/Thesis/data/UCIHAR/UCI HAR Dataset/UCI HAR Dataset/ucihar_preprocessed.npz' with keys: train_val_subjects, y_train, y_test, X_train, X_test"
      ]
     },
     "execution_count": 27,
     "metadata": {},
     "output_type": "execute_result"
    }
   ],
   "source": [
    "datadir = \"C:/Users/cleme/ETH/Master/Thesis/data/UCIHAR/UCI HAR Dataset/UCI HAR Dataset/\"\n",
    "data = np.load(datadir + \"ucihar_preprocessed.npz\")\n",
    "data"
   ]
  },
  {
   "cell_type": "code",
   "execution_count": 33,
   "metadata": {},
   "outputs": [
    {
     "data": {
      "text/plain": [
       "True"
      ]
     },
     "execution_count": 33,
     "metadata": {},
     "output_type": "execute_result"
    }
   ],
   "source": [
    "data['train_val_subjects'].shape[0] == data['X_train'].shape[0]"
   ]
  },
  {
   "cell_type": "code",
   "execution_count": 34,
   "metadata": {},
   "outputs": [
    {
     "data": {
      "text/plain": [
       "True"
      ]
     },
     "execution_count": 34,
     "metadata": {},
     "output_type": "execute_result"
    }
   ],
   "source": [
    "data['X_test'].shape[0] == data['y_test'].shape[0]"
   ]
  },
  {
   "cell_type": "code",
   "execution_count": 36,
   "metadata": {},
   "outputs": [
    {
     "data": {
      "text/plain": [
       "array([5., 4., 6., 1., 3., 2.])"
      ]
     },
     "execution_count": 36,
     "metadata": {},
     "output_type": "execute_result"
    }
   ],
   "source": [
    "pd.Series(data['y_train']).unique()"
   ]
  },
  {
   "cell_type": "code",
   "execution_count": 37,
   "metadata": {},
   "outputs": [
    {
     "data": {
      "text/plain": [
       "(7352, 128)"
      ]
     },
     "execution_count": 37,
     "metadata": {},
     "output_type": "execute_result"
    }
   ],
   "source": [
    "inertial = \"C:/Users/cleme/ETH/Master/Thesis/data/euler/UCIHAR/train/Inertial Signals/\"\n",
    "data_x = np.loadtxt(inertial + \"total_acc_x_train.txt\")\n",
    "data_x.shape"
   ]
  },
  {
   "cell_type": "code",
   "execution_count": 25,
   "metadata": {},
   "outputs": [
    {
     "name": "stdout",
     "output_type": "stream",
     "text": [
      "[ 1.  3.  5.  6.  7.  8. 11. 14. 15. 16. 17. 19. 21. 22. 23. 25. 26. 27.\n",
      " 28. 29. 30.]\n",
      "[ 2.  4.  9. 10. 12. 13. 18. 20. 24.]\n"
     ]
    }
   ],
   "source": [
    "y_train = np.loadtxt(datadir + \"train/y_train.txt\")\n",
    "y_test = np.loadtxt(datadir + \"test/y_test.txt\")\n",
    "print(pd.Series(y_train).unique())\n",
    "print(pd.Series(y_test).unique())"
   ]
  },
  {
   "cell_type": "code",
   "execution_count": null,
   "metadata": {},
   "outputs": [
    {
     "data": {
      "text/plain": [
       "array([ 2,  4,  9, 10, 12, 13, 18, 20, 24])"
      ]
     },
     "execution_count": 10,
     "metadata": {},
     "output_type": "execute_result"
    }
   ],
   "source": []
  },
  {
   "cell_type": "code",
   "execution_count": null,
   "metadata": {},
   "outputs": [
    {
     "data": {
      "text/plain": [
       "(7352, 128)"
      ]
     },
     "execution_count": 11,
     "metadata": {},
     "output_type": "execute_result"
    }
   ],
   "source": [
    "body_acc_x = np.loadtxt(datadir + \"Inertial Signals/body_acc_x_train.txt\")"
   ]
  },
  {
   "cell_type": "code",
   "execution_count": 14,
   "metadata": {},
   "outputs": [
    {
     "name": "stdout",
     "output_type": "stream",
     "text": [
      "(7352, 561)\n"
     ]
    }
   ],
   "source": [
    "print(x_train.shape)"
   ]
  },
  {
   "cell_type": "code",
   "execution_count": 19,
   "metadata": {},
   "outputs": [
    {
     "data": {
      "text/plain": [
       "array([ 1.,  3.,  5.,  6.,  7.,  8., 11., 14., 15., 16., 17., 19., 21.,\n",
       "       22., 23., 25., 26., 27., 28., 29., 30.])"
      ]
     },
     "execution_count": 19,
     "metadata": {},
     "output_type": "execute_result"
    }
   ],
   "source": [
    "pd.Series(subjects).unique()"
   ]
  },
  {
   "cell_type": "markdown",
   "metadata": {},
   "source": [
    "# USC Dataset"
   ]
  },
  {
   "cell_type": "code",
   "execution_count": 47,
   "metadata": {},
   "outputs": [
    {
     "data": {
      "text/plain": [
       "{'__header__': b'MATLAB 5.0 MAT-file, Platform: PCWIN, Created on: Sun Oct 17 17:39:12 2010',\n",
       " '__version__': '1.0',\n",
       " '__globals__': [],\n",
       " 'title': array(['USC Human Motion Dataset'], dtype='<U24'),\n",
       " 'version': array(['1.0'], dtype='<U3'),\n",
       " 'date': array(['Oct-2010'], dtype='<U8'),\n",
       " 'subject': array(['1'], dtype='<U1'),\n",
       " 'age': array(['27'], dtype='<U2'),\n",
       " 'height': array(['164cm'], dtype='<U5'),\n",
       " 'weight': array(['43kg'], dtype='<U4'),\n",
       " 'activity': array(['walking-forward'], dtype='<U15'),\n",
       " 'activity_number': array(['1'], dtype='<U1'),\n",
       " 'trial': array(['1'], dtype='<U1'),\n",
       " 'sensor_location': array(['front-right-hip'], dtype='<U15'),\n",
       " 'sensor_orientation': array(['x-gravity-y-walking-direction-z-vertical-to-walking-direction'],\n",
       "       dtype='<U61'),\n",
       " 'sensor_readings': array([[ 1.16277993e+00, -1.89287394e-01, -2.95780540e-01,\n",
       "         -1.87813244e+01,  3.36187220e+00, -1.68631287e+01],\n",
       "        [ 1.03229570e+00, -2.00144812e-01, -3.76303941e-01,\n",
       "         -1.35445089e+01,  5.77886438e+00, -1.44461365e+01],\n",
       "        [ 9.05245245e-01, -2.03763947e-01, -3.94604713e-01,\n",
       "         -2.48238049e+01,  6.98736048e+00, -2.16971130e+01],\n",
       "        ...,\n",
       "        [ 8.46870720e-01, -5.04152596e-01, -5.78705147e-02,\n",
       "          1.06254129e+01, -2.76561947e+01,  6.57174377e+01],\n",
       "        [ 9.05245245e-01, -5.33105671e-01, -1.09112673e-01,\n",
       "          2.10990467e+01, -2.76561947e+01,  4.59786682e+01],\n",
       "        [ 9.05245245e-01, -5.40344000e-01, -1.67675138e-01,\n",
       "          2.99613514e+01, -2.36278744e+01,  2.70455627e+01]])}"
      ]
     },
     "execution_count": 47,
     "metadata": {},
     "output_type": "execute_result"
    }
   ],
   "source": [
    "\n",
    "datadir = \"C:/Users/cleme/ETH/Master/Thesis/data/USC/USC-HAD/\"\n",
    "file_dir = datadir + \"Subject1/a1t1.mat\"\n",
    "data = loadmat(file_dir)\n",
    "data"
   ]
  },
  {
   "cell_type": "code",
   "execution_count": 56,
   "metadata": {},
   "outputs": [
    {
     "data": {
      "text/plain": [
       "array([[0., 0., 0., 0., 0., 0., 0., 0., 0., 0., 1., 0.]])"
      ]
     },
     "execution_count": 56,
     "metadata": {},
     "output_type": "execute_result"
    }
   ],
   "source": [
    "\n",
    "from sklearn.preprocessing import OneHotEncoder\n",
    "encoder = OneHotEncoder(categories=[list(range(1, 13))], sparse_output=False)\n",
    "encoder.fit_transform(np.array(['11']).astype(int)[np.newaxis,:])"
   ]
  },
  {
   "cell_type": "code",
   "execution_count": 33,
   "metadata": {},
   "outputs": [],
   "source": [
    "subjects = {\"age\" : [], \"height\": [], \"weight\": []}\n",
    "for i in range(1,15):\n",
    "    file_dir = datadir + f\"Subject{i}/a1t1.mat\"\n",
    "    data = loadmat(file_dir)\n",
    "    subjects['age'].append(int(data['age'][0]))\n",
    "    subjects['height'].append(int(data['height'][0][:3]))\n",
    "    subjects['weight'].append(int(data['weight'][0][:2]))"
   ]
  },
  {
   "cell_type": "code",
   "execution_count": 42,
   "metadata": {},
   "outputs": [
    {
     "name": "stdout",
     "output_type": "stream",
     "text": [
      "Train subjects:\n",
      " [1, 2, 4, 5, 7, 10, 11, 14]\n",
      "\n",
      "Validation subjects:\n",
      " [3, 6, 8]\n",
      "\n",
      "Test subjects:\n",
      " [9, 12, 13]\n"
     ]
    },
    {
     "name": "stderr",
     "output_type": "stream",
     "text": [
      "c:\\Users\\cleme\\miniconda3\\envs\\dsl\\Lib\\site-packages\\sklearn\\cluster\\_kmeans.py:1429: UserWarning: KMeans is known to have a memory leak on Windows with MKL, when there are less chunks than available threads. You can avoid it by setting the environment variable OMP_NUM_THREADS=1.\n",
      "  warnings.warn(\n"
     ]
    }
   ],
   "source": [
    "from sklearn.cluster import KMeans\n",
    "from sklearn.model_selection import train_test_split\n",
    "\n",
    "data = pd.DataFrame(subjects)\n",
    "\n",
    "# Use KMeans to create clusters (diversity groups)\n",
    "kmeans = KMeans(n_clusters=3, random_state=42)\n",
    "data['cluster'] = kmeans.fit_predict(data[['age', 'height', 'weight']])\n",
    "\n",
    "# Stratify by cluster to maintain diversity\n",
    "train_val, test = train_test_split(data, test_size=3, stratify=data['cluster'], random_state=42)\n",
    "train, val = train_test_split(train_val, test_size=3, stratify=train_val['cluster'], random_state=42)\n",
    "\n",
    "# Drop cluster column before using\n",
    "train = train.drop(columns='cluster')\n",
    "val = val.drop(columns='cluster')\n",
    "test = test.drop(columns='cluster')\n",
    "\n",
    "print(\"Train subjects:\\n\", sorted(train.index + 1))\n",
    "print(\"\\nValidation subjects:\\n\", sorted(val.index + 1))\n",
    "print(\"\\nTest subjects:\\n\", sorted(test.index + 1))"
   ]
  },
  {
   "cell_type": "markdown",
   "metadata": {},
   "source": [
    "# Capture 24"
   ]
  },
  {
   "cell_type": "code",
   "execution_count": 39,
   "metadata": {},
   "outputs": [
    {
     "name": "stderr",
     "output_type": "stream",
     "text": [
      "C:\\Users\\cleme\\AppData\\Local\\Temp\\ipykernel_20444\\3220244467.py:2: DtypeWarning: Columns (4) have mixed types. Specify dtype option on import or set low_memory=False.\n",
      "  df = pd.read_csv(datadir + \"/P001.csv\")\n"
     ]
    },
    {
     "data": {
      "text/html": [
       "<div>\n",
       "<style scoped>\n",
       "    .dataframe tbody tr th:only-of-type {\n",
       "        vertical-align: middle;\n",
       "    }\n",
       "\n",
       "    .dataframe tbody tr th {\n",
       "        vertical-align: top;\n",
       "    }\n",
       "\n",
       "    .dataframe thead th {\n",
       "        text-align: right;\n",
       "    }\n",
       "</style>\n",
       "<table border=\"1\" class=\"dataframe\">\n",
       "  <thead>\n",
       "    <tr style=\"text-align: right;\">\n",
       "      <th></th>\n",
       "      <th>time</th>\n",
       "      <th>x</th>\n",
       "      <th>y</th>\n",
       "      <th>z</th>\n",
       "      <th>annotation</th>\n",
       "    </tr>\n",
       "  </thead>\n",
       "  <tbody>\n",
       "    <tr>\n",
       "      <th>0</th>\n",
       "      <td>2016-11-13 02:18:00.000000</td>\n",
       "      <td>-0.466690</td>\n",
       "      <td>-0.533341</td>\n",
       "      <td>0.658472</td>\n",
       "      <td>7030 sleeping;MET 0.95</td>\n",
       "    </tr>\n",
       "    <tr>\n",
       "      <th>1</th>\n",
       "      <td>2016-11-13 02:18:00.010000</td>\n",
       "      <td>-0.466690</td>\n",
       "      <td>-0.533341</td>\n",
       "      <td>0.658472</td>\n",
       "      <td>7030 sleeping;MET 0.95</td>\n",
       "    </tr>\n",
       "    <tr>\n",
       "      <th>2</th>\n",
       "      <td>2016-11-13 02:18:00.020000</td>\n",
       "      <td>-0.466690</td>\n",
       "      <td>-0.533341</td>\n",
       "      <td>0.658472</td>\n",
       "      <td>7030 sleeping;MET 0.95</td>\n",
       "    </tr>\n",
       "    <tr>\n",
       "      <th>3</th>\n",
       "      <td>2016-11-13 02:18:00.030000</td>\n",
       "      <td>-0.466690</td>\n",
       "      <td>-0.533341</td>\n",
       "      <td>0.658472</td>\n",
       "      <td>7030 sleeping;MET 0.95</td>\n",
       "    </tr>\n",
       "    <tr>\n",
       "      <th>4</th>\n",
       "      <td>2016-11-13 02:18:00.040000</td>\n",
       "      <td>-0.466690</td>\n",
       "      <td>-0.533341</td>\n",
       "      <td>0.658472</td>\n",
       "      <td>7030 sleeping;MET 0.95</td>\n",
       "    </tr>\n",
       "    <tr>\n",
       "      <th>...</th>\n",
       "      <td>...</td>\n",
       "      <td>...</td>\n",
       "      <td>...</td>\n",
       "      <td>...</td>\n",
       "      <td>...</td>\n",
       "    </tr>\n",
       "    <tr>\n",
       "      <th>10019996</th>\n",
       "      <td>2016-11-14 06:07:59.960000</td>\n",
       "      <td>0.049416</td>\n",
       "      <td>-0.797846</td>\n",
       "      <td>0.565700</td>\n",
       "      <td>7030 sleeping;MET 0.95</td>\n",
       "    </tr>\n",
       "    <tr>\n",
       "      <th>10019997</th>\n",
       "      <td>2016-11-14 06:07:59.970000</td>\n",
       "      <td>0.049416</td>\n",
       "      <td>-0.782285</td>\n",
       "      <td>0.565700</td>\n",
       "      <td>7030 sleeping;MET 0.95</td>\n",
       "    </tr>\n",
       "    <tr>\n",
       "      <th>10019998</th>\n",
       "      <td>2016-11-14 06:07:59.980000</td>\n",
       "      <td>0.049416</td>\n",
       "      <td>-0.782285</td>\n",
       "      <td>0.565700</td>\n",
       "      <td>7030 sleeping;MET 0.95</td>\n",
       "    </tr>\n",
       "    <tr>\n",
       "      <th>10019999</th>\n",
       "      <td>2016-11-14 06:07:59.990000</td>\n",
       "      <td>0.049416</td>\n",
       "      <td>-0.782285</td>\n",
       "      <td>0.565700</td>\n",
       "      <td>7030 sleeping;MET 0.95</td>\n",
       "    </tr>\n",
       "    <tr>\n",
       "      <th>10020000</th>\n",
       "      <td>2016-11-14 06:08:00.000000</td>\n",
       "      <td>0.049416</td>\n",
       "      <td>-0.782285</td>\n",
       "      <td>0.565700</td>\n",
       "      <td>7030 sleeping;MET 0.95</td>\n",
       "    </tr>\n",
       "  </tbody>\n",
       "</table>\n",
       "<p>10020001 rows × 5 columns</p>\n",
       "</div>"
      ],
      "text/plain": [
       "                                time         x         y         z  \\\n",
       "0         2016-11-13 02:18:00.000000 -0.466690 -0.533341  0.658472   \n",
       "1         2016-11-13 02:18:00.010000 -0.466690 -0.533341  0.658472   \n",
       "2         2016-11-13 02:18:00.020000 -0.466690 -0.533341  0.658472   \n",
       "3         2016-11-13 02:18:00.030000 -0.466690 -0.533341  0.658472   \n",
       "4         2016-11-13 02:18:00.040000 -0.466690 -0.533341  0.658472   \n",
       "...                              ...       ...       ...       ...   \n",
       "10019996  2016-11-14 06:07:59.960000  0.049416 -0.797846  0.565700   \n",
       "10019997  2016-11-14 06:07:59.970000  0.049416 -0.782285  0.565700   \n",
       "10019998  2016-11-14 06:07:59.980000  0.049416 -0.782285  0.565700   \n",
       "10019999  2016-11-14 06:07:59.990000  0.049416 -0.782285  0.565700   \n",
       "10020000  2016-11-14 06:08:00.000000  0.049416 -0.782285  0.565700   \n",
       "\n",
       "                      annotation  \n",
       "0         7030 sleeping;MET 0.95  \n",
       "1         7030 sleeping;MET 0.95  \n",
       "2         7030 sleeping;MET 0.95  \n",
       "3         7030 sleeping;MET 0.95  \n",
       "4         7030 sleeping;MET 0.95  \n",
       "...                          ...  \n",
       "10019996  7030 sleeping;MET 0.95  \n",
       "10019997  7030 sleeping;MET 0.95  \n",
       "10019998  7030 sleeping;MET 0.95  \n",
       "10019999  7030 sleeping;MET 0.95  \n",
       "10020000  7030 sleeping;MET 0.95  \n",
       "\n",
       "[10020001 rows x 5 columns]"
      ]
     },
     "execution_count": 39,
     "metadata": {},
     "output_type": "execute_result"
    }
   ],
   "source": [
    "datadir = \"C:/Users/cleme/ETH/Master/Thesis/data/Capture24/capture24\"\n",
    "df = pd.read_csv(datadir + \"/P001.csv\")\n",
    "df"
   ]
  },
  {
   "cell_type": "code",
   "execution_count": null,
   "metadata": {},
   "outputs": [
    {
     "data": {
      "text/html": [
       "<div>\n",
       "<style scoped>\n",
       "    .dataframe tbody tr th:only-of-type {\n",
       "        vertical-align: middle;\n",
       "    }\n",
       "\n",
       "    .dataframe tbody tr th {\n",
       "        vertical-align: top;\n",
       "    }\n",
       "\n",
       "    .dataframe thead th {\n",
       "        text-align: right;\n",
       "    }\n",
       "</style>\n",
       "<table border=\"1\" class=\"dataframe\">\n",
       "  <thead>\n",
       "    <tr style=\"text-align: right;\">\n",
       "      <th></th>\n",
       "      <th>time</th>\n",
       "      <th>x</th>\n",
       "      <th>y</th>\n",
       "      <th>z</th>\n",
       "      <th>annotation</th>\n",
       "    </tr>\n",
       "  </thead>\n",
       "  <tbody>\n",
       "    <tr>\n",
       "      <th>1482001</th>\n",
       "      <td>2016-11-13 06:25:00.010000</td>\n",
       "      <td>-0.372830</td>\n",
       "      <td>0.135793</td>\n",
       "      <td>-0.911837</td>\n",
       "      <td>NaN</td>\n",
       "    </tr>\n",
       "    <tr>\n",
       "      <th>1482002</th>\n",
       "      <td>2016-11-13 06:25:00.020000</td>\n",
       "      <td>-0.372830</td>\n",
       "      <td>0.135793</td>\n",
       "      <td>-0.927232</td>\n",
       "      <td>NaN</td>\n",
       "    </tr>\n",
       "    <tr>\n",
       "      <th>1482003</th>\n",
       "      <td>2016-11-13 06:25:00.030000</td>\n",
       "      <td>-0.372830</td>\n",
       "      <td>0.135793</td>\n",
       "      <td>-0.911837</td>\n",
       "      <td>NaN</td>\n",
       "    </tr>\n",
       "    <tr>\n",
       "      <th>1482004</th>\n",
       "      <td>2016-11-13 06:25:00.040000</td>\n",
       "      <td>-0.372830</td>\n",
       "      <td>0.135793</td>\n",
       "      <td>-0.911837</td>\n",
       "      <td>NaN</td>\n",
       "    </tr>\n",
       "    <tr>\n",
       "      <th>1482005</th>\n",
       "      <td>2016-11-13 06:25:00.050000</td>\n",
       "      <td>-0.372830</td>\n",
       "      <td>0.135793</td>\n",
       "      <td>-0.911837</td>\n",
       "      <td>NaN</td>\n",
       "    </tr>\n",
       "    <tr>\n",
       "      <th>...</th>\n",
       "      <td>...</td>\n",
       "      <td>...</td>\n",
       "      <td>...</td>\n",
       "      <td>...</td>\n",
       "      <td>...</td>\n",
       "    </tr>\n",
       "    <tr>\n",
       "      <th>8759995</th>\n",
       "      <td>2016-11-14 02:37:59.950000</td>\n",
       "      <td>-0.967408</td>\n",
       "      <td>0.026900</td>\n",
       "      <td>0.180820</td>\n",
       "      <td>NaN</td>\n",
       "    </tr>\n",
       "    <tr>\n",
       "      <th>8759996</th>\n",
       "      <td>2016-11-14 02:37:59.960000</td>\n",
       "      <td>-0.983052</td>\n",
       "      <td>0.026900</td>\n",
       "      <td>0.165425</td>\n",
       "      <td>NaN</td>\n",
       "    </tr>\n",
       "    <tr>\n",
       "      <th>8759997</th>\n",
       "      <td>2016-11-14 02:37:59.970000</td>\n",
       "      <td>-0.983052</td>\n",
       "      <td>0.011339</td>\n",
       "      <td>0.180820</td>\n",
       "      <td>NaN</td>\n",
       "    </tr>\n",
       "    <tr>\n",
       "      <th>8759998</th>\n",
       "      <td>2016-11-14 02:37:59.980000</td>\n",
       "      <td>-0.967408</td>\n",
       "      <td>0.011339</td>\n",
       "      <td>0.180820</td>\n",
       "      <td>NaN</td>\n",
       "    </tr>\n",
       "    <tr>\n",
       "      <th>8759999</th>\n",
       "      <td>2016-11-14 02:37:59.990000</td>\n",
       "      <td>-0.967408</td>\n",
       "      <td>0.026900</td>\n",
       "      <td>0.180820</td>\n",
       "      <td>NaN</td>\n",
       "    </tr>\n",
       "  </tbody>\n",
       "</table>\n",
       "<p>2550371 rows × 5 columns</p>\n",
       "</div>"
      ],
      "text/plain": [
       "                               time         x         y         z  annotation\n",
       "1482001  2016-11-13 06:25:00.010000 -0.372830  0.135793 -0.911837         NaN\n",
       "1482002  2016-11-13 06:25:00.020000 -0.372830  0.135793 -0.927232         NaN\n",
       "1482003  2016-11-13 06:25:00.030000 -0.372830  0.135793 -0.911837         NaN\n",
       "1482004  2016-11-13 06:25:00.040000 -0.372830  0.135793 -0.911837         NaN\n",
       "1482005  2016-11-13 06:25:00.050000 -0.372830  0.135793 -0.911837         NaN\n",
       "...                             ...       ...       ...       ...         ...\n",
       "8759995  2016-11-14 02:37:59.950000 -0.967408  0.026900  0.180820         NaN\n",
       "8759996  2016-11-14 02:37:59.960000 -0.983052  0.026900  0.165425         NaN\n",
       "8759997  2016-11-14 02:37:59.970000 -0.983052  0.011339  0.180820         NaN\n",
       "8759998  2016-11-14 02:37:59.980000 -0.967408  0.011339  0.180820         NaN\n",
       "8759999  2016-11-14 02:37:59.990000 -0.967408  0.026900  0.180820         NaN\n",
       "\n",
       "[2550371 rows x 5 columns]"
      ]
     },
     "execution_count": 15,
     "metadata": {},
     "output_type": "execute_result"
    }
   ],
   "source": [
    "df = df.drop([\"time\"])\n",
    "df = df.iloc[::4]  # downsample by factor of 4 | 100Hz => 25Hz\n",
    "        df[\"annotation\"] = df[\"annotation\"].str.split().str[-1].astype(float)\n",
    "        \n",
    "\n",
    "df[df['annotation'].isna()]\n"
   ]
  },
  {
   "cell_type": "code",
   "execution_count": 7,
   "metadata": {},
   "outputs": [
    {
     "data": {
      "text/plain": [
       "(626251, 4)"
      ]
     },
     "execution_count": 7,
     "metadata": {},
     "output_type": "execute_result"
    }
   ],
   "source": [
    "df = df.iloc[::4] # downsamples to 25Hz\n",
    "df.shape"
   ]
  },
  {
   "cell_type": "code",
   "execution_count": 78,
   "metadata": {},
   "outputs": [
    {
     "data": {
      "text/html": [
       "<div>\n",
       "<style scoped>\n",
       "    .dataframe tbody tr th:only-of-type {\n",
       "        vertical-align: middle;\n",
       "    }\n",
       "\n",
       "    .dataframe tbody tr th {\n",
       "        vertical-align: top;\n",
       "    }\n",
       "\n",
       "    .dataframe thead th {\n",
       "        text-align: right;\n",
       "    }\n",
       "</style>\n",
       "<table border=\"1\" class=\"dataframe\">\n",
       "  <thead>\n",
       "    <tr style=\"text-align: right;\">\n",
       "      <th></th>\n",
       "      <th>time</th>\n",
       "      <th>x</th>\n",
       "      <th>y</th>\n",
       "      <th>z</th>\n",
       "      <th>annotation</th>\n",
       "      <th>met</th>\n",
       "    </tr>\n",
       "  </thead>\n",
       "  <tbody>\n",
       "    <tr>\n",
       "      <th>0</th>\n",
       "      <td>2016-11-13 02:18:00.000000</td>\n",
       "      <td>-0.466690</td>\n",
       "      <td>-0.533341</td>\n",
       "      <td>0.658472</td>\n",
       "      <td>7030 sleeping;MET 0.95</td>\n",
       "      <td>0.95</td>\n",
       "    </tr>\n",
       "    <tr>\n",
       "      <th>1</th>\n",
       "      <td>2016-11-13 02:18:00.010000</td>\n",
       "      <td>-0.466690</td>\n",
       "      <td>-0.533341</td>\n",
       "      <td>0.658472</td>\n",
       "      <td>7030 sleeping;MET 0.95</td>\n",
       "      <td>0.95</td>\n",
       "    </tr>\n",
       "    <tr>\n",
       "      <th>2</th>\n",
       "      <td>2016-11-13 02:18:00.020000</td>\n",
       "      <td>-0.466690</td>\n",
       "      <td>-0.533341</td>\n",
       "      <td>0.658472</td>\n",
       "      <td>7030 sleeping;MET 0.95</td>\n",
       "      <td>0.95</td>\n",
       "    </tr>\n",
       "    <tr>\n",
       "      <th>3</th>\n",
       "      <td>2016-11-13 02:18:00.030000</td>\n",
       "      <td>-0.466690</td>\n",
       "      <td>-0.533341</td>\n",
       "      <td>0.658472</td>\n",
       "      <td>7030 sleeping;MET 0.95</td>\n",
       "      <td>0.95</td>\n",
       "    </tr>\n",
       "    <tr>\n",
       "      <th>4</th>\n",
       "      <td>2016-11-13 02:18:00.040000</td>\n",
       "      <td>-0.466690</td>\n",
       "      <td>-0.533341</td>\n",
       "      <td>0.658472</td>\n",
       "      <td>7030 sleeping;MET 0.95</td>\n",
       "      <td>0.95</td>\n",
       "    </tr>\n",
       "    <tr>\n",
       "      <th>...</th>\n",
       "      <td>...</td>\n",
       "      <td>...</td>\n",
       "      <td>...</td>\n",
       "      <td>...</td>\n",
       "      <td>...</td>\n",
       "      <td>...</td>\n",
       "    </tr>\n",
       "    <tr>\n",
       "      <th>10019996</th>\n",
       "      <td>2016-11-14 06:07:59.960000</td>\n",
       "      <td>0.049416</td>\n",
       "      <td>-0.797846</td>\n",
       "      <td>0.565700</td>\n",
       "      <td>7030 sleeping;MET 0.95</td>\n",
       "      <td>0.95</td>\n",
       "    </tr>\n",
       "    <tr>\n",
       "      <th>10019997</th>\n",
       "      <td>2016-11-14 06:07:59.970000</td>\n",
       "      <td>0.049416</td>\n",
       "      <td>-0.782285</td>\n",
       "      <td>0.565700</td>\n",
       "      <td>7030 sleeping;MET 0.95</td>\n",
       "      <td>0.95</td>\n",
       "    </tr>\n",
       "    <tr>\n",
       "      <th>10019998</th>\n",
       "      <td>2016-11-14 06:07:59.980000</td>\n",
       "      <td>0.049416</td>\n",
       "      <td>-0.782285</td>\n",
       "      <td>0.565700</td>\n",
       "      <td>7030 sleeping;MET 0.95</td>\n",
       "      <td>0.95</td>\n",
       "    </tr>\n",
       "    <tr>\n",
       "      <th>10019999</th>\n",
       "      <td>2016-11-14 06:07:59.990000</td>\n",
       "      <td>0.049416</td>\n",
       "      <td>-0.782285</td>\n",
       "      <td>0.565700</td>\n",
       "      <td>7030 sleeping;MET 0.95</td>\n",
       "      <td>0.95</td>\n",
       "    </tr>\n",
       "    <tr>\n",
       "      <th>10020000</th>\n",
       "      <td>2016-11-14 06:08:00.000000</td>\n",
       "      <td>0.049416</td>\n",
       "      <td>-0.782285</td>\n",
       "      <td>0.565700</td>\n",
       "      <td>7030 sleeping;MET 0.95</td>\n",
       "      <td>0.95</td>\n",
       "    </tr>\n",
       "  </tbody>\n",
       "</table>\n",
       "<p>10020001 rows × 6 columns</p>\n",
       "</div>"
      ],
      "text/plain": [
       "                                time         x         y         z  \\\n",
       "0         2016-11-13 02:18:00.000000 -0.466690 -0.533341  0.658472   \n",
       "1         2016-11-13 02:18:00.010000 -0.466690 -0.533341  0.658472   \n",
       "2         2016-11-13 02:18:00.020000 -0.466690 -0.533341  0.658472   \n",
       "3         2016-11-13 02:18:00.030000 -0.466690 -0.533341  0.658472   \n",
       "4         2016-11-13 02:18:00.040000 -0.466690 -0.533341  0.658472   \n",
       "...                              ...       ...       ...       ...   \n",
       "10019996  2016-11-14 06:07:59.960000  0.049416 -0.797846  0.565700   \n",
       "10019997  2016-11-14 06:07:59.970000  0.049416 -0.782285  0.565700   \n",
       "10019998  2016-11-14 06:07:59.980000  0.049416 -0.782285  0.565700   \n",
       "10019999  2016-11-14 06:07:59.990000  0.049416 -0.782285  0.565700   \n",
       "10020000  2016-11-14 06:08:00.000000  0.049416 -0.782285  0.565700   \n",
       "\n",
       "                      annotation   met  \n",
       "0         7030 sleeping;MET 0.95  0.95  \n",
       "1         7030 sleeping;MET 0.95  0.95  \n",
       "2         7030 sleeping;MET 0.95  0.95  \n",
       "3         7030 sleeping;MET 0.95  0.95  \n",
       "4         7030 sleeping;MET 0.95  0.95  \n",
       "...                          ...   ...  \n",
       "10019996  7030 sleeping;MET 0.95  0.95  \n",
       "10019997  7030 sleeping;MET 0.95  0.95  \n",
       "10019998  7030 sleeping;MET 0.95  0.95  \n",
       "10019999  7030 sleeping;MET 0.95  0.95  \n",
       "10020000  7030 sleeping;MET 0.95  0.95  \n",
       "\n",
       "[10020001 rows x 6 columns]"
      ]
     },
     "execution_count": 78,
     "metadata": {},
     "output_type": "execute_result"
    }
   ],
   "source": [
    "\n",
    "\n",
    "# Assume your DataFrame is called df and has a column \"annotation\"\n",
    "df['met'] = df['annotation'].str.extract(r'([0-9]*\\.?[0-9]+)$').astype(float)\n",
    "df"
   ]
  },
  {
   "cell_type": "code",
   "execution_count": 79,
   "metadata": {},
   "outputs": [],
   "source": [
    "df['met'] = df['annotation'].str.split().str[-1].astype(float)\n"
   ]
  },
  {
   "cell_type": "code",
   "execution_count": 85,
   "metadata": {},
   "outputs": [
    {
     "data": {
      "text/plain": [
       "numpy.ndarray"
      ]
     },
     "execution_count": 85,
     "metadata": {},
     "output_type": "execute_result"
    }
   ],
   "source": [
    "type(df.drop([\"time\", \"annotation\"], axis=1).values)"
   ]
  },
  {
   "cell_type": "markdown",
   "metadata": {},
   "source": [
    "# WildPPG"
   ]
  },
  {
   "cell_type": "code",
   "execution_count": 52,
   "metadata": {},
   "outputs": [],
   "source": [
    "datadir=\"C:/Users/cleme/ETH/Master/Thesis/data/euler/wildppg_preprocessed/\"\n",
    "file_path = datadir + \"WildPPG_Part_an0.npz\"\n",
    "data = np.load(file_path)"
   ]
  },
  {
   "cell_type": "code",
   "execution_count": null,
   "metadata": {},
   "outputs": [
    {
     "data": {
      "text/plain": [
       "(5994, 1)"
      ]
     },
     "execution_count": 126,
     "metadata": {},
     "output_type": "execute_result"
    }
   ],
   "source": [
    "datadir=\"C:/Users/cleme/ETH/Master/Thesis/data/euler/wildppg_preprocessed/WildPPG.mat\"\n",
    "data = loadmat(datadir)\n"
   ]
  },
  {
   "cell_type": "code",
   "execution_count": 151,
   "metadata": {},
   "outputs": [
    {
     "data": {
      "text/plain": [
       "(5994, 1)"
      ]
     },
     "execution_count": 151,
     "metadata": {},
     "output_type": "execute_result"
    }
   ],
   "source": [
    "data['data_imu_wrist'][0,0].shape"
   ]
  },
  {
   "cell_type": "code",
   "execution_count": 161,
   "metadata": {},
   "outputs": [
    {
     "name": "stdout",
     "output_type": "stream",
     "text": [
      "(4, 1)\n"
     ]
    },
    {
     "data": {
      "text/plain": [
       "(4, 4)"
      ]
     },
     "execution_count": 161,
     "metadata": {},
     "output_type": "execute_result"
    }
   ],
   "source": [
    "arr = np.array([[1,2,3,4]]).T\n",
    "print(arr.shape)\n",
    "np.repeat(arr, 4,axis=1).shape"
   ]
  },
  {
   "cell_type": "code",
   "execution_count": 165,
   "metadata": {},
   "outputs": [
    {
     "data": {
      "text/plain": [
       "<Axes: >"
      ]
     },
     "execution_count": 165,
     "metadata": {},
     "output_type": "execute_result"
    },
    {
     "data": {
      "image/png": "[encoded data removed]",
      "text/plain": [
       "<Figure size 640x480 with 1 Axes>"
      ]
     },
     "metadata": {},
     "output_type": "display_data"
    }
   ],
   "source": [
    "activity = data['data_imu_wrist'][0,0]\n",
    "pd.Series(activity.squeeze()).plot()"
   ]
  },
  {
   "cell_type": "code",
   "execution_count": 170,
   "metadata": {},
   "outputs": [
    {
     "name": "stdout",
     "output_type": "stream",
     "text": [
      "(5546, 1)\n"
     ]
    },
    {
     "data": {
      "text/plain": [
       "<Axes: >"
      ]
     },
     "execution_count": 170,
     "metadata": {},
     "output_type": "execute_result"
    },
    {
     "data": {
      "image/png": "[encoded data removed]",
      "text/plain": [
       "<Figure size 640x480 with 1 Axes>"
      ]
     },
     "metadata": {},
     "output_type": "display_data"
    }
   ],
   "source": [
    "hr = data['data_bpm_values'][i,0]\n",
    "print(hr.shape)\n",
    "pd.Series(hr.squeeze()).plot()"
   ]
  },
  {
   "cell_type": "code",
   "execution_count": 154,
   "metadata": {},
   "outputs": [
    {
     "name": "stdout",
     "output_type": "stream",
     "text": [
      "(5994, 1)\n",
      "(5994, 1)\n",
      "(5994, 200)\n",
      "(5964, 1)\n",
      "(5964, 1)\n",
      "(5964, 200)\n",
      "(5924, 1)\n",
      "(5924, 1)\n",
      "(5924, 200)\n",
      "(6854, 1)\n",
      "(6854, 1)\n",
      "(6854, 200)\n",
      "(6610, 1)\n",
      "(6610, 1)\n",
      "(6610, 200)\n",
      "(6508, 1)\n",
      "(6508, 1)\n",
      "(6508, 200)\n",
      "(6535, 1)\n",
      "(6535, 1)\n",
      "(6535, 200)\n",
      "(6478, 1)\n",
      "(6478, 1)\n",
      "(6478, 200)\n",
      "(6018, 1)\n",
      "(6018, 1)\n",
      "(6018, 200)\n",
      "(6025, 1)\n",
      "(6025, 1)\n",
      "(6025, 200)\n",
      "(6255, 1)\n",
      "(6255, 1)\n",
      "(6255, 200)\n",
      "(5960, 1)\n",
      "(5960, 1)\n",
      "(5960, 200)\n",
      "(5557, 1)\n",
      "(5557, 1)\n",
      "(5557, 200)\n",
      "(5627, 1)\n",
      "(5627, 1)\n",
      "(5627, 200)\n",
      "(5699, 1)\n",
      "(5699, 1)\n",
      "(5699, 200)\n",
      "(5546, 1)\n",
      "(5546, 1)\n",
      "(5546, 200)\n"
     ]
    }
   ],
   "source": [
    "for i in range(16):\n",
    "    hr = data['data_bpm_values'][i,0]\n",
    "    activity = data['data_imu_wrist'][i,0]\n",
    "    ppg = data['data_ppg_wrist'][i, 0]\n",
    "    print(hr.shape)\n",
    "    print(activity.shape)\n",
    "    print(ppg.shape)"
   ]
  },
  {
   "cell_type": "code",
   "execution_count": 132,
   "metadata": {},
   "outputs": [
    {
     "data": {
      "text/plain": [
       "False"
      ]
     },
     "execution_count": 132,
     "metadata": {},
     "output_type": "execute_result"
    }
   ],
   "source": [
    "any(pd.Series(data['data_bpm_values'][0,0].astype(int).squeeze()).isna())"
   ]
  },
  {
   "cell_type": "code",
   "execution_count": 138,
   "metadata": {},
   "outputs": [
    {
     "data": {
      "text/plain": [
       "(5994, 200)"
      ]
     },
     "execution_count": 138,
     "metadata": {},
     "output_type": "execute_result"
    }
   ],
   "source": [
    "data['data_ppg_wrist'][0][0].shape"
   ]
  },
  {
   "cell_type": "code",
   "execution_count": 115,
   "metadata": {},
   "outputs": [],
   "source": [
    "datadir = \"C:/Users/cleme/ETH/Master/Thesis/data/WildPPG/data\"\n",
    "file_pat = datadir + \"/WildPPG_Part_an0.mat\"\n",
    "data = loadmat(file_pat)"
   ]
  },
  {
   "cell_type": "code",
   "execution_count": 117,
   "metadata": {},
   "outputs": [
    {
     "data": {
      "text/plain": [
       "array([[(array([[(array([[128]]), array(['x-axis of MEMS accelerometer'], dtype='<U28'), array([[-0.97626238, -0.97447525, -0.98652476, ..., -0.94178734,\n",
       "                        -0.94271266, -0.944     ]]))                                                                                                    ]],\n",
       "              dtype=[('fs', 'O'), ('descr', 'O'), ('v', 'O')]), array([[(array([[128]]), array(['y-axis of MEMS accelerometer'], dtype='<U28'), array([[-0.07147525, -0.056     , -0.03873762, ...,  0.15778734,\n",
       "                         0.14528734,  0.16478733]]))                                                                                                    ]],\n",
       "              dtype=[('fs', 'O'), ('descr', 'O'), ('v', 'O')]), array([[(array([[128]]), array(['z-axis of MEMS accelerometer'], dtype='<U28'), array([[0.32747525, 0.32628713, 0.34273762, ..., 0.37821266, 0.384     ,\n",
       "                        0.36478733]]))                                                                                                                          ]],\n",
       "              dtype=[('fs', 'O'), ('descr', 'O'), ('v', 'O')]), array([[(array([[0.5]]), array(['barometric altitude measurements, averaged in 8-second moving windows, with step size 2 seconds'],\n",
       "                      dtype='<U95'), array([[460.45920096, 460.43860628, 460.47067165, ..., 479.48629798,\n",
       "                        479.41392747, 479.40666603]]))                                                                                     ]],\n",
       "              dtype=[('fs', 'O'), ('descr', 'O'), ('v', 'O')]), array([[(array([[0.5]]), array(['temperature within device, averaged in 8-second moving windows, with step size 2 seconds'],\n",
       "                      dtype='<U88'), array([[29.10321243, 29.12109699, 29.13902939, ..., 35.63462494,\n",
       "                        35.63449956, 35.63287313]]))                                                                                ]],\n",
       "              dtype=[('fs', 'O'), ('descr', 'O'), ('v', 'O')]), array([[(array([[128]]), array(['lead I ECG recording'], dtype='<U20'), array([[4747, 3393, 1539, ..., -313, -342, -496]]))]],\n",
       "              dtype=[('fs', 'O'), ('descr', 'O'), ('v', 'O')]), array([[(array([[128]]), array(['reflective PPG at 530 nm wavelength'], dtype='<U35'), array([[0.1823616 , 0.18325233, 0.18280029, ..., 0.36060715, 0.36058998,\n",
       "                        0.35941505]]))                                                                                                                                 ]],\n",
       "              dtype=[('fs', 'O'), ('descr', 'O'), ('v', 'O')]), array([[(array([[128]]), array(['reflective PPG at 950 nm wavelength'], dtype='<U35'), array([[0.12088013, 0.12112808, 0.12132454, ..., 0.28001213, 0.28033829,\n",
       "                        0.28037643]]))                                                                                                                                 ]],\n",
       "              dtype=[('fs', 'O'), ('descr', 'O'), ('v', 'O')]), array([[(array([[128]]), array(['reflective PPG at 660 nm wavelength'], dtype='<U35'), array([[0.19626427, 0.19667816, 0.19699669, ..., 0.2727108 , 0.27268791,\n",
       "                        0.27281761]]))                                                                                                                                 ]],\n",
       "              dtype=[('fs', 'O'), ('descr', 'O'), ('v', 'O')]))                                                                                                                                                                ]],\n",
       "      dtype=[('acc_x', 'O'), ('acc_y', 'O'), ('acc_z', 'O'), ('altitude', 'O'), ('temperature', 'O'), ('ecg', 'O'), ('ppg_g', 'O'), ('ppg_ir', 'O'), ('ppg_r', 'O')])"
      ]
     },
     "execution_count": 117,
     "metadata": {},
     "output_type": "execute_result"
    }
   ],
   "source": [
    "data['sternum']"
   ]
  },
  {
   "cell_type": "code",
   "execution_count": 101,
   "metadata": {},
   "outputs": [],
   "source": [
    "ecg = data['sternum']['ecg'][0][0][0][0][2].squeeze()"
   ]
  },
  {
   "cell_type": "code",
   "execution_count": 112,
   "metadata": {},
   "outputs": [
    {
     "name": "stderr",
     "output_type": "stream",
     "text": [
      "c:\\Users\\cleme\\miniconda3\\envs\\dsl\\Lib\\site-packages\\neurokit2\\signal\\signal_fixpeaks.py:307: RuntimeWarning: divide by zero encountered in divide\n",
      "  mrrs /= th2\n",
      "c:\\Users\\cleme\\miniconda3\\envs\\dsl\\Lib\\site-packages\\neurokit2\\signal\\signal_fixpeaks.py:307: RuntimeWarning: invalid value encountered in divide\n",
      "  mrrs /= th2\n"
     ]
    }
   ],
   "source": [
    "import neurokit2 as nk \n",
    "signals, info = nk.ecg_process(ecg, sampling_rate=128)"
   ]
  },
  {
   "cell_type": "code",
   "execution_count": 113,
   "metadata": {},
   "outputs": [
    {
     "data": {
      "text/plain": [
       "44368.0"
      ]
     },
     "execution_count": 113,
     "metadata": {},
     "output_type": "execute_result"
    }
   ],
   "source": [
    "ecg_time = ecg.shape[0] / 128\n",
    "time_rpeaks = info['ECG_R_Peaks'] / 128\n",
    "diffed = np.diff(time_rpeaks)\n",
    "hr = 60 / diffed \n",
    "window_size = 128 * 8 \n",
    "stride = 128 * 2 \n",
    "ecg_time"
   ]
  },
  {
   "cell_type": "code",
   "execution_count": 73,
   "metadata": {},
   "outputs": [
    {
     "data": {
      "text/plain": [
       "<Axes: >"
      ]
     },
     "execution_count": 73,
     "metadata": {},
     "output_type": "execute_result"
    },
    {
     "data": {
      "image/png": "[encoded data removed]",
      "text/plain": [
       "<Figure size 640x480 with 1 Axes>"
      ]
     },
     "metadata": {},
     "output_type": "display_data"
    }
   ],
   "source": [
    "pd.Series(data['sternum']['ecg'][0][0][0][0][2].squeeze(0)[:1000]).plot()"
   ]
  },
  {
   "cell_type": "code",
   "execution_count": 52,
   "metadata": {},
   "outputs": [
    {
     "name": "stdout",
     "output_type": "stream",
     "text": [
      "(1, 5679104)\n",
      "(1, 5679104)\n",
      "(1, 5679104)\n"
     ]
    }
   ],
   "source": [
    "print(data['wrist']['ppg_g'][0][0][0]['v'][0].shape)\n",
    "print(data['wrist']['ppg_r'][0][0][0]['v'][0].shape)\n",
    "print(data['wrist']['ppg_ir'][0][0][0]['v'][0].shape)"
   ]
  },
  {
   "cell_type": "code",
   "execution_count": 5,
   "metadata": {},
   "outputs": [],
   "source": [
    "from pathlib import Path \n",
    "datadir = Path(datadir)\n",
    "lengths = []\n",
    "for path in datadir.glob('*.mat'):\n",
    "    data = loadmat(path)\n",
    "    lengths.append(data['wrist']['acc_x'][0][0][0][0][2].shape[1])\n",
    "    del data"
   ]
  },
  {
   "cell_type": "code",
   "execution_count": null,
   "metadata": {},
   "outputs": [
    {
     "data": {
      "text/plain": [
       "[5679104,\n",
       " 5690368,\n",
       " 6162432,\n",
       " 7018496,\n",
       " 6169600,\n",
       " 6137856,\n",
       " 6103040,\n",
       " 6768640,\n",
       " 6664192,\n",
       " 5762048,\n",
       " 6066176,\n",
       " 5835776,\n",
       " 6633472,\n",
       " 6691840,\n",
       " 6107136,\n",
       " 6405120]"
      ]
     },
     "execution_count": 6,
     "metadata": {},
     "output_type": "execute_result"
    }
   ],
   "source": [
    "lengths"
   ]
  },
  {
   "cell_type": "code",
   "execution_count": 14,
   "metadata": {},
   "outputs": [
    {
     "data": {
      "text/plain": [
       "['an0',\n",
       " 'e61',\n",
       " 'fex',\n",
       " 'k2s',\n",
       " 'kjd',\n",
       " 'l38',\n",
       " 'n31',\n",
       " 'ngh',\n",
       " 'p5d',\n",
       " 'p9p',\n",
       " 'qm9',\n",
       " 'ssx',\n",
       " 'trh',\n",
       " 'tz8',\n",
       " 'u7y',\n",
       " 'w4p']"
      ]
     },
     "execution_count": 14,
     "metadata": {},
     "output_type": "execute_result"
    }
   ],
   "source": [
    "names = []\n",
    "for path in datadir.glob(\"*.mat\"):\n",
    "    names.append(str(path).split(\"_\")[-1][:3])\n",
    "names"
   ]
  },
  {
   "cell_type": "markdown",
   "metadata": {},
   "source": [
    "# IEEE Dataset"
   ]
  },
  {
   "cell_type": "markdown",
   "metadata": {},
   "source": [
    "The IEEE Dataset does not contain any activity labels or acceleration data. "
   ]
  },
  {
   "cell_type": "code",
   "execution_count": 20,
   "metadata": {},
   "outputs": [],
   "source": [
    "datadir = \"C:/Users/cleme/ETH/Master/Thesis/data/euler/IEEEPPG/Training_data/Training_data\"\n",
    "data = loadmat(datadir + \"/DATA_01_TYPE01.mat\")\n",
    "hr = loadmat(datadir + \"/DATA_01_TYPE01_BPMtrace.mat\")\n"
   ]
  },
  {
   "cell_type": "code",
   "execution_count": 38,
   "metadata": {},
   "outputs": [
    {
     "name": "stdout",
     "output_type": "stream",
     "text": [
      "bpm 148and signal_data 147 are not the same shape \n",
      "148\n",
      "148\n",
      "bpm 148and signal_data 147 are not the same shape \n",
      "148\n",
      "148\n",
      "bpm 140and signal_data 139 are not the same shape \n",
      "140\n",
      "140\n",
      "bpm 146and signal_data 145 are not the same shape \n",
      "146\n",
      "146\n",
      "bpm 146and signal_data 145 are not the same shape \n",
      "146\n",
      "146\n",
      "bpm 150and signal_data 149 are not the same shape \n",
      "150\n",
      "150\n",
      "bpm 143and signal_data 142 are not the same shape \n",
      "143\n",
      "143\n",
      "bpm 160and signal_data 159 are not the same shape \n",
      "160\n",
      "160\n",
      "bpm 149and signal_data 148 are not the same shape \n",
      "149\n",
      "149\n",
      "bpm 149and signal_data 148 are not the same shape \n",
      "149\n",
      "149\n",
      "bpm 143and signal_data 142 are not the same shape \n",
      "143\n",
      "143\n",
      "bpm 146and signal_data 145 are not the same shape \n",
      "146\n",
      "146\n"
     ]
    },
    {
     "ename": "ValueError",
     "evalue": "all input arrays must have the same shape",
     "output_type": "error",
     "traceback": [
      "\u001b[1;31m---------------------------------------------------------------------------\u001b[0m",
      "\u001b[1;31mValueError\u001b[0m                                Traceback (most recent call last)",
      "Cell \u001b[1;32mIn[38], line 69\u001b[0m\n\u001b[0;32m     65\u001b[0m     participant_signals\u001b[38;5;241m.\u001b[39mappend(signal_data)\n\u001b[0;32m     66\u001b[0m     participant_bpms\u001b[38;5;241m.\u001b[39mappend(bpm)\n\u001b[1;32m---> 69\u001b[0m stacked_signals \u001b[38;5;241m=\u001b[39m np\u001b[38;5;241m.\u001b[39mstack(participant_signals, axis\u001b[38;5;241m=\u001b[39m\u001b[38;5;241m0\u001b[39m)\n\u001b[0;32m     70\u001b[0m stacked_bpms \u001b[38;5;241m=\u001b[39m np\u001b[38;5;241m.\u001b[39mstack(participant_bpms, axis\u001b[38;5;241m=\u001b[39m\u001b[38;5;241m0\u001b[39m)\n",
      "File \u001b[1;32mc:\\Users\\cleme\\miniconda3\\envs\\dsl\\Lib\\site-packages\\numpy\\core\\shape_base.py:449\u001b[0m, in \u001b[0;36mstack\u001b[1;34m(arrays, axis, out, dtype, casting)\u001b[0m\n\u001b[0;32m    447\u001b[0m shapes \u001b[38;5;241m=\u001b[39m {arr\u001b[38;5;241m.\u001b[39mshape \u001b[38;5;28;01mfor\u001b[39;00m arr \u001b[38;5;129;01min\u001b[39;00m arrays}\n\u001b[0;32m    448\u001b[0m \u001b[38;5;28;01mif\u001b[39;00m \u001b[38;5;28mlen\u001b[39m(shapes) \u001b[38;5;241m!=\u001b[39m \u001b[38;5;241m1\u001b[39m:\n\u001b[1;32m--> 449\u001b[0m     \u001b[38;5;28;01mraise\u001b[39;00m \u001b[38;5;167;01mValueError\u001b[39;00m(\u001b[38;5;124m'\u001b[39m\u001b[38;5;124mall input arrays must have the same shape\u001b[39m\u001b[38;5;124m'\u001b[39m)\n\u001b[0;32m    451\u001b[0m result_ndim \u001b[38;5;241m=\u001b[39m arrays[\u001b[38;5;241m0\u001b[39m]\u001b[38;5;241m.\u001b[39mndim \u001b[38;5;241m+\u001b[39m \u001b[38;5;241m1\u001b[39m\n\u001b[0;32m    452\u001b[0m axis \u001b[38;5;241m=\u001b[39m normalize_axis_index(axis, result_ndim)\n",
      "\u001b[1;31mValueError\u001b[0m: all input arrays must have the same shape"
     ]
    }
   ],
   "source": [
    "signal_files = Path(datadir).glob(\"*[12].mat\")\n",
    "bpm_files = Path(datadir).glob(\"*_BPMtrace.mat\")\n",
    "\n",
    "fs = 125  # sampling rate\n",
    "window_duration = 8\n",
    "overlap_duration = 6 \n",
    "\n",
    "from numpy.lib.stride_tricks import sliding_window_view\n",
    "from scipy.signal import butter, filtfilt\n",
    "from sklearn.preprocessing import MinMaxScaler\n",
    "\n",
    "def filter_butter(x, fs):\n",
    "    f1 = 0.5\n",
    "    f2 = 4\n",
    "    Wn = [f1, f2]\n",
    "    N = 4\n",
    "    b, a = butter(N, Wn, btype=\"bandpass\", fs=fs)\n",
    "    filtered = filtfilt(b, a, x)\n",
    "    # Normalize to range [0, 1]\n",
    "    scaler = MinMaxScaler()\n",
    "    filtered = scaler.fit_transform(filtered.reshape(-1, 1)).flatten()\n",
    "    return filtered\n",
    "\n",
    "def preprocess_signal(signal: np.ndarray):\n",
    "    # create windows\n",
    "    windows = sliding_window_view(signal, window_shape=window_duration * fs)[\n",
    "        :: (window_duration - overlap_duration) * fs\n",
    "    ]\n",
    "    # downsample from 125Hz => 25Hz\n",
    "    downsampled_windows = windows[:, ::5]\n",
    "\n",
    "    return downsampled_windows\n",
    "\n",
    "participant_signals = []\n",
    "participant_bpms = []\n",
    "for i,(signal_file, bpm_file) in enumerate(zip(signal_files, bpm_files)):\n",
    "\n",
    "    signals = loadmat(signal_file)[\"sig\"]\n",
    "    bpm = loadmat(bpm_file)['BPM0']\n",
    "\n",
    "    ppg1 = filter_butter(signals[1], fs)\n",
    "    ppg2 = filter_butter(signals[2], fs)\n",
    "    acc_x = filter_butter(signals[3], fs)\n",
    "    acc_y = filter_butter(signals[4], fs)\n",
    "    acc_z = filter_butter(signals[5], fs)\n",
    "\n",
    "    avg_ppg = (ppg1 + ppg2) / 2\n",
    "    acc = np.sqrt(acc_x**2 + acc_y**2 + acc_z**2)\n",
    "    ppg = preprocess_signal(avg_ppg)[:, :, np.newaxis]  # add concatenation axis\n",
    "    acc = preprocess_signal(acc)[:, :, np.newaxis]\n",
    "    combined_signal = np.concatenate((ppg, acc), axis=-1)  # Shape (W, T, 2)\n",
    "\n",
    "    signal_data = combined_signal[:-1]\n",
    "    if len(signal_data) != len(bpm):\n",
    "        print(\n",
    "                f\"bpm {len(bpm)}and signal_data {len(signal_data)} are not the same shape \"\n",
    "        )\n",
    "        signal_data = combined_signal[:]         \n",
    "      \n",
    "\n",
    "    print(len(signal_data))\n",
    "    print(len(bpm))\n",
    "    assert len(signal_data) == len(bpm)\n",
    "\n",
    "    participant_signals.append(signal_data)\n",
    "    participant_bpms.append(bpm)\n",
    "\n",
    "\n",
    "stacked_signals = np.stack(participant_signals, axis=0)\n",
    "stacked_bpms = np.stack(participant_bpms, axis=0)"
   ]
  },
  {
   "cell_type": "code",
   "execution_count": 13,
   "metadata": {},
   "outputs": [
    {
     "data": {
      "text/plain": [
       "array([-269.5, -267.5, -267.5, ..., -188.5, -209. , -232. ])"
      ]
     },
     "execution_count": 13,
     "metadata": {},
     "output_type": "execute_result"
    }
   ],
   "source": [
    "data['sig'][0]"
   ]
  },
  {
   "cell_type": "code",
   "execution_count": 10,
   "metadata": {},
   "outputs": [
    {
     "data": {
      "text/plain": [
       "(148, 1)"
      ]
     },
     "execution_count": 10,
     "metadata": {},
     "output_type": "execute_result"
    }
   ],
   "source": [
    "hr['BPM0'].shape"
   ]
  },
  {
   "cell_type": "markdown",
   "metadata": {},
   "source": []
  },
  {
   "cell_type": "code",
   "execution_count": 15,
   "metadata": {},
   "outputs": [
    {
     "data": {
      "text/plain": [
       "array([[-0.15877186, -0.73611433, -1.07146451, ..., -0.63894624,\n",
       "        -0.30886573,  0.17808868],\n",
       "       [-0.55416434, -0.31065377,  0.11754339, ..., -0.81839013,\n",
       "        -0.93625415, -0.84427809],\n",
       "       [-1.52729914, -0.58884415,  0.88678259, ..., -0.03825972,\n",
       "        -0.42902249, -1.08390654],\n",
       "       ...,\n",
       "       [-0.76582042, -1.04059837, -1.2869529 , ...,  0.35689532,\n",
       "         0.12570946, -0.08977534],\n",
       "       [ 1.40025155,  0.83537255,  0.45313321, ...,  0.93511269,\n",
       "         0.95084864,  0.79267789],\n",
       "       [-0.16112841, -0.03788694,  0.10030634, ...,  0.74729059,\n",
       "         0.80550889,  0.87048167]])"
      ]
     },
     "execution_count": 15,
     "metadata": {},
     "output_type": "execute_result"
    }
   ],
   "source": [
    "data['whole_dataset'][0][0]"
   ]
  },
  {
   "cell_type": "markdown",
   "metadata": {},
   "source": []
  },
  {
   "cell_type": "markdown",
   "metadata": {},
   "source": [
    "# Chapman "
   ]
  },
  {
   "cell_type": "code",
   "execution_count": 3,
   "metadata": {},
   "outputs": [],
   "source": [
    "datadir = \"C:/Users/cleme/ETH/Master/Thesis/data/Chapman/\"\n",
    "data = loadmat(datadir + \"chapman.mat\")\n"
   ]
  },
  {
   "cell_type": "code",
   "execution_count": 12,
   "metadata": {},
   "outputs": [
    {
     "data": {
      "text/plain": [
       "(1000, 4)"
      ]
     },
     "execution_count": 12,
     "metadata": {},
     "output_type": "execute_result"
    }
   ],
   "source": [
    "data['whole_data'][0][0].shape"
   ]
  },
  {
   "cell_type": "code",
   "execution_count": 23,
   "metadata": {},
   "outputs": [
    {
     "data": {
      "text/plain": [
       "(1000, 4)"
      ]
     },
     "execution_count": 23,
     "metadata": {},
     "output_type": "execute_result"
    }
   ],
   "source": [
    "df = pd.DataFrame(data['whole_data'])\n",
    "df[0].values[1].shape"
   ]
  },
  {
   "cell_type": "code",
   "execution_count": 26,
   "metadata": {},
   "outputs": [
    {
     "name": "stdout",
     "output_type": "stream",
     "text": [
      "[1 3 2 4]\n"
     ]
    },
    {
     "data": {
      "image/png": "[encoded data removed]",
      "text/plain": [
       "<Figure size 640x480 with 1 Axes>"
      ]
     },
     "metadata": {},
     "output_type": "display_data"
    }
   ],
   "source": [
    "df = pd.DataFrame(data['whole_data'])[1].apply(lambda x: x[0][0])\n",
    "plt.hist(df.values)\n",
    "print(df.unique())"
   ]
  }
 ],
 "metadata": {
  "kernelspec": {
   "display_name": "dsl",
   "language": "python",
   "name": "python3"
  },
  "language_info": {
   "codemirror_mode": {
    "name": "ipython",
    "version": 3
   },
   "file_extension": ".py",
   "mimetype": "text/x-python",
   "name": "python",
   "nbconvert_exporter": "python",
   "pygments_lexer": "ipython3",
   "version": "3.12.3"
  }
 },
 "nbformat": 4,
 "nbformat_minor": 2
}
