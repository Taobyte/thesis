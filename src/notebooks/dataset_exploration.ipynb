{
 "cells": [
  {
   "cell_type": "code",
   "execution_count": 7,
   "metadata": {},
   "outputs": [],
   "source": [
    "import os \n",
    "import glob\n",
    "import numpy as np\n",
    "import pandas as pd \n",
    "import matplotlib.pyplot as plt \n",
    "from scipy.io import loadmat\n"
   ]
  },
  {
   "cell_type": "markdown",
   "metadata": {},
   "source": [
    "# DaLiA Dataset"
   ]
  },
  {
   "cell_type": "code",
   "execution_count": null,
   "metadata": {},
   "outputs": [
    {
     "data": {
      "text/html": [
       "<div>\n",
       "<style scoped>\n",
       "    .dataframe tbody tr th:only-of-type {\n",
       "        vertical-align: middle;\n",
       "    }\n",
       "\n",
       "    .dataframe tbody tr th {\n",
       "        vertical-align: top;\n",
       "    }\n",
       "\n",
       "    .dataframe thead th {\n",
       "        text-align: right;\n",
       "    }\n",
       "</style>\n",
       "<table border=\"1\" class=\"dataframe\">\n",
       "  <thead>\n",
       "    <tr style=\"text-align: right;\">\n",
       "      <th></th>\n",
       "      <th>SUBJECT_ID</th>\n",
       "      <th>AGE</th>\n",
       "      <th>GENDER</th>\n",
       "      <th>HEIGHT</th>\n",
       "      <th>WEIGHT</th>\n",
       "      <th>SKIN</th>\n",
       "      <th>SPORT</th>\n",
       "    </tr>\n",
       "  </thead>\n",
       "  <tbody>\n",
       "    <tr>\n",
       "      <th>0</th>\n",
       "      <td>S1</td>\n",
       "      <td>34</td>\n",
       "      <td>m</td>\n",
       "      <td>182</td>\n",
       "      <td>78</td>\n",
       "      <td>3</td>\n",
       "      <td>6</td>\n",
       "    </tr>\n",
       "    <tr>\n",
       "      <th>1</th>\n",
       "      <td>S10</td>\n",
       "      <td>55</td>\n",
       "      <td>f</td>\n",
       "      <td>164</td>\n",
       "      <td>56</td>\n",
       "      <td>4</td>\n",
       "      <td>5</td>\n",
       "    </tr>\n",
       "    <tr>\n",
       "      <th>2</th>\n",
       "      <td>S11</td>\n",
       "      <td>24</td>\n",
       "      <td>f</td>\n",
       "      <td>168</td>\n",
       "      <td>62</td>\n",
       "      <td>3</td>\n",
       "      <td>5</td>\n",
       "    </tr>\n",
       "    <tr>\n",
       "      <th>3</th>\n",
       "      <td>S12</td>\n",
       "      <td>43</td>\n",
       "      <td>m</td>\n",
       "      <td>195</td>\n",
       "      <td>105</td>\n",
       "      <td>3</td>\n",
       "      <td>5</td>\n",
       "    </tr>\n",
       "    <tr>\n",
       "      <th>4</th>\n",
       "      <td>S13</td>\n",
       "      <td>21</td>\n",
       "      <td>f</td>\n",
       "      <td>170</td>\n",
       "      <td>63</td>\n",
       "      <td>3</td>\n",
       "      <td>6</td>\n",
       "    </tr>\n",
       "    <tr>\n",
       "      <th>5</th>\n",
       "      <td>S14</td>\n",
       "      <td>26</td>\n",
       "      <td>f</td>\n",
       "      <td>170</td>\n",
       "      <td>67</td>\n",
       "      <td>3</td>\n",
       "      <td>4</td>\n",
       "    </tr>\n",
       "    <tr>\n",
       "      <th>6</th>\n",
       "      <td>S15</td>\n",
       "      <td>28</td>\n",
       "      <td>m</td>\n",
       "      <td>183</td>\n",
       "      <td>79</td>\n",
       "      <td>2</td>\n",
       "      <td>5</td>\n",
       "    </tr>\n",
       "    <tr>\n",
       "      <th>7</th>\n",
       "      <td>S2</td>\n",
       "      <td>28</td>\n",
       "      <td>m</td>\n",
       "      <td>189</td>\n",
       "      <td>80</td>\n",
       "      <td>3</td>\n",
       "      <td>5</td>\n",
       "    </tr>\n",
       "    <tr>\n",
       "      <th>8</th>\n",
       "      <td>S3</td>\n",
       "      <td>25</td>\n",
       "      <td>m</td>\n",
       "      <td>170</td>\n",
       "      <td>60</td>\n",
       "      <td>3</td>\n",
       "      <td>5</td>\n",
       "    </tr>\n",
       "    <tr>\n",
       "      <th>9</th>\n",
       "      <td>S4</td>\n",
       "      <td>25</td>\n",
       "      <td>m</td>\n",
       "      <td>168</td>\n",
       "      <td>57</td>\n",
       "      <td>4</td>\n",
       "      <td>5</td>\n",
       "    </tr>\n",
       "    <tr>\n",
       "      <th>10</th>\n",
       "      <td>S5</td>\n",
       "      <td>21</td>\n",
       "      <td>f</td>\n",
       "      <td>180</td>\n",
       "      <td>70</td>\n",
       "      <td>3</td>\n",
       "      <td>4</td>\n",
       "    </tr>\n",
       "    <tr>\n",
       "      <th>11</th>\n",
       "      <td>S6</td>\n",
       "      <td>37</td>\n",
       "      <td>f</td>\n",
       "      <td>176</td>\n",
       "      <td>70</td>\n",
       "      <td>3</td>\n",
       "      <td>1</td>\n",
       "    </tr>\n",
       "    <tr>\n",
       "      <th>12</th>\n",
       "      <td>S7</td>\n",
       "      <td>21</td>\n",
       "      <td>f</td>\n",
       "      <td>168</td>\n",
       "      <td>58</td>\n",
       "      <td>3</td>\n",
       "      <td>2</td>\n",
       "    </tr>\n",
       "    <tr>\n",
       "      <th>13</th>\n",
       "      <td>S8</td>\n",
       "      <td>43</td>\n",
       "      <td>m</td>\n",
       "      <td>179</td>\n",
       "      <td>70</td>\n",
       "      <td>3</td>\n",
       "      <td>5</td>\n",
       "    </tr>\n",
       "    <tr>\n",
       "      <th>14</th>\n",
       "      <td>S9</td>\n",
       "      <td>28</td>\n",
       "      <td>f</td>\n",
       "      <td>167</td>\n",
       "      <td>60</td>\n",
       "      <td>4</td>\n",
       "      <td>5</td>\n",
       "    </tr>\n",
       "  </tbody>\n",
       "</table>\n",
       "</div>"
      ],
      "text/plain": [
       "   SUBJECT_ID  AGE GENDER HEIGHT WEIGHT SKIN SPORT\n",
       "0          S1   34      m    182     78    3     6\n",
       "1         S10   55      f    164     56    4     5\n",
       "2         S11   24      f    168     62    3     5\n",
       "3         S12   43      m    195    105    3     5\n",
       "4         S13   21      f    170     63    3     6\n",
       "5         S14   26      f    170     67    3     4\n",
       "6         S15   28      m    183     79    2     5\n",
       "7          S2   28      m    189     80    3     5\n",
       "8          S3   25      m    170     60    3     5\n",
       "9          S4   25      m    168     57    4     5\n",
       "10         S5   21      f    180     70    3     4\n",
       "11         S6   37      f    176     70    3     1\n",
       "12         S7   21      f    168     58    3     2\n",
       "13         S8   43      m    179     70    3     5\n",
       "14         S9   28      f    167     60    4     5"
      ]
     },
     "execution_count": 12,
     "metadata": {},
     "output_type": "execute_result"
    }
   ],
   "source": [
    "data_path = \"C:/Users/cleme/ETH/Master/Thesis/data/DaLiA/data/PPG_FieldStudy\"\n",
    "participant_paths = glob.glob(os.path.join(data_path, '**', '*_quest.csv'), recursive=True)\n",
    "series = []\n",
    "for participant in participant_paths:\n",
    "   row = pd.read_csv(participant, header=None).T\n",
    "   row.columns = [el.split(\" \")[1] for el in row.iloc[0]]\n",
    "   row = row.drop(row.index[0])\n",
    "   series.append(row) \n",
    "\n",
    "df = pd.concat(series, ignore_index=True)\n",
    "df"
   ]
  },
  {
   "cell_type": "markdown",
   "metadata": {},
   "source": [
    "# UCIHAR Dataset"
   ]
  },
  {
   "cell_type": "code",
   "execution_count": 35,
   "metadata": {},
   "outputs": [],
   "source": [
    "datadir = \"C:/Users/cleme/ETH/Master/Thesis/data/UCIHAR/UCI HAR Dataset/UCI HAR Dataset/test/\"\n",
    "x_train = np.loadtxt(datadir  + \"X_test.txt\")\n",
    "y_train = np.loadtxt(datadir + \"y_test.txt\")\n",
    "subjects = np.loadtxt(datadir + \"subject_test.txt\")"
   ]
  },
  {
   "cell_type": "code",
   "execution_count": null,
   "metadata": {},
   "outputs": [
    {
     "data": {
      "text/plain": [
       "array([ 2.,  4.,  9., 10., 12., 13., 18., 20., 24.])"
      ]
     },
     "execution_count": 38,
     "metadata": {},
     "output_type": "execute_result"
    }
   ],
   "source": [
    "pd.Series(subjects, dtype=int).unique()"
   ]
  },
  {
   "cell_type": "code",
   "execution_count": null,
   "metadata": {},
   "outputs": [
    {
     "data": {
      "text/plain": [
       "(7352, 128)"
      ]
     },
     "execution_count": 11,
     "metadata": {},
     "output_type": "execute_result"
    }
   ],
   "source": [
    "body_acc_x = np.loadtxt(datadir + \"Inertial Signals/body_acc_x_train.txt\")"
   ]
  },
  {
   "cell_type": "code",
   "execution_count": 14,
   "metadata": {},
   "outputs": [
    {
     "name": "stdout",
     "output_type": "stream",
     "text": [
      "(7352, 561)\n"
     ]
    }
   ],
   "source": [
    "print(x_train.shape)"
   ]
  },
  {
   "cell_type": "code",
   "execution_count": 19,
   "metadata": {},
   "outputs": [
    {
     "data": {
      "text/plain": [
       "array([ 1.,  3.,  5.,  6.,  7.,  8., 11., 14., 15., 16., 17., 19., 21.,\n",
       "       22., 23., 25., 26., 27., 28., 29., 30.])"
      ]
     },
     "execution_count": 19,
     "metadata": {},
     "output_type": "execute_result"
    }
   ],
   "source": [
    "pd.Series(subjects).unique()"
   ]
  },
  {
   "cell_type": "markdown",
   "metadata": {},
   "source": [
    "# Capture 24"
   ]
  },
  {
   "cell_type": "code",
   "execution_count": null,
   "metadata": {},
   "outputs": [
    {
     "name": "stderr",
     "output_type": "stream",
     "text": [
      "C:\\Users\\cleme\\AppData\\Local\\Temp\\ipykernel_20260\\1724369356.py:2: DtypeWarning: Columns (4) have mixed types. Specify dtype option on import or set low_memory=False.\n",
      "  df = pd.read_csv(datadir + \"P001.csv\")\n"
     ]
    },
    {
     "data": {
      "text/html": [
       "<div>\n",
       "<style scoped>\n",
       "    .dataframe tbody tr th:only-of-type {\n",
       "        vertical-align: middle;\n",
       "    }\n",
       "\n",
       "    .dataframe tbody tr th {\n",
       "        vertical-align: top;\n",
       "    }\n",
       "\n",
       "    .dataframe thead th {\n",
       "        text-align: right;\n",
       "    }\n",
       "</style>\n",
       "<table border=\"1\" class=\"dataframe\">\n",
       "  <thead>\n",
       "    <tr style=\"text-align: right;\">\n",
       "      <th></th>\n",
       "      <th>time</th>\n",
       "      <th>x</th>\n",
       "      <th>y</th>\n",
       "      <th>z</th>\n",
       "      <th>annotation</th>\n",
       "    </tr>\n",
       "  </thead>\n",
       "  <tbody>\n",
       "    <tr>\n",
       "      <th>0</th>\n",
       "      <td>2016-11-13 02:18:00.000000</td>\n",
       "      <td>-0.466690</td>\n",
       "      <td>-0.533341</td>\n",
       "      <td>0.658472</td>\n",
       "      <td>7030 sleeping;MET 0.95</td>\n",
       "    </tr>\n",
       "    <tr>\n",
       "      <th>1</th>\n",
       "      <td>2016-11-13 02:18:00.010000</td>\n",
       "      <td>-0.466690</td>\n",
       "      <td>-0.533341</td>\n",
       "      <td>0.658472</td>\n",
       "      <td>7030 sleeping;MET 0.95</td>\n",
       "    </tr>\n",
       "    <tr>\n",
       "      <th>2</th>\n",
       "      <td>2016-11-13 02:18:00.020000</td>\n",
       "      <td>-0.466690</td>\n",
       "      <td>-0.533341</td>\n",
       "      <td>0.658472</td>\n",
       "      <td>7030 sleeping;MET 0.95</td>\n",
       "    </tr>\n",
       "    <tr>\n",
       "      <th>3</th>\n",
       "      <td>2016-11-13 02:18:00.030000</td>\n",
       "      <td>-0.466690</td>\n",
       "      <td>-0.533341</td>\n",
       "      <td>0.658472</td>\n",
       "      <td>7030 sleeping;MET 0.95</td>\n",
       "    </tr>\n",
       "    <tr>\n",
       "      <th>4</th>\n",
       "      <td>2016-11-13 02:18:00.040000</td>\n",
       "      <td>-0.466690</td>\n",
       "      <td>-0.533341</td>\n",
       "      <td>0.658472</td>\n",
       "      <td>7030 sleeping;MET 0.95</td>\n",
       "    </tr>\n",
       "    <tr>\n",
       "      <th>...</th>\n",
       "      <td>...</td>\n",
       "      <td>...</td>\n",
       "      <td>...</td>\n",
       "      <td>...</td>\n",
       "      <td>...</td>\n",
       "    </tr>\n",
       "    <tr>\n",
       "      <th>10019996</th>\n",
       "      <td>2016-11-14 06:07:59.960000</td>\n",
       "      <td>0.049416</td>\n",
       "      <td>-0.797846</td>\n",
       "      <td>0.565700</td>\n",
       "      <td>7030 sleeping;MET 0.95</td>\n",
       "    </tr>\n",
       "    <tr>\n",
       "      <th>10019997</th>\n",
       "      <td>2016-11-14 06:07:59.970000</td>\n",
       "      <td>0.049416</td>\n",
       "      <td>-0.782285</td>\n",
       "      <td>0.565700</td>\n",
       "      <td>7030 sleeping;MET 0.95</td>\n",
       "    </tr>\n",
       "    <tr>\n",
       "      <th>10019998</th>\n",
       "      <td>2016-11-14 06:07:59.980000</td>\n",
       "      <td>0.049416</td>\n",
       "      <td>-0.782285</td>\n",
       "      <td>0.565700</td>\n",
       "      <td>7030 sleeping;MET 0.95</td>\n",
       "    </tr>\n",
       "    <tr>\n",
       "      <th>10019999</th>\n",
       "      <td>2016-11-14 06:07:59.990000</td>\n",
       "      <td>0.049416</td>\n",
       "      <td>-0.782285</td>\n",
       "      <td>0.565700</td>\n",
       "      <td>7030 sleeping;MET 0.95</td>\n",
       "    </tr>\n",
       "    <tr>\n",
       "      <th>10020000</th>\n",
       "      <td>2016-11-14 06:08:00.000000</td>\n",
       "      <td>0.049416</td>\n",
       "      <td>-0.782285</td>\n",
       "      <td>0.565700</td>\n",
       "      <td>7030 sleeping;MET 0.95</td>\n",
       "    </tr>\n",
       "  </tbody>\n",
       "</table>\n",
       "<p>10020001 rows × 5 columns</p>\n",
       "</div>"
      ],
      "text/plain": [
       "                                time         x         y         z  \\\n",
       "0         2016-11-13 02:18:00.000000 -0.466690 -0.533341  0.658472   \n",
       "1         2016-11-13 02:18:00.010000 -0.466690 -0.533341  0.658472   \n",
       "2         2016-11-13 02:18:00.020000 -0.466690 -0.533341  0.658472   \n",
       "3         2016-11-13 02:18:00.030000 -0.466690 -0.533341  0.658472   \n",
       "4         2016-11-13 02:18:00.040000 -0.466690 -0.533341  0.658472   \n",
       "...                              ...       ...       ...       ...   \n",
       "10019996  2016-11-14 06:07:59.960000  0.049416 -0.797846  0.565700   \n",
       "10019997  2016-11-14 06:07:59.970000  0.049416 -0.782285  0.565700   \n",
       "10019998  2016-11-14 06:07:59.980000  0.049416 -0.782285  0.565700   \n",
       "10019999  2016-11-14 06:07:59.990000  0.049416 -0.782285  0.565700   \n",
       "10020000  2016-11-14 06:08:00.000000  0.049416 -0.782285  0.565700   \n",
       "\n",
       "                      annotation  \n",
       "0         7030 sleeping;MET 0.95  \n",
       "1         7030 sleeping;MET 0.95  \n",
       "2         7030 sleeping;MET 0.95  \n",
       "3         7030 sleeping;MET 0.95  \n",
       "4         7030 sleeping;MET 0.95  \n",
       "...                          ...  \n",
       "10019996  7030 sleeping;MET 0.95  \n",
       "10019997  7030 sleeping;MET 0.95  \n",
       "10019998  7030 sleeping;MET 0.95  \n",
       "10019999  7030 sleeping;MET 0.95  \n",
       "10020000  7030 sleeping;MET 0.95  \n",
       "\n",
       "[10020001 rows x 5 columns]"
      ]
     },
     "execution_count": 20,
     "metadata": {},
     "output_type": "execute_result"
    }
   ],
   "source": [
    "datadir = \"C:/Users/cleme/ETH/Master/Thesis/data/Capture24/capture24/\"\n",
    "df = pd.read_csv(datadir + \"P001.csv\")\n",
    "df"
   ]
  },
  {
   "cell_type": "code",
   "execution_count": 21,
   "metadata": {},
   "outputs": [
    {
     "data": {
      "text/plain": [
       "10020001"
      ]
     },
     "execution_count": 21,
     "metadata": {},
     "output_type": "execute_result"
    }
   ],
   "source": [
    "len(df)"
   ]
  },
  {
   "cell_type": "markdown",
   "metadata": {},
   "source": [
    "# WildPPG"
   ]
  },
  {
   "cell_type": "code",
   "execution_count": null,
   "metadata": {},
   "outputs": [],
   "source": [
    "datadir = \"C:/Users/cleme/ETH/Master/Thesis/data/WildPPG/data/\"\n",
    "file_path = datadir + \"WildPPG_Part_an0.mat\"\n",
    "#data = loadmat(file_path)"
   ]
  },
  {
   "cell_type": "code",
   "execution_count": 5,
   "metadata": {},
   "outputs": [],
   "source": [
    "from pathlib import Path \n",
    "datadir = Path(datadir)\n",
    "lengths = []\n",
    "for path in datadir.glob('*.mat'):\n",
    "    data = loadmat(path)\n",
    "    lengths.append(data['wrist']['acc_x'][0][0][0][0][2].shape[1])\n",
    "    del data"
   ]
  },
  {
   "cell_type": "code",
   "execution_count": null,
   "metadata": {},
   "outputs": [
    {
     "data": {
      "text/plain": [
       "[5679104,\n",
       " 5690368,\n",
       " 6162432,\n",
       " 7018496,\n",
       " 6169600,\n",
       " 6137856,\n",
       " 6103040,\n",
       " 6768640,\n",
       " 6664192,\n",
       " 5762048,\n",
       " 6066176,\n",
       " 5835776,\n",
       " 6633472,\n",
       " 6691840,\n",
       " 6107136,\n",
       " 6405120]"
      ]
     },
     "execution_count": 6,
     "metadata": {},
     "output_type": "execute_result"
    }
   ],
   "source": [
    "lengths"
   ]
  },
  {
   "cell_type": "code",
   "execution_count": 14,
   "metadata": {},
   "outputs": [
    {
     "data": {
      "text/plain": [
       "['an0',\n",
       " 'e61',\n",
       " 'fex',\n",
       " 'k2s',\n",
       " 'kjd',\n",
       " 'l38',\n",
       " 'n31',\n",
       " 'ngh',\n",
       " 'p5d',\n",
       " 'p9p',\n",
       " 'qm9',\n",
       " 'ssx',\n",
       " 'trh',\n",
       " 'tz8',\n",
       " 'u7y',\n",
       " 'w4p']"
      ]
     },
     "execution_count": 14,
     "metadata": {},
     "output_type": "execute_result"
    }
   ],
   "source": [
    "names = []\n",
    "for path in datadir.glob(\"*.mat\"):\n",
    "    names.append(str(path).split(\"_\")[-1][:3])\n",
    "names"
   ]
  },
  {
   "cell_type": "markdown",
   "metadata": {},
   "source": [
    "# IEEE Dataset"
   ]
  },
  {
   "cell_type": "code",
   "execution_count": 16,
   "metadata": {},
   "outputs": [],
   "source": [
    "datadir = \"C:/Users/cleme/ETH/Master/Thesis/data/IEEEPPG/\"\n",
    "file_path = datadir + \"IEEE_Big.mat\"\n",
    "data = loadmat(file_path)"
   ]
  },
  {
   "cell_type": "code",
   "execution_count": 32,
   "metadata": {},
   "outputs": [
    {
     "data": {
      "text/plain": [
       "array([array([[-0.15877186, -0.73611433, -1.07146451, ..., -0.63894624,\n",
       "               -0.30886573,  0.17808868],\n",
       "              [-0.55416434, -0.31065377,  0.11754339, ..., -0.81839013,\n",
       "               -0.93625415, -0.84427809],\n",
       "              [-1.52729914, -0.58884415,  0.88678259, ..., -0.03825972,\n",
       "               -0.42902249, -1.08390654],\n",
       "              ...,\n",
       "              [-0.76582042, -1.04059837, -1.2869529 , ...,  0.35689532,\n",
       "                0.12570946, -0.08977534],\n",
       "              [ 1.40025155,  0.83537255,  0.45313321, ...,  0.93511269,\n",
       "                0.95084864,  0.79267789],\n",
       "              [-0.16112841, -0.03788694,  0.10030634, ...,  0.74729059,\n",
       "                0.80550889,  0.87048167]])                             ,\n",
       "       array([[33],\n",
       "              [30],\n",
       "              [29],\n",
       "              [29],\n",
       "              [30],\n",
       "              [29],\n",
       "              [30],\n",
       "              [31],\n",
       "              [33],\n",
       "              [38],\n",
       "              [41],\n",
       "              [45],\n",
       "              [46],\n",
       "              [47],\n",
       "              [46],\n",
       "              [44],\n",
       "              [40],\n",
       "              [35],\n",
       "              [32],\n",
       "              [30],\n",
       "              [31],\n",
       "              [36],\n",
       "              [41],\n",
       "              [44],\n",
       "              [43],\n",
       "              [34],\n",
       "              [43],\n",
       "              [45],\n",
       "              [47],\n",
       "              [46],\n",
       "              [47],\n",
       "              [48],\n",
       "              [50],\n",
       "              [52],\n",
       "              [51],\n",
       "              [49],\n",
       "              [45],\n",
       "              [41],\n",
       "              [39],\n",
       "              [39],\n",
       "              [43],\n",
       "              [47],\n",
       "              [50],\n",
       "              [51],\n",
       "              [48],\n",
       "              [47],\n",
       "              [45],\n",
       "              [45],\n",
       "              [43],\n",
       "              [40],\n",
       "              [36],\n",
       "              [35],\n",
       "              [36],\n",
       "              [36],\n",
       "              [36],\n",
       "              [37],\n",
       "              [38],\n",
       "              [38],\n",
       "              [40],\n",
       "              [41],\n",
       "              [44],\n",
       "              [48],\n",
       "              [48],\n",
       "              [49],\n",
       "              [50],\n",
       "              [54],\n",
       "              [56],\n",
       "              [52],\n",
       "              [46],\n",
       "              [39],\n",
       "              [36],\n",
       "              [37],\n",
       "              [37],\n",
       "              [34],\n",
       "              [32],\n",
       "              [31],\n",
       "              [33],\n",
       "              [35],\n",
       "              [39],\n",
       "              [40],\n",
       "              [44],\n",
       "              [46],\n",
       "              [41],\n",
       "              [37],\n",
       "              [31],\n",
       "              [30],\n",
       "              [31],\n",
       "              [32],\n",
       "              [36],\n",
       "              [42],\n",
       "              [45],\n",
       "              [45],\n",
       "              [43],\n",
       "              [42],\n",
       "              [45],\n",
       "              [47],\n",
       "              [49],\n",
       "              [52],\n",
       "              [53],\n",
       "              [52],\n",
       "              [49],\n",
       "              [47],\n",
       "              [45],\n",
       "              [44],\n",
       "              [43],\n",
       "              [43],\n",
       "              [44],\n",
       "              [43],\n",
       "              [38],\n",
       "              [36],\n",
       "              [38],\n",
       "              [42],\n",
       "              [41],\n",
       "              [40],\n",
       "              [38],\n",
       "              [42],\n",
       "              [46],\n",
       "              [51],\n",
       "              [54],\n",
       "              [58],\n",
       "              [58],\n",
       "              [58],\n",
       "              [56],\n",
       "              [55],\n",
       "              [55],\n",
       "              [55],\n",
       "              [56],\n",
       "              [60],\n",
       "              [62],\n",
       "              [65],\n",
       "              [68],\n",
       "              [71],\n",
       "              [72],\n",
       "              [70],\n",
       "              [66],\n",
       "              [63],\n",
       "              [62],\n",
       "              [63],\n",
       "              [64],\n",
       "              [66],\n",
       "              [64],\n",
       "              [60]], dtype=uint8)], dtype=object)"
      ]
     },
     "execution_count": 32,
     "metadata": {},
     "output_type": "execute_result"
    }
   ],
   "source": [
    "data['whole_dataset'][0]"
   ]
  },
  {
   "cell_type": "markdown",
   "metadata": {},
   "source": []
  },
  {
   "cell_type": "code",
   "execution_count": null,
   "metadata": {},
   "outputs": [],
   "source": []
  }
 ],
 "metadata": {
  "kernelspec": {
   "display_name": "dsl",
   "language": "python",
   "name": "python3"
  },
  "language_info": {
   "codemirror_mode": {
    "name": "ipython",
    "version": 3
   },
   "file_extension": ".py",
   "mimetype": "text/x-python",
   "name": "python",
   "nbconvert_exporter": "python",
   "pygments_lexer": "ipython3",
   "version": "3.12.3"
  }
 },
 "nbformat": 4,
 "nbformat_minor": 2
}
